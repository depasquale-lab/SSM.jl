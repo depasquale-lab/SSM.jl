{
 "cells": [
  {
   "cell_type": "code",
   "execution_count": 1,
   "metadata": {},
   "outputs": [
    {
     "name": "stderr",
     "output_type": "stream",
     "text": [
      "\u001b[32m\u001b[1m  Activating\u001b[22m\u001b[39m project at `\\Users\\ryansenne\\Documents\\Github\\SSM`\n"
     ]
    }
   ],
   "source": [
    "using Pkg\n",
    "Pkg.activate(\"/Users/ryansenne/Documents/Github/SSM/\")\n",
    "# Pkg.activate(\"/home/ryansenne/PycharmProjects/ssm_julia/\")"
   ]
  },
  {
   "cell_type": "code",
   "execution_count": 2,
   "metadata": {},
   "outputs": [],
   "source": [
    "include(\"/Users/ryansenne/Documents/Github/SSM//src/SSM.jl\")\n",
    "# include(\"/home/ryansenne/PycharmProjects/ssm_julia/src/SSM.jl\")\n",
    "using Random\n",
    "using .SSM\n",
    "using Distributions\n",
    "using Plots\n",
    "using LinearAlgebra\n",
    "using ForwardDiff\n",
    "using StatsFuns\n",
    "using Optim"
   ]
  },
  {
   "cell_type": "code",
   "execution_count": 4,
   "metadata": {},
   "outputs": [
    {
     "data": {
      "text/plain": [
       "2-element Vector{Float64}:\n",
       " -0.2254724389883398\n",
       "  1.1635789534220071"
      ]
     },
     "metadata": {},
     "output_type": "display_data"
    }
   ],
   "source": [
    "# generate synthetic data\n",
    "Random.seed!(123)\n",
    "\n",
    "# set parameters\n",
    "n = 100\n",
    "β = [0.1, 0.9]\n",
    "\n",
    "# generate data\n",
    "X = hcat(ones(n), randn(n, 1))\n",
    "\n",
    "p = logistic.(X * β)\n",
    "y = rand.(Bernoulli.(p));\n",
    "\n",
    "logreg = SSM.BernoulliRegression()\n",
    "SSM.fit!(logreg, reshape(X[:, 2], length(y), 1), y)"
   ]
  },
  {
   "cell_type": "code",
   "execution_count": 6,
   "metadata": {},
   "outputs": [
    {
     "name": "stdout",
     "output_type": "stream",
     "text": [
      "Log-Likelihood at iter 1: -60.63999840059348\n",
      "Log-Likelihood at iter 2: -58.716157104346955\n",
      "Log-Likelihood at iter 3: -58.65914431475913\n",
      "Log-Likelihood at iter 4: -58.6334069835488\n",
      "Log-Likelihood at iter 5: -58.621134223960375\n",
      "Log-Likelihood at iter 6: -58.61466348073864\n",
      "Log-Likelihood at iter 7: -58.61055306265681\n",
      "Log-Likelihood at iter 8: -58.60738390190144\n",
      "Log-Likelihood at iter 9: -58.60462866644438\n",
      "Log-Likelihood at iter 10: -58.60212085969285\n",
      "Log-Likelihood at iter 11: -58.599822807315974\n",
      "Log-Likelihood at iter 12: -58.597731881580245\n",
      "Log-Likelihood at iter 13: -58.59584712607942\n",
      "Log-Likelihood at iter 14: -58.59416052827664\n",
      "Log-Likelihood at iter 15: -58.59265722625968\n",
      "Log-Likelihood at iter 16: -58.59131815054471\n",
      "Log-Likelihood at iter 17: -58.59012266091704\n",
      "Log-Likelihood at iter 18: -58.58905047266244\n",
      "Log-Likelihood at iter 19: -58.5880828315609\n",
      "Log-Likelihood at iter 20: -58.58720308597043\n",
      "Log-Likelihood at iter 21: -58.58639686646999\n",
      "Log-Likelihood at iter 22: -58.58565201471365\n",
      "Log-Likelihood at iter 23: -58.58495838741218\n",
      "Log-Likelihood at iter 24: -58.58430760117646\n",
      "Log-Likelihood at iter 25: -58.58369277032632\n",
      "Log-Likelihood at iter 26: -58.583108258983685\n",
      "Log-Likelihood at iter 27: -58.58254945938718\n",
      "Log-Likelihood at iter 28: -58.582012602178885\n",
      "Log-Likelihood at iter 29: -58.581494597121846\n",
      "Log-Likelihood at iter 30: -58.58099290214369\n",
      "Log-Likelihood at iter 31: -58.58050541677043\n",
      "Log-Likelihood at iter 32: -58.580030396486826\n",
      "Log-Likelihood at iter 33: -58.57956638403237\n",
      "Log-Likelihood at iter 34: -58.57911215484659\n",
      "Log-Likelihood at iter 35: -58.5786666736432\n",
      "Log-Likelihood at iter 36: -58.57822906038034\n",
      "Log-Likelihood at iter 37: -58.577798561642346\n",
      "Log-Likelihood at iter 38: -58.577374530137156\n",
      "Log-Likelihood at iter 39: -58.57695640652484\n",
      "Log-Likelihood at iter 40: -58.57654370526912\n",
      "Log-Likelihood at iter 41: -58.57613600363152\n",
      "Log-Likelihood at iter 42: -58.57573293210854\n",
      "Log-Likelihood at iter 43: -58.57533416689567\n",
      "Log-Likelihood at iter 44: -58.5749394237448\n",
      "Log-Likelihood at iter 45: -58.57454845275085\n",
      "Log-Likelihood at iter 46: -58.574161032991455\n",
      "Log-Likelihood at iter 47: -58.5737769707373\n",
      "Log-Likelihood at iter 48: -58.57339609456922\n",
      "Log-Likelihood at iter 49: -58.57301825326466\n",
      "Log-Likelihood at iter 50: -58.57264331347149\n",
      "Log-Likelihood at iter 51: -58.572271157592915\n",
      "Log-Likelihood at iter 52: -58.571901681906844\n",
      "Log-Likelihood at iter 53: -58.57153479525245\n",
      "Log-Likelihood at iter 54: -58.57117041717976\n",
      "Log-Likelihood at iter 55: -58.57080847733562\n",
      "Log-Likelihood at iter 56: -58.57044891393377\n",
      "Log-Likelihood at iter 57: -58.57009167280179\n",
      "Log-Likelihood at iter 58: -58.569736706757176\n",
      "Log-Likelihood at iter 59: -58.56938397476527\n",
      "Log-Likelihood at iter 60: -58.56903344117242\n",
      "Log-Likelihood at iter 61: -58.568685074805074\n",
      "Log-Likelihood at iter 62: -58.568338849270525\n",
      "Log-Likelihood at iter 63: -58.567994741873356\n",
      "Log-Likelihood at iter 64: -58.56765273298406\n",
      "Log-Likelihood at iter 65: -58.567312805971\n",
      "Log-Likelihood at iter 66: -58.56697494703056\n",
      "Log-Likelihood at iter 67: -58.56663914476548\n",
      "Log-Likelihood at iter 68: -58.56630538909524\n",
      "Log-Likelihood at iter 69: -58.56597367223641\n",
      "Log-Likelihood at iter 70: -58.565643987751656\n",
      "Log-Likelihood at iter 71: -58.56531633060375\n",
      "Log-Likelihood at iter 72: -58.56499069679292\n",
      "Log-Likelihood at iter 73: -58.564667083357776\n",
      "Log-Likelihood at iter 74: -58.56434548808367\n",
      "Log-Likelihood at iter 75: -58.56402590974344\n",
      "Log-Likelihood at iter 76: -58.56370834650385\n",
      "Log-Likelihood at iter 77: -58.56339279881375\n",
      "Log-Likelihood at iter 78: -58.56307926618868\n",
      "Log-Likelihood at iter 79: -58.56276774883482\n",
      "Log-Likelihood at iter 80: -58.562458247174824\n",
      "Log-Likelihood at iter 81: -58.562150761596435\n",
      "Log-Likelihood at iter 82: -58.56184529284947\n",
      "Log-Likelihood at iter 83: -58.5615418413283\n",
      "Log-Likelihood at iter 84: -58.56124040781784\n",
      "Log-Likelihood at iter 85: -58.56094099240988\n",
      "Log-Likelihood at iter 86: -58.56064359635029\n",
      "Log-Likelihood at iter 87: -58.56034821927301\n",
      "Log-Likelihood at iter 88: -58.560054861477916\n",
      "Log-Likelihood at iter 89: -58.5597635227805\n",
      "Log-Likelihood at iter 90: -58.559474203026774\n",
      "Log-Likelihood at iter 91: -58.559186901489994\n",
      "Log-Likelihood at iter 92: -58.558901617604405\n",
      "Log-Likelihood at iter 93: -58.55861835016518\n",
      "Log-Likelihood at iter 94: -58.55833709753887\n",
      "Log-Likelihood at iter 95: -58.55805785917444\n",
      "Log-Likelihood at iter 96: -58.557780632262975\n",
      "Log-Likelihood at iter 97: -58.55750541473512\n",
      "Log-Likelihood at iter 98: -58.557232204206876\n",
      "Log-Likelihood at iter 99: -58.55696099769719\n",
      "Log-Likelihood at iter 100: -58.556691792127374\n"
     ]
    },
    {
     "data": {
      "text/plain": [
       "101-element Vector{Float64}:\n",
       " -Inf\n",
       " -60.63999840059348\n",
       " -58.716157104346955\n",
       " -58.65914431475913\n",
       " -58.6334069835488\n",
       " -58.621134223960375\n",
       " -58.61466348073864\n",
       " -58.61055306265681\n",
       " -58.60738390190144\n",
       " -58.60462866644438\n",
       "   ⋮\n",
       " -58.558901617604405\n",
       " -58.55861835016518\n",
       " -58.55833709753887\n",
       " -58.55805785917444\n",
       " -58.557780632262975\n",
       " -58.55750541473512\n",
       " -58.557232204206876\n",
       " -58.55696099769719\n",
       " -58.556691792127374"
      ]
     },
     "metadata": {},
     "output_type": "display_data"
    }
   ],
   "source": [
    "model = SSM.SwitchingBernoulliRegression(;K=2, λ=0.1)\n",
    "SSM.fit!(model, reshape(X[:, 2], length(y), 1), y)"
   ]
  },
  {
   "cell_type": "code",
   "execution_count": 9,
   "metadata": {},
   "outputs": [
    {
     "data": {
      "text/plain": [
       "2-element Vector{Float64}:\n",
       " 0.17487914508365066\n",
       " 0.947349969129698"
      ]
     },
     "metadata": {},
     "output_type": "display_data"
    }
   ],
   "source": [
    "# synthetic poisson regression data\n",
    "Random.seed!(123)\n",
    "\n",
    "# set parameters\n",
    "n = 100\n",
    "β = [0.1, 0.9]\n",
    "# generate data\n",
    "\n",
    "X = hcat(ones(n), randn(n, 1))\n",
    "λ = exp.(X * β)\n",
    "\n",
    "y = rand.(Poisson.(λ))\n",
    "\n",
    "poisreg = SSM.PoissonRegression()\n",
    "SSM.fit!(poisreg, reshape(X[:, 2], length(y), 1), y)"
   ]
  }
 ],
 "metadata": {
  "kernelspec": {
   "display_name": "Julia 1.9.3",
   "language": "julia",
   "name": "julia-1.9"
  },
  "language_info": {
   "file_extension": ".jl",
   "mimetype": "application/julia",
   "name": "julia",
   "version": "1.9.3"
  }
 },
 "nbformat": 4,
 "nbformat_minor": 2
}
