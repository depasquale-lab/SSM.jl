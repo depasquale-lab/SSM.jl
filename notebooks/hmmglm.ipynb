{
 "cells": [
  {
   "cell_type": "code",
   "execution_count": 1,
   "metadata": {},
   "outputs": [
    {
     "name": "stderr",
     "output_type": "stream",
     "text": [
      "\u001b[32m\u001b[1m  Activating\u001b[22m\u001b[39m project at `\\Users\\ryansenne\\Documents\\Github\\SSM`\n"
     ]
    }
   ],
   "source": [
    "using Pkg\n",
    "Pkg.activate(\"/Users/ryansenne/Documents/Github/SSM/\")\n",
    "# Pkg.activate(\"/home/ryansenne/PycharmProjects/ssm_julia/\")"
   ]
  },
  {
   "cell_type": "code",
   "execution_count": 2,
   "metadata": {},
   "outputs": [],
   "source": [
    "include(\"/Users/ryansenne/Documents/Github/SSM//src/SSM.jl\")\n",
    "# include(\"/home/ryansenne/PycharmProjects/ssm_julia/src/SSM.jl\")\n",
    "using Random\n",
    "using .SSM\n",
    "using Distributions"
   ]
  },
  {
   "cell_type": "markdown",
   "metadata": {},
   "source": [
    "### Gaussian GLM Example"
   ]
  },
  {
   "cell_type": "code",
   "execution_count": 3,
   "metadata": {},
   "outputs": [
    {
     "data": {
      "text/plain": [
       "4-element Vector{Float64}:\n",
       "  1.963508062948609\n",
       "  3.0472521214354646\n",
       " -4.032847152584493\n",
       "  5.085586252239004"
      ]
     },
     "metadata": {},
     "output_type": "display_data"
    }
   ],
   "source": [
    "# Fit a Gaussian GLM\n",
    "# Generate some synthetic data\n",
    "X = rand(10000, 3);  # 100 samples, 3 features;\n",
    "# Add a column of ones to represent the intercept term\n",
    "X_concat = hcat(ones(10000), X)\n",
    "β = [2, 3, -4, 5]\n",
    "y = X_concat * β + rand(Normal(0, 1), 10000)\n",
    "\n",
    "# define a GLM\n",
    "glm = GaussianRegression(X, y)\n",
    "fit!(glm, 1000)"
   ]
  },
  {
   "cell_type": "markdown",
   "metadata": {},
   "source": [
    "### Poisson GLM Example"
   ]
  },
  {
   "cell_type": "code",
   "execution_count": 4,
   "metadata": {},
   "outputs": [
    {
     "data": {
      "text/plain": [
       "4-element Vector{Float64}:\n",
       "  1.9972876910665238\n",
       "  3.0018761978448465\n",
       " -4.001568346180793\n",
       "  5.002617122785103"
      ]
     },
     "metadata": {},
     "output_type": "display_data"
    }
   ],
   "source": [
    "# Fit a Poisson GLM\n",
    "# Generate some synthetic data\n",
    "X = rand(10000, 3);  # 100 samples, 3 features;\n",
    "# Add a column of ones to represent the intercept term\n",
    "X_concat = hcat(ones(10000), X)\n",
    "β = [2, 3, -4, 5]\n",
    "\n",
    "# Generate some synthetic data\n",
    "y = Vector{Float64}(rand.(Poisson.(exp.(X_concat * β))))\n",
    "\n",
    "# define a GLM\n",
    "glm = PoissonRegression(X, y)\n",
    "fit!(glm, 1000)\n"
   ]
  },
  {
   "cell_type": "markdown",
   "metadata": {},
   "source": [
    "### Binomial GLM Example (i.e. logistic regression)"
   ]
  },
  {
   "cell_type": "code",
   "execution_count": 3,
   "metadata": {},
   "outputs": [
    {
     "data": {
      "text/plain": [
       "4-element Vector{Float64}:\n",
       "  1.8285295895751685\n",
       "  3.0115236069793356\n",
       " -3.778705515037161\n",
       "  5.156155128038023"
      ]
     },
     "metadata": {},
     "output_type": "display_data"
    }
   ],
   "source": [
    "# sigmoid function\n",
    "function sigmoid(x)\n",
    "    return 1 / (1 + exp(-x))\n",
    "end\n",
    "\n",
    "# Fit a Binomial GLM\n",
    "# Generate some synthetic data\n",
    "X = rand(10000, 3); # 1000 samples, 3 features;\n",
    "# Add a column of ones to represent the intercept term\n",
    "X_concat = hcat(ones(10000), X)\n",
    "β = [2, 3, -4, 5]\n",
    "\n",
    "# Generate some synthetic data\n",
    "y = Vector{Float64}(rand.(Binomial.(1, sigmoid.(X_concat * β))))\n",
    "\n",
    "# define a GLM\n",
    "glm = BinomialRegression(X, y)\n",
    "fit!(glm, 1000)"
   ]
  },
  {
   "cell_type": "markdown",
   "metadata": {},
   "source": [
    "# Autoregressive Model"
   ]
  },
  {
   "cell_type": "code",
   "execution_count": 3,
   "metadata": {},
   "outputs": [
    {
     "data": {
      "text/plain": [
       "0.9538958584342558"
      ]
     },
     "metadata": {},
     "output_type": "display_data"
    }
   ],
   "source": [
    "# simulate AR(1) model\n",
    "init_val = 0.0\n",
    "phi = 0.9\n",
    "sigma = 1.0\n",
    "T = 1000\n",
    "y = Vector{Float64}(undef, T)\n",
    "y[1] = init_val\n",
    "for t in 2:T\n",
    "    y[t] = phi * y[t-1] + rand(Normal(0, sigma))\n",
    "end\n",
    "\n",
    "ar_1 = Autoregression(y, 1)\n",
    "fit!(ar_1)"
   ]
  },
  {
   "cell_type": "code",
   "execution_count": 3,
   "metadata": {},
   "outputs": [
    {
     "name": "stdout",
     "output_type": "stream",
     "text": [
      "Iteration: 1, Log-likelihood: -908.4401059544339\n",
      "Iteration: 2, Log-likelihood: -906.5738878276048\n",
      "Iteration: 3, Log-likelihood: -905.4639984734732\n",
      "Iteration: 4, Log-likelihood: -904.2764353233149\n",
      "Iteration: 5, Log-likelihood: -902.8829726080554\n",
      "Iteration: 6, Log-likelihood: -901.2188366288901\n",
      "Iteration: 7, Log-likelihood: -899.2175681843619\n",
      "Iteration: 8, Log-likelihood: -896.8000873473582\n",
      "Iteration: 9, Log-likelihood: -893.875661914992\n",
      "Iteration: 10, Log-likelihood: -890.3527225617067\n",
      "Iteration: 11, Log-likelihood: -886.1607450333303\n",
      "Iteration: 12, Log-likelihood: -881.2674028585702\n",
      "Iteration: 13, Log-likelihood: -875.6614840802282\n",
      "Iteration: 14, Log-likelihood: -869.3606110852567\n",
      "Iteration: 15, Log-likelihood: -862.5357673685215\n",
      "Iteration: 16, Log-likelihood: -855.3197555105721\n",
      "Iteration: 17, Log-likelihood: -847.531382316455\n",
      "Iteration: 18, Log-likelihood: -840.2504486242824\n",
      "Iteration: 19, Log-likelihood: -836.3892460724626\n",
      "Iteration: 20, Log-likelihood: -835.4224818952275\n",
      "Iteration: 21, Log-likelihood: -835.1985818020937\n",
      "Iteration: 22, Log-likelihood: -835.1268149489292\n",
      "Convergence reached at iteration 22\n"
     ]
    },
    {
     "ename": "DomainError",
     "evalue": "DomainError with -100.61267674568039:\nlog will only return a complex result if called with a complex argument. Try log(Complex(x)).",
     "output_type": "error",
     "traceback": [
      "DomainError with -100.61267674568039:\n",
      "log will only return a complex result if called with a complex argument. Try log(Complex(x)).\n",
      "\n",
      "Stacktrace:\n",
      "  [1] throw_complex_domainerror(f::Symbol, x::Float64)\n",
      "    @ Base.Math .\\math.jl:33\n",
      "  [2] _log(x::Float64, base::Val{:ℯ}, func::Symbol)\n",
      "    @ Base.Math .\\special\\log.jl:301\n",
      "  [3] log\n",
      "    @ .\\special\\log.jl:267 [inlined]\n",
      "  [4] _broadcast_getindex_evalf\n",
      "    @ .\\broadcast.jl:683 [inlined]\n",
      "  [5] _broadcast_getindex\n",
      "    @ .\\broadcast.jl:656 [inlined]\n",
      "  [6] _getindex\n",
      "    @ .\\broadcast.jl:680 [inlined]\n",
      "  [7] _getindex\n",
      "    @ .\\broadcast.jl:679 [inlined]\n",
      "  [8] _broadcast_getindex\n",
      "    @ .\\broadcast.jl:655 [inlined]\n",
      "  [9] getindex\n",
      "    @ .\\broadcast.jl:610 [inlined]\n",
      " [10] macro expansion\n",
      "    @ .\\broadcast.jl:974 [inlined]\n",
      " [11] macro expansion\n",
      "    @ .\\simdloop.jl:77 [inlined]\n",
      " [12] copyto!\n",
      "    @ .\\broadcast.jl:973 [inlined]\n",
      " [13] copyto!\n",
      "    @ .\\broadcast.jl:926 [inlined]\n",
      " [14] copy\n",
      "    @ .\\broadcast.jl:898 [inlined]\n",
      " [15] materialize(bc::Base.Broadcast.Broadcasted{Base.Broadcast.DefaultArrayStyle{1}, Nothing, typeof(+), Tuple{Float64, Base.Broadcast.Broadcasted{Base.Broadcast.DefaultArrayStyle{1}, Nothing, typeof(log), Tuple{Base.Broadcast.Broadcasted{Base.Broadcast.DefaultArrayStyle{1}, Nothing, typeof(+), Tuple{Vector{Float64}, Vector{Float64}}}}}}})\n",
      "    @ Base.Broadcast .\\broadcast.jl:873\n",
      " [16] update_variance!(model::SwitchingGaussianRegression{Float64}, γ::Matrix{Float64})\n",
      "    @ Main.SSM .\\Users\\ryansenne\\Documents\\Github\\SSM\\src\\MarkovRegression.jl:116\n",
      " [17] SwitchingGaussianRegression(y::Vector{Float64}, X::Matrix{Float64}, k::Int64)\n",
      "    @ Main.SSM .\\Users\\ryansenne\\Documents\\Github\\SSM\\src\\MarkovRegression.jl:50\n",
      " [18] top-level scope\n",
      "    @ c:\\Users\\ryansenne\\Documents\\GitHub\\SSM\\notebooks\\hmmglm.ipynb:21"
     ]
    }
   ],
   "source": [
    "# try out markov glm\n",
    "\n",
    "# Generate synthetic data from two distinct regimes\n",
    "X = rand(100, 3); # 1000 samples, 3 features;\n",
    "# Add a column of ones to represent the intercept term\n",
    "X_concat = hcat(ones(100), X)\n",
    "β₁ = [-20, -30, -40, 50]\n",
    "β₂ = [6, 7, 8, -9]\n",
    "\n",
    "# Generate some synthetic data\n",
    "y₁ = X_concat * β₁ + rand(Normal(0, 0.1), 100)\n",
    "y₂ = X_concat * β₂ + rand(Normal(0, 1), 100)\n",
    "\n",
    "# concatenate X1 and X2\n",
    "x = vcat(X, X)\n",
    "\n",
    "# concatenate y1 and y2\n",
    "y = vcat(y₁, y₂)\n",
    "\n",
    "# define a Gaussian HMMGLM\n",
    "glm = SwitchingGaussianRegression(y, x, 2)\n",
    "\n",
    "MarkovRegressionEM(glm)"
   ]
  },
  {
   "cell_type": "code",
   "execution_count": 4,
   "metadata": {},
   "outputs": [
    {
     "data": {
      "text/plain": [
       "2-element Vector{Float64}:\n",
       " NaN\n",
       " NaN"
      ]
     },
     "metadata": {},
     "output_type": "display_data"
    }
   ],
   "source": [
    "glm.σ²"
   ]
  },
  {
   "cell_type": "code",
   "execution_count": 5,
   "metadata": {},
   "outputs": [
    {
     "data": {
      "text/plain": [
       "4-element Vector{Float64}:\n",
       " -20.058395420154884\n",
       " -28.413295346218813\n",
       " -38.62800924981708\n",
       "  48.29198573140382"
      ]
     },
     "metadata": {},
     "output_type": "display_data"
    }
   ],
   "source": [
    "glm.B[2].regression_model.β"
   ]
  }
 ],
 "metadata": {
  "kernelspec": {
   "display_name": "Julia 1.9.3",
   "language": "julia",
   "name": "julia-1.9"
  },
  "language_info": {
   "file_extension": ".jl",
   "mimetype": "application/julia",
   "name": "julia",
   "version": "1.9.3"
  }
 },
 "nbformat": 4,
 "nbformat_minor": 2
}
