{
 "cells": [
  {
   "cell_type": "code",
   "execution_count": 1,
   "metadata": {},
   "outputs": [
    {
     "name": "stderr",
     "output_type": "stream",
     "text": [
      "\u001b[32m\u001b[1m  Activating\u001b[22m\u001b[39m project at `~/PycharmProjects/ssm_julia`\n"
     ]
    }
   ],
   "source": [
    "using Pkg\n",
    "Pkg.activate(\"/home/ryansenne/PycharmProjects/ssm_julia\")"
   ]
  },
  {
   "cell_type": "code",
   "execution_count": 2,
   "metadata": {},
   "outputs": [],
   "source": [
    "# include(\"/Users/ryansenne/Documents/Github/SSM//src/SSM.jl\")\n",
    "include(\"/home/ryansenne/PycharmProjects/ssm_julia/src/SSM.jl\")\n",
    "using Random\n",
    "using .SSM\n",
    "using Distributions"
   ]
  },
  {
   "cell_type": "markdown",
   "metadata": {},
   "source": [
    "### Gaussian GLM Example"
   ]
  },
  {
   "cell_type": "code",
   "execution_count": 10,
   "metadata": {},
   "outputs": [
    {
     "data": {
      "text/plain": [
       "4-element Vector{Float64}:\n",
       "  2.02647729897031\n",
       "  3.0079791837279575\n",
       " -4.041013313373754\n",
       "  4.991249502322808"
      ]
     },
     "metadata": {},
     "output_type": "display_data"
    }
   ],
   "source": [
    "# Fit a Gaussian GLM\n",
    "# Generate some synthetic data\n",
    "X = rand(10000, 3);  # 100 samples, 3 features;\n",
    "# Add a column of ones to represent the intercept term\n",
    "X_concat = hcat(ones(10000), X)\n",
    "β = [2, 3, -4, 5]\n",
    "y = X_concat * β + rand(Normal(0, 1), 10000)\n",
    "\n",
    "# define a GLM\n",
    "glm = GaussianRegression(X, y)\n",
    "fit!(glm, LSELoss(), 1000)"
   ]
  },
  {
   "cell_type": "markdown",
   "metadata": {},
   "source": [
    "### Poisson GLM Example"
   ]
  },
  {
   "cell_type": "code",
   "execution_count": 8,
   "metadata": {},
   "outputs": [
    {
     "data": {
      "text/plain": [
       "4-element Vector{Float64}:\n",
       "  2.000992921834151\n",
       "  3.0020310084238937\n",
       " -4.0003594268560185\n",
       "  4.996621009202876"
      ]
     },
     "metadata": {},
     "output_type": "display_data"
    }
   ],
   "source": [
    "# Fit a Poisson GLM\n",
    "# Generate some synthetic data\n",
    "X = rand(10000, 3);  # 100 samples, 3 features;\n",
    "# Add a column of ones to represent the intercept term\n",
    "X_concat = hcat(ones(10000), X)\n",
    "β = [2, 3, -4, 5]\n",
    "\n",
    "# Generate some synthetic data\n",
    "y = Vector{Float64}(rand.(Poisson.(exp.(X_concat * β))))\n",
    "\n",
    "# define a GLM\n",
    "glm = PoissonRegression(X, y)\n",
    "fit!(glm, PoissonLoss(), 1000)\n"
   ]
  },
  {
   "cell_type": "markdown",
   "metadata": {},
   "source": [
    "### Binomial GLM Example (i.e. logistic regression)"
   ]
  },
  {
   "cell_type": "code",
   "execution_count": 7,
   "metadata": {},
   "outputs": [
    {
     "data": {
      "text/plain": [
       "4-element Vector{Float64}:\n",
       "  1.9150124819278913\n",
       "  3.0577957045910296\n",
       " -3.8336980061602524\n",
       "  4.895904304852471"
      ]
     },
     "metadata": {},
     "output_type": "display_data"
    }
   ],
   "source": [
    "# sigmoid function\n",
    "function sigmoid(x)\n",
    "    return 1 / (1 + exp(-x))\n",
    "end\n",
    "\n",
    "# Fit a Binomial GLM\n",
    "# Generate some synthetic data\n",
    "X = rand(10000, 3); # 1000 samples, 3 features;\n",
    "# Add a column of ones to represent the intercept term\n",
    "X_concat = hcat(ones(10000), X)\n",
    "β = [2, 3, -4, 5]\n",
    "\n",
    "# Generate some synthetic data\n",
    "y = Vector{Float64}(rand.(Binomial.(1, sigmoid.(X_concat * β))))\n",
    "\n",
    "# define a GLM\n",
    "glm = BinomialRegression(X, y)\n",
    "fit!(glm, CrossEntropyLoss(), 1000)"
   ]
  },
  {
   "cell_type": "code",
   "execution_count": 3,
   "metadata": {},
   "outputs": [
    {
     "ename": "MethodError",
     "evalue": "MethodError: no method matching GaussianMarkovRegression(::Vector{Float64}, ::Matrix{Float64}, ::Int64, ::Vector{GaussianRegression{Float64}}, ::HMM{GaussianEmission})\n\nClosest candidates are:\n  GaussianMarkovRegression(::Vector{T}, ::Matrix{T}, ::Int64, !Matched::Vector{GaussianRegression}, ::HMM) where T<:Real\n   @ Main.SSM ~/PycharmProjects/ssm_julia/src/MarkovRegression.jl:19\n  GaussianMarkovRegression(::Vector{T}, ::Matrix{T}, ::Int64) where T<:Real\n   @ Main.SSM ~/PycharmProjects/ssm_julia/src/MarkovRegression.jl:30\n",
     "output_type": "error",
     "traceback": [
      "MethodError: no method matching GaussianMarkovRegression(::Vector{Float64}, ::Matrix{Float64}, ::Int64, ::Vector{GaussianRegression{Float64}}, ::HMM{GaussianEmission})\n",
      "\n",
      "Closest candidates are:\n",
      "  GaussianMarkovRegression(::Vector{T}, ::Matrix{T}, ::Int64, !Matched::Vector{GaussianRegression}, ::HMM) where T<:Real\n",
      "   @ Main.SSM ~/PycharmProjects/ssm_julia/src/MarkovRegression.jl:19\n",
      "  GaussianMarkovRegression(::Vector{T}, ::Matrix{T}, ::Int64) where T<:Real\n",
      "   @ Main.SSM ~/PycharmProjects/ssm_julia/src/MarkovRegression.jl:30\n",
      "\n",
      "\n",
      "Stacktrace:\n",
      " [1] GaussianMarkovRegression(y::Vector{Float64}, X::Matrix{Float64}, k::Int64)\n",
      "   @ Main.SSM ~/PycharmProjects/ssm_julia/src/MarkovRegression.jl:35\n",
      " [2] top-level scope\n",
      "   @ ~/PycharmProjects/ssm_julia/notebooks/hmmglm.ipynb:21"
     ]
    }
   ],
   "source": [
    "# try out markov glm\n",
    "\n",
    "# Generate synthetic data from two distinct regimes\n",
    "X = rand(10000, 3); # 1000 samples, 3 features;\n",
    "# Add a column of ones to represent the intercept term\n",
    "X_concat = hcat(ones(10000), X)\n",
    "β₁ = [2, 3, -4, 5]\n",
    "β₂ = [2, 3, 4, 5]\n",
    "\n",
    "# Generate some synthetic data\n",
    "y₁ = X_concat * β₁ + rand(Normal(0, 1), 10000)\n",
    "y₂ = X_concat * β₂ + rand(Normal(0, 1), 10000)\n",
    "\n",
    "# concatenate X1 and X2\n",
    "x = vcat(X_concat, X_concat)\n",
    "\n",
    "# concatenate y1 and y2\n",
    "y = vcat(y₁, y₂)\n",
    "\n",
    "# define a Gaussian HMMGLM\n",
    "glm = GaussianMarkovRegression(y, x, 2)"
   ]
  }
 ],
 "metadata": {
  "kernelspec": {
   "display_name": "Julia 1.9.3",
   "language": "julia",
   "name": "julia-1.9"
  },
  "language_info": {
   "file_extension": ".jl",
   "mimetype": "application/julia",
   "name": "julia",
   "version": "1.9.3"
  }
 },
 "nbformat": 4,
 "nbformat_minor": 2
}
