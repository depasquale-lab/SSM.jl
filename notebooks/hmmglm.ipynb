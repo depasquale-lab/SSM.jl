{
 "cells": [
  {
   "cell_type": "code",
   "execution_count": 1,
   "metadata": {},
   "outputs": [
    {
     "name": "stderr",
     "output_type": "stream",
     "text": [
      "\u001b[32m\u001b[1m  Activating\u001b[22m\u001b[39m project at `\\Users\\ryansenne\\Documents\\Github\\SSM`\n"
     ]
    }
   ],
   "source": [
    "using Pkg\n",
    "Pkg.activate(\"/Users/ryansenne/Documents/Github/SSM/\")\n",
    "# Pkg.activate(\"/home/ryansenne/PycharmProjects/ssm_julia/\")"
   ]
  },
  {
   "cell_type": "code",
   "execution_count": 2,
   "metadata": {},
   "outputs": [],
   "source": [
    "include(\"/Users/ryansenne/Documents/Github/SSM//src/SSM.jl\")\n",
    "# include(\"/home/ryansenne/PycharmProjects/ssm_julia/src/SSM.jl\")\n",
    "using Random\n",
    "using .SSM\n",
    "using Distributions"
   ]
  },
  {
   "cell_type": "markdown",
   "metadata": {},
   "source": [
    "### Gaussian GLM Example"
   ]
  },
  {
   "cell_type": "code",
   "execution_count": 3,
   "metadata": {},
   "outputs": [
    {
     "data": {
      "text/plain": [
       "4-element Vector{Float64}:\n",
       "  1.9935233218458142\n",
       "  3.050294509792673\n",
       " -4.048610080939874\n",
       "  5.009218701637457"
      ]
     },
     "metadata": {},
     "output_type": "display_data"
    }
   ],
   "source": [
    "# Fit a Gaussian GLM\n",
    "# Generate some synthetic data\n",
    "X = rand(10000, 3);  # 100 samples, 3 features;\n",
    "# Add a column of ones to represent the intercept term\n",
    "X_concat = hcat(ones(10000), X)\n",
    "β = [2, 3, -4, 5]\n",
    "y = X_concat * β + rand(Normal(0, 1), 10000)\n",
    "\n",
    "# define a GLM\n",
    "glm = GaussianRegression(X, y)\n",
    "fit!(glm, 1000)"
   ]
  },
  {
   "cell_type": "markdown",
   "metadata": {},
   "source": [
    "### Poisson GLM Example"
   ]
  },
  {
   "cell_type": "code",
   "execution_count": 4,
   "metadata": {},
   "outputs": [
    {
     "data": {
      "text/plain": [
       "4-element Vector{Float64}:\n",
       "  1.9972876910665238\n",
       "  3.0018761978448465\n",
       " -4.001568346180793\n",
       "  5.002617122785103"
      ]
     },
     "metadata": {},
     "output_type": "display_data"
    }
   ],
   "source": [
    "# Fit a Poisson GLM\n",
    "# Generate some synthetic data\n",
    "X = rand(10000, 3);  # 100 samples, 3 features;\n",
    "# Add a column of ones to represent the intercept term\n",
    "X_concat = hcat(ones(10000), X)\n",
    "β = [2, 3, -4, 5]\n",
    "\n",
    "# Generate some synthetic data\n",
    "y = Vector{Float64}(rand.(Poisson.(exp.(X_concat * β))))\n",
    "\n",
    "# define a GLM\n",
    "glm = PoissonRegression(X, y)\n",
    "fit!(glm, 1000)\n"
   ]
  },
  {
   "cell_type": "markdown",
   "metadata": {},
   "source": [
    "### Binomial GLM Example (i.e. logistic regression)"
   ]
  },
  {
   "cell_type": "code",
   "execution_count": 5,
   "metadata": {},
   "outputs": [
    {
     "data": {
      "text/plain": [
       "4-element Vector{Float64}:\n",
       "  1.8543376890605436\n",
       "  2.8784175544811696\n",
       " -3.917422980528167\n",
       "  5.359082820186336"
      ]
     },
     "metadata": {},
     "output_type": "display_data"
    }
   ],
   "source": [
    "# sigmoid function\n",
    "function sigmoid(x)\n",
    "    return 1 / (1 + exp(-x))\n",
    "end\n",
    "\n",
    "# Fit a Binomial GLM\n",
    "# Generate some synthetic data\n",
    "X = rand(10000, 3); # 1000 samples, 3 features;\n",
    "# Add a column of ones to represent the intercept term\n",
    "X_concat = hcat(ones(10000), X)\n",
    "β = [2, 3, -4, 5]\n",
    "\n",
    "# Generate some synthetic data\n",
    "y = Vector{Float64}(rand.(Binomial.(1, sigmoid.(X_concat * β))))\n",
    "\n",
    "# define a GLM\n",
    "glm = BinomialRegression(X, y)\n",
    "fit!(glm, 1000)"
   ]
  },
  {
   "cell_type": "code",
   "execution_count": 6,
   "metadata": {},
   "outputs": [
    {
     "name": "stdout",
     "output_type": "stream",
     "text": [
      "Iteration: 1, Log-likelihood: -897.7454354160104\n",
      "Iteration: 2, Log-likelihood: -895.2961750860343\n",
      "Iteration: 3, Log-likelihood: -893.6462894856578\n",
      "Iteration: 4, Log-likelihood: -891.7947146805982\n",
      "Iteration: 5, Log-likelihood: -889.5159379589688\n",
      "Iteration: 6, Log-likelihood: -886.5591061268444\n",
      "Iteration: 7, Log-likelihood: -882.5078068760622\n",
      "Iteration: 8, Log-likelihood: -876.6783902184586\n",
      "Iteration: 9, Log-likelihood: -868.2026625661098\n",
      "Iteration: 10, Log-likelihood: -857.2197663292588\n",
      "Iteration: 11, Log-likelihood: -847.3246928056542\n",
      "Iteration: 12, Log-likelihood: -841.4140915257459\n",
      "Iteration: 13, Log-likelihood: -837.7678673596643\n",
      "Iteration: 14, Log-likelihood: -835.4060360597952\n",
      "Iteration: 15, Log-likelihood: -834.0549280656988\n"
     ]
    },
    {
     "name": "stdout",
     "output_type": "stream",
     "text": [
      "Iteration: 16, Log-likelihood: -833.4060348056876\n",
      "Iteration: 17, Log-likelihood: -833.1279456194195\n",
      "Iteration: 18, Log-likelihood: -833.0126298726145\n",
      "Iteration: 19, Log-likelihood: -832.9645712744963\n",
      "Convergence reached at iteration 19\n",
      "Initial Variance: [923.1769837312262, 832.1561329691751]\n",
      "Initial Transition Matrix: [0.9345794392523364 0.06542056074766354; 0.08695652173913043 0.9130434782608695]\n",
      "Initial Mixing Coefficients: [0.54, 0.46]\n"
     ]
    },
    {
     "name": "stdout",
     "output_type": "stream",
     "text": [
      "Log-likelihood at iteration 1: -164784.8242617549\n",
      "Log-likelihood at iteration 2: -159910.730898384\n",
      "Log-likelihood at iteration 3: -159910.73170259935\n",
      "Log-likelihood at iteration 4: -159910.73170316324\n"
     ]
    }
   ],
   "source": [
    "# try out markov glm\n",
    "\n",
    "# Generate synthetic data from two distinct regimes\n",
    "X = rand(100, 3); # 1000 samples, 3 features;\n",
    "# Add a column of ones to represent the intercept term\n",
    "X_concat = hcat(ones(100), X)\n",
    "β₁ = [-20, -30, -40, 50]\n",
    "β₂ = [6, 7, 8, -9]\n",
    "\n",
    "# Generate some synthetic data\n",
    "y₁ = X_concat * β₁ + rand(Normal(0, 0.1), 100)\n",
    "y₂ = X_concat * β₂ + rand(Normal(0, 1), 100)\n",
    "\n",
    "# concatenate X1 and X2\n",
    "x = vcat(X, X)\n",
    "\n",
    "# concatenate y1 and y2\n",
    "y = vcat(y₁, y₂)\n",
    "\n",
    "# define a Gaussian HMMGLM\n",
    "glm = GaussianMarkovRegression(y, x, 2)\n",
    "\n",
    "MarkovRegressionEM(glm)"
   ]
  },
  {
   "cell_type": "code",
   "execution_count": 7,
   "metadata": {},
   "outputs": [
    {
     "data": {
      "text/plain": [
       "2-element Vector{Float64}:\n",
       " 464.7420540985162\n",
       " 464.7424856293514"
      ]
     },
     "metadata": {},
     "output_type": "display_data"
    }
   ],
   "source": [
    "glm.σ²"
   ]
  },
  {
   "cell_type": "code",
   "execution_count": 5,
   "metadata": {},
   "outputs": [
    {
     "data": {
      "text/plain": [
       "2×2 Matrix{Float64}:\n",
       " 0.984925  0.0150749\n",
       " 0.485997  0.514003"
      ]
     },
     "metadata": {},
     "output_type": "display_data"
    }
   ],
   "source": [
    "glm.A"
   ]
  },
  {
   "cell_type": "code",
   "execution_count": 6,
   "metadata": {},
   "outputs": [
    {
     "data": {
      "text/plain": [
       "4-element Vector{Float64}:\n",
       "  -6.558491285299669\n",
       "  -9.379005131558179\n",
       " -17.952620437344105\n",
       "  19.36922317360324"
      ]
     },
     "metadata": {},
     "output_type": "display_data"
    }
   ],
   "source": [
    "glm.B[1].regression_model.β"
   ]
  },
  {
   "cell_type": "code",
   "execution_count": 18,
   "metadata": {},
   "outputs": [
    {
     "data": {
      "text/plain": [
       "2×200 Matrix{Float64}:\n",
       " -48174.9  -96046.0  -1.44067e5  …  -9.50833e6  -9.55635e6  -9.60437e6\n",
       " -48021.9  -96043.8  -1.44066e5     -9.50833e6  -9.55635e6  -9.60437e6"
      ]
     },
     "metadata": {},
     "output_type": "display_data"
    }
   ],
   "source": [
    "SSM.forward(glm, y)"
   ]
  },
  {
   "cell_type": "code",
   "execution_count": 8,
   "metadata": {},
   "outputs": [
    {
     "data": {
      "text/plain": [
       "2-element Vector{Float64}:\n",
       " 0.49999997907667854\n",
       " 0.5000000209233215"
      ]
     },
     "metadata": {},
     "output_type": "display_data"
    }
   ],
   "source": [
    "glm.πₖ"
   ]
  },
  {
   "cell_type": "code",
   "execution_count": 4,
   "metadata": {},
   "outputs": [
    {
     "data": {
      "text/plain": [
       "([-833.8930048706336 -1664.630096902026 … -164893.8751923183 -165722.44966378057; -829.1198425249702 -1657.6934357887844 … -164886.86430569817 -165715.43877716045], [-164888.46086782028 -164059.886396358 … -830.6486430690045 0.0; -164886.31902531753 -164057.74455385524 … -828.5736831114416 0.0])"
      ]
     },
     "metadata": {},
     "output_type": "display_data"
    }
   ],
   "source": [
    "α, β =  SSM.EStep(glm)"
   ]
  },
  {
   "cell_type": "code",
   "execution_count": 9,
   "metadata": {},
   "outputs": [
    {
     "data": {
      "image/png": "[encoded data removed]",
      "image/svg+xml": [
       "<?xml version=\"1.0\" encoding=\"utf-8\"?>\n",
       "<svg xmlns=\"http://www.w3.org/2000/svg\" xmlns:xlink=\"http://www.w3.org/1999/xlink\" width=\"600\" height=\"400\" viewBox=\"0 0 2400 1600\">\n",
       "<defs>\n",
       "  <clipPath id=\"clip220\">\n",
       "    <rect x=\"0\" y=\"0\" width=\"2400\" height=\"1600\"/>\n",
       "  </clipPath>\n",
       "</defs>\n",
       "<path clip-path=\"url(#clip220)\" d=\"M0 1600 L2400 1600 L2400 0 L0 0  Z\" fill=\"#ffffff\" fill-rule=\"evenodd\" fill-opacity=\"1\"/>\n",
       "<defs>\n",
       "  <clipPath id=\"clip221\">\n",
       "    <rect x=\"480\" y=\"0\" width=\"1681\" height=\"1600\"/>\n",
       "  </clipPath>\n",
       "</defs>\n",
       "<path clip-path=\"url(#clip220)\" d=\"M344.606 1486.45 L2352.76 1486.45 L2352.76 47.2441 L344.606 47.2441  Z\" fill=\"#ffffff\" fill-rule=\"evenodd\" fill-opacity=\"1\"/>\n",
       "<defs>\n",
       "  <clipPath id=\"clip222\">\n",
       "    <rect x=\"344\" y=\"47\" width=\"2009\" height=\"1440\"/>\n",
       "  </clipPath>\n",
       "</defs>\n",
       "<polyline clip-path=\"url(#clip222)\" style=\"stroke:#000000; stroke-linecap:round; stroke-linejoin:round; stroke-width:2; stroke-opacity:0.1; fill:none\" points=\"391.921,1486.45 391.921,47.2441 \"/>\n",
       "<polyline clip-path=\"url(#clip222)\" style=\"stroke:#000000; stroke-linecap:round; stroke-linejoin:round; stroke-width:2; stroke-opacity:0.1; fill:none\" points=\"867.921,1486.45 867.921,47.2441 \"/>\n",
       "<polyline clip-path=\"url(#clip222)\" style=\"stroke:#000000; stroke-linecap:round; stroke-linejoin:round; stroke-width:2; stroke-opacity:0.1; fill:none\" points=\"1343.92,1486.45 1343.92,47.2441 \"/>\n",
       "<polyline clip-path=\"url(#clip222)\" style=\"stroke:#000000; stroke-linecap:round; stroke-linejoin:round; stroke-width:2; stroke-opacity:0.1; fill:none\" points=\"1819.92,1486.45 1819.92,47.2441 \"/>\n",
       "<polyline clip-path=\"url(#clip222)\" style=\"stroke:#000000; stroke-linecap:round; stroke-linejoin:round; stroke-width:2; stroke-opacity:0.1; fill:none\" points=\"2295.92,1486.45 2295.92,47.2441 \"/>\n",
       "<polyline clip-path=\"url(#clip220)\" style=\"stroke:#000000; stroke-linecap:round; stroke-linejoin:round; stroke-width:4; stroke-opacity:1; fill:none\" points=\"344.606,1486.45 2352.76,1486.45 \"/>\n",
       "<polyline clip-path=\"url(#clip220)\" style=\"stroke:#000000; stroke-linecap:round; stroke-linejoin:round; stroke-width:4; stroke-opacity:1; fill:none\" points=\"391.921,1486.45 391.921,1467.55 \"/>\n",
       "<polyline clip-path=\"url(#clip220)\" style=\"stroke:#000000; stroke-linecap:round; stroke-linejoin:round; stroke-width:4; stroke-opacity:1; fill:none\" points=\"867.921,1486.45 867.921,1467.55 \"/>\n",
       "<polyline clip-path=\"url(#clip220)\" style=\"stroke:#000000; stroke-linecap:round; stroke-linejoin:round; stroke-width:4; stroke-opacity:1; fill:none\" points=\"1343.92,1486.45 1343.92,1467.55 \"/>\n",
       "<polyline clip-path=\"url(#clip220)\" style=\"stroke:#000000; stroke-linecap:round; stroke-linejoin:round; stroke-width:4; stroke-opacity:1; fill:none\" points=\"1819.92,1486.45 1819.92,1467.55 \"/>\n",
       "<polyline clip-path=\"url(#clip220)\" style=\"stroke:#000000; stroke-linecap:round; stroke-linejoin:round; stroke-width:4; stroke-opacity:1; fill:none\" points=\"2295.92,1486.45 2295.92,1467.55 \"/>\n",
       "<path clip-path=\"url(#clip220)\" d=\"M391.921 1517.37 Q388.31 1517.37 386.481 1520.93 Q384.676 1524.47 384.676 1531.6 Q384.676 1538.71 386.481 1542.27 Q388.31 1545.82 391.921 1545.82 Q395.555 1545.82 397.361 1542.27 Q399.189 1538.71 399.189 1531.6 Q399.189 1524.47 397.361 1520.93 Q395.555 1517.37 391.921 1517.37 M391.921 1513.66 Q397.731 1513.66 400.787 1518.27 Q403.865 1522.85 403.865 1531.6 Q403.865 1540.33 400.787 1544.94 Q397.731 1549.52 391.921 1549.52 Q386.111 1549.52 383.032 1544.94 Q379.977 1540.33 379.977 1531.6 Q379.977 1522.85 383.032 1518.27 Q386.111 1513.66 391.921 1513.66 Z\" fill=\"#000000\" fill-rule=\"nonzero\" fill-opacity=\"1\" /><path clip-path=\"url(#clip220)\" d=\"M842.62 1514.29 L860.977 1514.29 L860.977 1518.22 L846.903 1518.22 L846.903 1526.7 Q847.921 1526.35 848.94 1526.19 Q849.958 1526 850.977 1526 Q856.764 1526 860.143 1529.17 Q863.523 1532.34 863.523 1537.76 Q863.523 1543.34 860.051 1546.44 Q856.579 1549.52 850.259 1549.52 Q848.083 1549.52 845.815 1549.15 Q843.569 1548.78 841.162 1548.04 L841.162 1543.34 Q843.245 1544.47 845.467 1545.03 Q847.69 1545.58 850.167 1545.58 Q854.171 1545.58 856.509 1543.48 Q858.847 1541.37 858.847 1537.76 Q858.847 1534.15 856.509 1532.04 Q854.171 1529.94 850.167 1529.94 Q848.292 1529.94 846.417 1530.35 Q844.565 1530.77 842.62 1531.65 L842.62 1514.29 Z\" fill=\"#000000\" fill-rule=\"nonzero\" fill-opacity=\"1\" /><path clip-path=\"url(#clip220)\" d=\"M882.736 1517.37 Q879.125 1517.37 877.296 1520.93 Q875.49 1524.47 875.49 1531.6 Q875.49 1538.71 877.296 1542.27 Q879.125 1545.82 882.736 1545.82 Q886.37 1545.82 888.176 1542.27 Q890.004 1538.71 890.004 1531.6 Q890.004 1524.47 888.176 1520.93 Q886.37 1517.37 882.736 1517.37 M882.736 1513.66 Q888.546 1513.66 891.601 1518.27 Q894.68 1522.85 894.68 1531.6 Q894.68 1540.33 891.601 1544.94 Q888.546 1549.52 882.736 1549.52 Q876.926 1549.52 873.847 1544.94 Q870.791 1540.33 870.791 1531.6 Q870.791 1522.85 873.847 1518.27 Q876.926 1513.66 882.736 1513.66 Z\" fill=\"#000000\" fill-rule=\"nonzero\" fill-opacity=\"1\" /><path clip-path=\"url(#clip220)\" d=\"M1303.53 1544.91 L1311.17 1544.91 L1311.17 1518.55 L1302.86 1520.21 L1302.86 1515.95 L1311.12 1514.29 L1315.8 1514.29 L1315.8 1544.91 L1323.44 1544.91 L1323.44 1548.85 L1303.53 1548.85 L1303.53 1544.91 Z\" fill=\"#000000\" fill-rule=\"nonzero\" fill-opacity=\"1\" /><path clip-path=\"url(#clip220)\" d=\"M1342.88 1517.37 Q1339.27 1517.37 1337.44 1520.93 Q1335.63 1524.47 1335.63 1531.6 Q1335.63 1538.71 1337.44 1542.27 Q1339.27 1545.82 1342.88 1545.82 Q1346.51 1545.82 1348.32 1542.27 Q1350.15 1538.71 1350.15 1531.6 Q1350.15 1524.47 1348.32 1520.93 Q1346.51 1517.37 1342.88 1517.37 M1342.88 1513.66 Q1348.69 1513.66 1351.75 1518.27 Q1354.82 1522.85 1354.82 1531.6 Q1354.82 1540.33 1351.75 1544.94 Q1348.69 1549.52 1342.88 1549.52 Q1337.07 1549.52 1333.99 1544.94 Q1330.94 1540.33 1330.94 1531.6 Q1330.94 1522.85 1333.99 1518.27 Q1337.07 1513.66 1342.88 1513.66 Z\" fill=\"#000000\" fill-rule=\"nonzero\" fill-opacity=\"1\" /><path clip-path=\"url(#clip220)\" d=\"M1373.04 1517.37 Q1369.43 1517.37 1367.6 1520.93 Q1365.8 1524.47 1365.8 1531.6 Q1365.8 1538.71 1367.6 1542.27 Q1369.43 1545.82 1373.04 1545.82 Q1376.68 1545.82 1378.48 1542.27 Q1380.31 1538.71 1380.31 1531.6 Q1380.31 1524.47 1378.48 1520.93 Q1376.68 1517.37 1373.04 1517.37 M1373.04 1513.66 Q1378.85 1513.66 1381.91 1518.27 Q1384.99 1522.85 1384.99 1531.6 Q1384.99 1540.33 1381.91 1544.94 Q1378.85 1549.52 1373.04 1549.52 Q1367.23 1549.52 1364.15 1544.94 Q1361.1 1540.33 1361.1 1531.6 Q1361.1 1522.85 1364.15 1518.27 Q1367.23 1513.66 1373.04 1513.66 Z\" fill=\"#000000\" fill-rule=\"nonzero\" fill-opacity=\"1\" /><path clip-path=\"url(#clip220)\" d=\"M1779.53 1544.91 L1787.17 1544.91 L1787.17 1518.55 L1778.86 1520.21 L1778.86 1515.95 L1787.12 1514.29 L1791.8 1514.29 L1791.8 1544.91 L1799.44 1544.91 L1799.44 1548.85 L1779.53 1548.85 L1779.53 1544.91 Z\" fill=\"#000000\" fill-rule=\"nonzero\" fill-opacity=\"1\" /><path clip-path=\"url(#clip220)\" d=\"M1808.93 1514.29 L1827.28 1514.29 L1827.28 1518.22 L1813.21 1518.22 L1813.21 1526.7 Q1814.23 1526.35 1815.25 1526.19 Q1816.26 1526 1817.28 1526 Q1823.07 1526 1826.45 1529.17 Q1829.83 1532.34 1829.83 1537.76 Q1829.83 1543.34 1826.36 1546.44 Q1822.88 1549.52 1816.56 1549.52 Q1814.39 1549.52 1812.12 1549.15 Q1809.88 1548.78 1807.47 1548.04 L1807.47 1543.34 Q1809.55 1544.47 1811.77 1545.03 Q1814 1545.58 1816.47 1545.58 Q1820.48 1545.58 1822.81 1543.48 Q1825.15 1541.37 1825.15 1537.76 Q1825.15 1534.15 1822.81 1532.04 Q1820.48 1529.94 1816.47 1529.94 Q1814.6 1529.94 1812.72 1530.35 Q1810.87 1530.77 1808.93 1531.65 L1808.93 1514.29 Z\" fill=\"#000000\" fill-rule=\"nonzero\" fill-opacity=\"1\" /><path clip-path=\"url(#clip220)\" d=\"M1849.04 1517.37 Q1845.43 1517.37 1843.6 1520.93 Q1841.8 1524.47 1841.8 1531.6 Q1841.8 1538.71 1843.6 1542.27 Q1845.43 1545.82 1849.04 1545.82 Q1852.68 1545.82 1854.48 1542.27 Q1856.31 1538.71 1856.31 1531.6 Q1856.31 1524.47 1854.48 1520.93 Q1852.68 1517.37 1849.04 1517.37 M1849.04 1513.66 Q1854.85 1513.66 1857.91 1518.27 Q1860.99 1522.85 1860.99 1531.6 Q1860.99 1540.33 1857.91 1544.94 Q1854.85 1549.52 1849.04 1549.52 Q1843.23 1549.52 1840.15 1544.94 Q1837.1 1540.33 1837.1 1531.6 Q1837.1 1522.85 1840.15 1518.27 Q1843.23 1513.66 1849.04 1513.66 Z\" fill=\"#000000\" fill-rule=\"nonzero\" fill-opacity=\"1\" /><path clip-path=\"url(#clip220)\" d=\"M2259.61 1544.91 L2275.93 1544.91 L2275.93 1548.85 L2253.99 1548.85 L2253.99 1544.91 Q2256.65 1542.16 2261.23 1537.53 Q2265.84 1532.88 2267.02 1531.53 Q2269.27 1529.01 2270.15 1527.27 Q2271.05 1525.51 2271.05 1523.82 Q2271.05 1521.07 2269.1 1519.33 Q2267.18 1517.6 2264.08 1517.6 Q2261.88 1517.6 2259.43 1518.36 Q2257 1519.13 2254.22 1520.68 L2254.22 1515.95 Q2257.04 1514.82 2259.5 1514.24 Q2261.95 1513.66 2263.99 1513.66 Q2269.36 1513.66 2272.55 1516.35 Q2275.75 1519.03 2275.75 1523.52 Q2275.75 1525.65 2274.94 1527.57 Q2274.15 1529.47 2272.04 1532.07 Q2271.47 1532.74 2268.36 1535.95 Q2265.26 1539.15 2259.61 1544.91 Z\" fill=\"#000000\" fill-rule=\"nonzero\" fill-opacity=\"1\" /><path clip-path=\"url(#clip220)\" d=\"M2295.75 1517.37 Q2292.14 1517.37 2290.31 1520.93 Q2288.5 1524.47 2288.5 1531.6 Q2288.5 1538.71 2290.31 1542.27 Q2292.14 1545.82 2295.75 1545.82 Q2299.38 1545.82 2301.19 1542.27 Q2303.02 1538.71 2303.02 1531.6 Q2303.02 1524.47 2301.19 1520.93 Q2299.38 1517.37 2295.75 1517.37 M2295.75 1513.66 Q2301.56 1513.66 2304.61 1518.27 Q2307.69 1522.85 2307.69 1531.6 Q2307.69 1540.33 2304.61 1544.94 Q2301.56 1549.52 2295.75 1549.52 Q2289.94 1549.52 2286.86 1544.94 Q2283.8 1540.33 2283.8 1531.6 Q2283.8 1522.85 2286.86 1518.27 Q2289.94 1513.66 2295.75 1513.66 Z\" fill=\"#000000\" fill-rule=\"nonzero\" fill-opacity=\"1\" /><path clip-path=\"url(#clip220)\" d=\"M2325.91 1517.37 Q2322.3 1517.37 2320.47 1520.93 Q2318.66 1524.47 2318.66 1531.6 Q2318.66 1538.71 2320.47 1542.27 Q2322.3 1545.82 2325.91 1545.82 Q2329.54 1545.82 2331.35 1542.27 Q2333.18 1538.71 2333.18 1531.6 Q2333.18 1524.47 2331.35 1520.93 Q2329.54 1517.37 2325.91 1517.37 M2325.91 1513.66 Q2331.72 1513.66 2334.78 1518.27 Q2337.85 1522.85 2337.85 1531.6 Q2337.85 1540.33 2334.78 1544.94 Q2331.72 1549.52 2325.91 1549.52 Q2320.1 1549.52 2317.02 1544.94 Q2313.97 1540.33 2313.97 1531.6 Q2313.97 1522.85 2317.02 1518.27 Q2320.1 1513.66 2325.91 1513.66 Z\" fill=\"#000000\" fill-rule=\"nonzero\" fill-opacity=\"1\" /><polyline clip-path=\"url(#clip222)\" style=\"stroke:#000000; stroke-linecap:round; stroke-linejoin:round; stroke-width:2; stroke-opacity:0.1; fill:none\" points=\"344.606,1316.26 2352.76,1316.26 \"/>\n",
       "<polyline clip-path=\"url(#clip222)\" style=\"stroke:#000000; stroke-linecap:round; stroke-linejoin:round; stroke-width:2; stroke-opacity:0.1; fill:none\" points=\"344.606,904.554 2352.76,904.554 \"/>\n",
       "<polyline clip-path=\"url(#clip222)\" style=\"stroke:#000000; stroke-linecap:round; stroke-linejoin:round; stroke-width:2; stroke-opacity:0.1; fill:none\" points=\"344.606,492.852 2352.76,492.852 \"/>\n",
       "<polyline clip-path=\"url(#clip222)\" style=\"stroke:#000000; stroke-linecap:round; stroke-linejoin:round; stroke-width:2; stroke-opacity:0.1; fill:none\" points=\"344.606,81.1493 2352.76,81.1493 \"/>\n",
       "<polyline clip-path=\"url(#clip220)\" style=\"stroke:#000000; stroke-linecap:round; stroke-linejoin:round; stroke-width:4; stroke-opacity:1; fill:none\" points=\"344.606,1486.45 344.606,47.2441 \"/>\n",
       "<polyline clip-path=\"url(#clip220)\" style=\"stroke:#000000; stroke-linecap:round; stroke-linejoin:round; stroke-width:4; stroke-opacity:1; fill:none\" points=\"344.606,1316.26 363.504,1316.26 \"/>\n",
       "<polyline clip-path=\"url(#clip220)\" style=\"stroke:#000000; stroke-linecap:round; stroke-linejoin:round; stroke-width:4; stroke-opacity:1; fill:none\" points=\"344.606,904.554 363.504,904.554 \"/>\n",
       "<polyline clip-path=\"url(#clip220)\" style=\"stroke:#000000; stroke-linecap:round; stroke-linejoin:round; stroke-width:4; stroke-opacity:1; fill:none\" points=\"344.606,492.852 363.504,492.852 \"/>\n",
       "<polyline clip-path=\"url(#clip220)\" style=\"stroke:#000000; stroke-linecap:round; stroke-linejoin:round; stroke-width:4; stroke-opacity:1; fill:none\" points=\"344.606,81.1493 363.504,81.1493 \"/>\n",
       "<path clip-path=\"url(#clip220)\" d=\"M53.2867 1323.16 L82.9624 1323.16 L82.9624 1327.09 L53.2867 1327.09 L53.2867 1323.16 Z\" fill=\"#000000\" fill-rule=\"nonzero\" fill-opacity=\"1\" /><path clip-path=\"url(#clip220)\" d=\"M93.8652 1336.05 L101.504 1336.05 L101.504 1309.68 L93.1939 1311.35 L93.1939 1307.09 L101.458 1305.42 L106.134 1305.42 L106.134 1336.05 L113.772 1336.05 L113.772 1339.98 L93.8652 1339.98 L93.8652 1336.05 Z\" fill=\"#000000\" fill-rule=\"nonzero\" fill-opacity=\"1\" /><path clip-path=\"url(#clip220)\" d=\"M123.217 1334.1 L128.101 1334.1 L128.101 1339.98 L123.217 1339.98 L123.217 1334.1 Z\" fill=\"#000000\" fill-rule=\"nonzero\" fill-opacity=\"1\" /><path clip-path=\"url(#clip220)\" d=\"M138.333 1305.42 L156.689 1305.42 L156.689 1309.36 L142.615 1309.36 L142.615 1317.83 Q143.633 1317.48 144.652 1317.32 Q145.67 1317.14 146.689 1317.14 Q152.476 1317.14 155.856 1320.31 Q159.235 1323.48 159.235 1328.9 Q159.235 1334.47 155.763 1337.58 Q152.291 1340.66 145.971 1340.66 Q143.795 1340.66 141.527 1340.28 Q139.282 1339.91 136.874 1339.17 L136.874 1334.47 Q138.958 1335.61 141.18 1336.16 Q143.402 1336.72 145.879 1336.72 Q149.883 1336.72 152.221 1334.61 Q154.559 1332.51 154.559 1328.9 Q154.559 1325.28 152.221 1323.18 Q149.883 1321.07 145.879 1321.07 Q144.004 1321.07 142.129 1321.49 Q140.277 1321.91 138.333 1322.78 L138.333 1305.42 Z\" fill=\"#000000\" fill-rule=\"nonzero\" fill-opacity=\"1\" /><path clip-path=\"url(#clip220)\" d=\"M178.448 1308.5 Q174.837 1308.5 173.008 1312.07 Q171.203 1315.61 171.203 1322.74 Q171.203 1329.85 173.008 1333.41 Q174.837 1336.95 178.448 1336.95 Q182.082 1336.95 183.888 1333.41 Q185.717 1329.85 185.717 1322.74 Q185.717 1315.61 183.888 1312.07 Q182.082 1308.5 178.448 1308.5 M178.448 1304.8 Q184.258 1304.8 187.314 1309.41 Q190.392 1313.99 190.392 1322.74 Q190.392 1331.47 187.314 1336.07 Q184.258 1340.66 178.448 1340.66 Q172.638 1340.66 169.559 1336.07 Q166.504 1331.47 166.504 1322.74 Q166.504 1313.99 169.559 1309.41 Q172.638 1304.8 178.448 1304.8 Z\" fill=\"#000000\" fill-rule=\"nonzero\" fill-opacity=\"1\" /><path clip-path=\"url(#clip220)\" d=\"M226.781 1314.52 L216.202 1325.15 L226.781 1335.72 L224.026 1338.53 L213.402 1327.9 L202.777 1338.53 L200.045 1335.72 L210.601 1325.15 L200.045 1314.52 L202.777 1311.72 L213.402 1322.35 L224.026 1311.72 L226.781 1314.52 Z\" fill=\"#000000\" fill-rule=\"nonzero\" fill-opacity=\"1\" /><path clip-path=\"url(#clip220)\" d=\"M239.142 1336.05 L246.781 1336.05 L246.781 1309.68 L238.471 1311.35 L238.471 1307.09 L246.735 1305.42 L251.411 1305.42 L251.411 1336.05 L259.049 1336.05 L259.049 1339.98 L239.142 1339.98 L239.142 1336.05 Z\" fill=\"#000000\" fill-rule=\"nonzero\" fill-opacity=\"1\" /><path clip-path=\"url(#clip220)\" d=\"M278.494 1308.5 Q274.883 1308.5 273.054 1312.07 Q271.248 1315.61 271.248 1322.74 Q271.248 1329.85 273.054 1333.41 Q274.883 1336.95 278.494 1336.95 Q282.128 1336.95 283.934 1333.41 Q285.762 1329.85 285.762 1322.74 Q285.762 1315.61 283.934 1312.07 Q282.128 1308.5 278.494 1308.5 M278.494 1304.8 Q284.304 1304.8 287.359 1309.41 Q290.438 1313.99 290.438 1322.74 Q290.438 1331.47 287.359 1336.07 Q284.304 1340.66 278.494 1340.66 Q272.684 1340.66 269.605 1336.07 Q266.549 1331.47 266.549 1322.74 Q266.549 1313.99 269.605 1309.41 Q272.684 1304.8 278.494 1304.8 Z\" fill=\"#000000\" fill-rule=\"nonzero\" fill-opacity=\"1\" /><path clip-path=\"url(#clip220)\" d=\"M291.623 1284.49 L306.538 1284.49 L306.538 1287.69 L295.103 1287.69 L295.103 1294.57 Q295.93 1294.29 296.758 1294.16 Q297.585 1294.01 298.413 1294.01 Q303.115 1294.01 305.861 1296.59 Q308.606 1299.16 308.606 1303.56 Q308.606 1308.1 305.785 1310.62 Q302.964 1313.12 297.83 1313.12 Q296.062 1313.12 294.219 1312.82 Q292.394 1312.52 290.438 1311.92 L290.438 1308.1 Q292.131 1309.02 293.936 1309.47 Q295.742 1309.92 297.754 1309.92 Q301.008 1309.92 302.908 1308.21 Q304.807 1306.5 304.807 1303.56 Q304.807 1300.63 302.908 1298.92 Q301.008 1297.21 297.754 1297.21 Q296.231 1297.21 294.708 1297.55 Q293.203 1297.88 291.623 1298.6 L291.623 1284.49 Z\" fill=\"#000000\" fill-rule=\"nonzero\" fill-opacity=\"1\" /><path clip-path=\"url(#clip220)\" d=\"M53.2867 911.453 L82.9624 911.453 L82.9624 915.388 L53.2867 915.388 L53.2867 911.453 Z\" fill=\"#000000\" fill-rule=\"nonzero\" fill-opacity=\"1\" /><path clip-path=\"url(#clip220)\" d=\"M93.8652 924.346 L101.504 924.346 L101.504 897.981 L93.1939 899.647 L93.1939 895.388 L101.458 893.722 L106.134 893.722 L106.134 924.346 L113.772 924.346 L113.772 928.282 L93.8652 928.282 L93.8652 924.346 Z\" fill=\"#000000\" fill-rule=\"nonzero\" fill-opacity=\"1\" /><path clip-path=\"url(#clip220)\" d=\"M123.217 922.402 L128.101 922.402 L128.101 928.282 L123.217 928.282 L123.217 922.402 Z\" fill=\"#000000\" fill-rule=\"nonzero\" fill-opacity=\"1\" /><path clip-path=\"url(#clip220)\" d=\"M148.286 896.8 Q144.675 896.8 142.846 900.365 Q141.041 903.907 141.041 911.036 Q141.041 918.143 142.846 921.708 Q144.675 925.249 148.286 925.249 Q151.92 925.249 153.726 921.708 Q155.555 918.143 155.555 911.036 Q155.555 903.907 153.726 900.365 Q151.92 896.8 148.286 896.8 M148.286 893.097 Q154.096 893.097 157.152 897.703 Q160.231 902.286 160.231 911.036 Q160.231 919.763 157.152 924.37 Q154.096 928.953 148.286 928.953 Q142.476 928.953 139.397 924.37 Q136.342 919.763 136.342 911.036 Q136.342 902.286 139.397 897.703 Q142.476 893.097 148.286 893.097 Z\" fill=\"#000000\" fill-rule=\"nonzero\" fill-opacity=\"1\" /><path clip-path=\"url(#clip220)\" d=\"M178.448 896.8 Q174.837 896.8 173.008 900.365 Q171.203 903.907 171.203 911.036 Q171.203 918.143 173.008 921.708 Q174.837 925.249 178.448 925.249 Q182.082 925.249 183.888 921.708 Q185.717 918.143 185.717 911.036 Q185.717 903.907 183.888 900.365 Q182.082 896.8 178.448 896.8 M178.448 893.097 Q184.258 893.097 187.314 897.703 Q190.392 902.286 190.392 911.036 Q190.392 919.763 187.314 924.37 Q184.258 928.953 178.448 928.953 Q172.638 928.953 169.559 924.37 Q166.504 919.763 166.504 911.036 Q166.504 902.286 169.559 897.703 Q172.638 893.097 178.448 893.097 Z\" fill=\"#000000\" fill-rule=\"nonzero\" fill-opacity=\"1\" /><path clip-path=\"url(#clip220)\" d=\"M226.781 902.819 L216.202 913.444 L226.781 924.022 L224.026 926.823 L213.402 916.198 L202.777 926.823 L200.045 924.022 L210.601 913.444 L200.045 902.819 L202.777 900.018 L213.402 910.643 L224.026 900.018 L226.781 902.819 Z\" fill=\"#000000\" fill-rule=\"nonzero\" fill-opacity=\"1\" /><path clip-path=\"url(#clip220)\" d=\"M239.142 924.346 L246.781 924.346 L246.781 897.981 L238.471 899.647 L238.471 895.388 L246.735 893.722 L251.411 893.722 L251.411 924.346 L259.049 924.346 L259.049 928.282 L239.142 928.282 L239.142 924.346 Z\" fill=\"#000000\" fill-rule=\"nonzero\" fill-opacity=\"1\" /><path clip-path=\"url(#clip220)\" d=\"M278.494 896.8 Q274.883 896.8 273.054 900.365 Q271.248 903.907 271.248 911.036 Q271.248 918.143 273.054 921.708 Q274.883 925.249 278.494 925.249 Q282.128 925.249 283.934 921.708 Q285.762 918.143 285.762 911.036 Q285.762 903.907 283.934 900.365 Q282.128 896.8 278.494 896.8 M278.494 893.097 Q284.304 893.097 287.359 897.703 Q290.438 902.286 290.438 911.036 Q290.438 919.763 287.359 924.37 Q284.304 928.953 278.494 928.953 Q272.684 928.953 269.605 924.37 Q266.549 919.763 266.549 911.036 Q266.549 902.286 269.605 897.703 Q272.684 893.097 278.494 893.097 Z\" fill=\"#000000\" fill-rule=\"nonzero\" fill-opacity=\"1\" /><path clip-path=\"url(#clip220)\" d=\"M291.623 872.791 L306.538 872.791 L306.538 875.988 L295.103 875.988 L295.103 882.872 Q295.93 882.59 296.758 882.458 Q297.585 882.308 298.413 882.308 Q303.115 882.308 305.861 884.885 Q308.606 887.461 308.606 891.862 Q308.606 896.395 305.785 898.915 Q302.964 901.417 297.83 901.417 Q296.062 901.417 294.219 901.116 Q292.394 900.815 290.438 900.213 L290.438 896.395 Q292.131 897.316 293.936 897.768 Q295.742 898.219 297.754 898.219 Q301.008 898.219 302.908 896.508 Q304.807 894.796 304.807 891.862 Q304.807 888.928 302.908 887.217 Q301.008 885.505 297.754 885.505 Q296.231 885.505 294.708 885.844 Q293.203 886.182 291.623 886.897 L291.623 872.791 Z\" fill=\"#000000\" fill-rule=\"nonzero\" fill-opacity=\"1\" /><path clip-path=\"url(#clip220)\" d=\"M50.9921 499.751 L80.6679 499.751 L80.6679 503.686 L50.9921 503.686 L50.9921 499.751 Z\" fill=\"#000000\" fill-rule=\"nonzero\" fill-opacity=\"1\" /><path clip-path=\"url(#clip220)\" d=\"M90.8067 482.019 L109.163 482.019 L109.163 485.954 L95.0891 485.954 L95.0891 494.427 Q96.1076 494.079 97.1261 493.917 Q98.1447 493.732 99.1632 493.732 Q104.95 493.732 108.33 496.903 Q111.709 500.075 111.709 505.491 Q111.709 511.07 108.237 514.172 Q104.765 517.251 98.4456 517.251 Q96.2697 517.251 94.0012 516.88 Q91.7558 516.51 89.3484 515.769 L89.3484 511.07 Q91.4317 512.204 93.6539 512.76 Q95.8761 513.315 98.353 513.315 Q102.358 513.315 104.696 511.209 Q107.033 509.102 107.033 505.491 Q107.033 501.88 104.696 499.774 Q102.358 497.667 98.353 497.667 Q96.478 497.667 94.603 498.084 Q92.7512 498.501 90.8067 499.38 L90.8067 482.019 Z\" fill=\"#000000\" fill-rule=\"nonzero\" fill-opacity=\"1\" /><path clip-path=\"url(#clip220)\" d=\"M120.922 510.7 L125.807 510.7 L125.807 516.579 L120.922 516.579 L120.922 510.7 Z\" fill=\"#000000\" fill-rule=\"nonzero\" fill-opacity=\"1\" /><path clip-path=\"url(#clip220)\" d=\"M145.992 485.098 Q142.381 485.098 140.552 488.663 Q138.746 492.204 138.746 499.334 Q138.746 506.44 140.552 510.005 Q142.381 513.547 145.992 513.547 Q149.626 513.547 151.431 510.005 Q153.26 506.44 153.26 499.334 Q153.26 492.204 151.431 488.663 Q149.626 485.098 145.992 485.098 M145.992 481.394 Q151.802 481.394 154.857 486.001 Q157.936 490.584 157.936 499.334 Q157.936 508.061 154.857 512.667 Q151.802 517.251 145.992 517.251 Q140.181 517.251 137.103 512.667 Q134.047 508.061 134.047 499.334 Q134.047 490.584 137.103 486.001 Q140.181 481.394 145.992 481.394 Z\" fill=\"#000000\" fill-rule=\"nonzero\" fill-opacity=\"1\" /><path clip-path=\"url(#clip220)\" d=\"M176.153 485.098 Q172.542 485.098 170.714 488.663 Q168.908 492.204 168.908 499.334 Q168.908 506.44 170.714 510.005 Q172.542 513.547 176.153 513.547 Q179.788 513.547 181.593 510.005 Q183.422 506.44 183.422 499.334 Q183.422 492.204 181.593 488.663 Q179.788 485.098 176.153 485.098 M176.153 481.394 Q181.964 481.394 185.019 486.001 Q188.098 490.584 188.098 499.334 Q188.098 508.061 185.019 512.667 Q181.964 517.251 176.153 517.251 Q170.343 517.251 167.265 512.667 Q164.209 508.061 164.209 499.334 Q164.209 490.584 167.265 486.001 Q170.343 481.394 176.153 481.394 Z\" fill=\"#000000\" fill-rule=\"nonzero\" fill-opacity=\"1\" /><path clip-path=\"url(#clip220)\" d=\"M224.487 491.116 L213.908 501.741 L224.487 512.32 L221.732 515.121 L211.107 504.496 L200.482 515.121 L197.751 512.32 L208.306 501.741 L197.751 491.116 L200.482 488.315 L211.107 498.94 L221.732 488.315 L224.487 491.116 Z\" fill=\"#000000\" fill-rule=\"nonzero\" fill-opacity=\"1\" /><path clip-path=\"url(#clip220)\" d=\"M236.848 512.644 L244.486 512.644 L244.486 486.278 L236.176 487.945 L236.176 483.686 L244.44 482.019 L249.116 482.019 L249.116 512.644 L256.755 512.644 L256.755 516.579 L236.848 516.579 L236.848 512.644 Z\" fill=\"#000000\" fill-rule=\"nonzero\" fill-opacity=\"1\" /><path clip-path=\"url(#clip220)\" d=\"M276.199 485.098 Q272.588 485.098 270.759 488.663 Q268.954 492.204 268.954 499.334 Q268.954 506.44 270.759 510.005 Q272.588 513.547 276.199 513.547 Q279.833 513.547 281.639 510.005 Q283.468 506.44 283.468 499.334 Q283.468 492.204 281.639 488.663 Q279.833 485.098 276.199 485.098 M276.199 481.394 Q282.009 481.394 285.065 486.001 Q288.144 490.584 288.144 499.334 Q288.144 508.061 285.065 512.667 Q282.009 517.251 276.199 517.251 Q270.389 517.251 267.31 512.667 Q264.255 508.061 264.255 499.334 Q264.255 490.584 267.31 486.001 Q270.389 481.394 276.199 481.394 Z\" fill=\"#000000\" fill-rule=\"nonzero\" fill-opacity=\"1\" /><path clip-path=\"url(#clip220)\" d=\"M300.82 464.399 L291.228 479.389 L300.82 479.389 L300.82 464.399 M299.823 461.089 L304.6 461.089 L304.6 479.389 L308.606 479.389 L308.606 482.548 L304.6 482.548 L304.6 489.169 L300.82 489.169 L300.82 482.548 L288.144 482.548 L288.144 478.881 L299.823 461.089 Z\" fill=\"#000000\" fill-rule=\"nonzero\" fill-opacity=\"1\" /><path clip-path=\"url(#clip220)\" d=\"M296.662 66.948 Q293.051 66.948 291.222 70.5127 Q289.417 74.0544 289.417 81.184 Q289.417 88.2904 291.222 91.8552 Q293.051 95.3969 296.662 95.3969 Q300.296 95.3969 302.102 91.8552 Q303.931 88.2904 303.931 81.184 Q303.931 74.0544 302.102 70.5127 Q300.296 66.948 296.662 66.948 M296.662 63.2443 Q302.472 63.2443 305.528 67.8507 Q308.606 72.434 308.606 81.184 Q308.606 89.9108 305.528 94.5172 Q302.472 99.1006 296.662 99.1006 Q290.852 99.1006 287.773 94.5172 Q284.718 89.9108 284.718 81.184 Q284.718 72.434 287.773 67.8507 Q290.852 63.2443 296.662 63.2443 Z\" fill=\"#000000\" fill-rule=\"nonzero\" fill-opacity=\"1\" /><polyline clip-path=\"url(#clip222)\" style=\"stroke:#009af9; stroke-linecap:round; stroke-linejoin:round; stroke-width:4; stroke-opacity:1; fill:none\" points=\"401.441,88.0156 410.961,94.8559 420.481,101.679 430.001,108.502 439.521,115.324 449.041,122.147 458.561,128.969 468.081,135.792 477.601,142.614 487.121,149.437 496.641,156.259 506.161,163.082 515.681,169.904 525.201,176.727 534.721,183.549 544.241,190.372 553.761,197.194 563.281,204.017 572.801,210.839 582.321,217.662 591.841,224.484 601.361,231.307 610.881,238.129 620.401,244.952 629.921,251.775 639.441,258.597 648.961,265.42 658.481,272.242 668.001,279.065 677.521,285.887 687.041,292.71 696.561,299.532 706.081,306.355 715.601,313.177 725.121,320 734.641,326.822 744.161,333.645 753.681,340.467 763.201,347.29 772.721,354.112 782.241,360.935 791.761,367.757 801.281,374.58 810.801,381.402 820.321,388.225 829.841,395.047 839.361,401.87 848.881,408.692 858.401,415.515 867.921,422.338 877.441,429.16 886.961,435.983 896.481,442.805 906.001,449.628 915.521,456.45 925.041,463.273 934.561,470.095 944.081,476.918 953.601,483.74 963.121,490.563 972.641,497.385 982.161,504.208 991.681,511.03 1001.2,517.853 1010.72,524.675 1020.24,531.498 1029.76,538.32 1039.28,545.143 1048.8,551.965 1058.32,558.788 1067.84,565.61 1077.36,572.433 1086.88,579.256 1096.4,586.078 1105.92,592.901 1115.44,599.723 1124.96,606.546 1134.48,613.368 1144,620.191 1153.52,627.013 1163.04,633.836 1172.56,640.658 1182.08,647.481 1191.6,654.303 1201.12,661.126 1210.64,667.948 1220.16,674.771 1229.68,681.593 1239.2,688.416 1248.72,695.238 1258.24,702.061 1267.76,708.883 1277.28,715.706 1286.8,722.528 1296.32,729.351 1305.84,736.173 1315.36,742.996 1324.88,749.819 1334.4,756.641 1343.92,763.464 1353.44,770.286 1362.96,777.109 1372.48,783.931 1382,790.754 1391.52,797.576 1401.04,804.399 1410.56,811.221 1420.08,818.044 1429.6,824.866 1439.12,831.689 1448.64,838.511 1458.16,845.334 1467.68,852.156 1477.2,858.979 1486.72,865.801 1496.24,872.624 1505.76,879.446 1515.28,886.269 1524.8,893.091 1534.32,899.914 1543.84,906.737 1553.36,913.559 1562.88,920.382 1572.4,927.204 1581.92,934.027 1591.44,940.849 1600.96,947.672 1610.48,954.494 1620,961.317 1629.52,968.139 1639.04,974.962 1648.56,981.784 1658.08,988.607 1667.6,995.429 1677.12,1002.25 1686.64,1009.07 1696.16,1015.9 1705.68,1022.72 1715.2,1029.54 1724.72,1036.36 1734.24,1043.19 1743.76,1050.01 1753.28,1056.83 1762.8,1063.65 1772.32,1070.48 1781.84,1077.3 1791.36,1084.12 1800.88,1090.94 1810.4,1097.77 1819.92,1104.59 1829.44,1111.41 1838.96,1118.23 1848.48,1125.06 1858,1131.88 1867.52,1138.7 1877.04,1145.52 1886.56,1152.35 1896.08,1159.17 1905.6,1165.99 1915.12,1172.81 1924.64,1179.64 1934.16,1186.46 1943.68,1193.28 1953.2,1200.1 1962.72,1206.93 1972.24,1213.75 1981.76,1220.57 1991.28,1227.4 2000.8,1234.22 2010.32,1241.04 2019.84,1247.86 2029.36,1254.69 2038.88,1261.51 2048.4,1268.33 2057.92,1275.15 2067.44,1281.98 2076.96,1288.8 2086.48,1295.62 2096,1302.44 2105.52,1309.27 2115.04,1316.09 2124.56,1322.91 2134.08,1329.73 2143.6,1336.56 2153.12,1343.38 2162.64,1350.2 2172.16,1357.02 2181.68,1363.85 2191.2,1370.67 2200.72,1377.49 2210.24,1384.31 2219.76,1391.14 2229.28,1397.96 2238.8,1404.78 2248.32,1411.6 2257.84,1418.43 2267.36,1425.25 2276.88,1432.07 2286.4,1438.89 2295.92,1445.72 \"/>\n",
       "<polyline clip-path=\"url(#clip222)\" style=\"stroke:#e26f46; stroke-linecap:round; stroke-linejoin:round; stroke-width:4; stroke-opacity:1; fill:none\" points=\"401.441,87.9763 410.961,94.7988 420.481,101.621 430.001,108.444 439.521,115.266 449.041,122.089 458.561,128.911 468.081,135.734 477.601,142.556 487.121,149.379 496.641,156.201 506.161,163.024 515.681,169.847 525.201,176.669 534.721,183.492 544.241,190.314 553.761,197.137 563.281,203.959 572.801,210.782 582.321,217.604 591.841,224.427 601.361,231.249 610.881,238.072 620.401,244.894 629.921,251.717 639.441,258.539 648.961,265.362 658.481,272.184 668.001,279.007 677.521,285.829 687.041,292.652 696.561,299.474 706.081,306.297 715.601,313.119 725.121,319.942 734.641,326.765 744.161,333.587 753.681,340.41 763.201,347.232 772.721,354.055 782.241,360.877 791.761,367.7 801.281,374.522 810.801,381.345 820.321,388.167 829.841,394.99 839.361,401.812 848.881,408.635 858.401,415.457 867.921,422.28 877.441,429.102 886.961,435.925 896.481,442.747 906.001,449.57 915.521,456.392 925.041,463.215 934.561,470.037 944.081,476.86 953.601,483.682 963.121,490.505 972.641,497.328 982.161,504.15 991.681,510.973 1001.2,517.795 1010.72,524.618 1020.24,531.44 1029.76,538.263 1039.28,545.085 1048.8,551.908 1058.32,558.73 1067.84,565.553 1077.36,572.375 1086.88,579.198 1096.4,586.02 1105.92,592.843 1115.44,599.665 1124.96,606.488 1134.48,613.31 1144,620.133 1153.52,626.955 1163.04,633.778 1172.56,640.6 1182.08,647.423 1191.6,654.246 1201.12,661.068 1210.64,667.891 1220.16,674.713 1229.68,681.536 1239.2,688.358 1248.72,695.181 1258.24,702.003 1267.76,708.826 1277.28,715.648 1286.8,722.471 1296.32,729.293 1305.84,736.116 1315.36,742.938 1324.88,749.761 1334.4,756.583 1343.92,763.406 1353.44,770.228 1362.96,777.051 1372.48,783.873 1382,790.696 1391.52,797.518 1401.04,804.341 1410.56,811.164 1420.08,817.986 1429.6,824.809 1439.12,831.631 1448.64,838.454 1458.16,845.276 1467.68,852.099 1477.2,858.921 1486.72,865.744 1496.24,872.566 1505.76,879.389 1515.28,886.211 1524.8,893.034 1534.32,899.856 1543.84,906.679 1553.36,913.501 1562.88,920.324 1572.4,927.146 1581.92,933.969 1591.44,940.791 1600.96,947.614 1610.48,954.436 1620,961.259 1629.52,968.081 1639.04,974.904 1648.56,981.727 1658.08,988.549 1667.6,995.372 1677.12,1002.19 1686.64,1009.02 1696.16,1015.84 1705.68,1022.66 1715.2,1029.48 1724.72,1036.31 1734.24,1043.13 1743.76,1049.95 1753.28,1056.77 1762.8,1063.6 1772.32,1070.42 1781.84,1077.24 1791.36,1084.06 1800.88,1090.89 1810.4,1097.71 1819.92,1104.53 1829.44,1111.35 1838.96,1118.18 1848.48,1125 1858,1131.82 1867.52,1138.64 1877.04,1145.47 1886.56,1152.29 1896.08,1159.11 1905.6,1165.93 1915.12,1172.76 1924.64,1179.58 1934.16,1186.4 1943.68,1193.22 1953.2,1200.05 1962.72,1206.87 1972.24,1213.69 1981.76,1220.51 1991.28,1227.34 2000.8,1234.16 2010.32,1240.98 2019.84,1247.8 2029.36,1254.63 2038.88,1261.45 2048.4,1268.27 2057.92,1275.09 2067.44,1281.92 2076.96,1288.74 2086.48,1295.56 2096,1302.39 2105.52,1309.21 2115.04,1316.03 2124.56,1322.85 2134.08,1329.68 2143.6,1336.5 2153.12,1343.32 2162.64,1350.14 2172.16,1356.97 2181.68,1363.79 2191.2,1370.61 2200.72,1377.43 2210.24,1384.26 2219.76,1391.08 2229.28,1397.9 2238.8,1404.72 2248.32,1411.55 2257.84,1418.37 2267.36,1425.19 2276.88,1432.01 2286.4,1438.84 2295.92,1445.66 \"/>\n",
       "<path clip-path=\"url(#clip220)\" d=\"M2039.96 250.738 L2285.82 250.738 L2285.82 95.2176 L2039.96 95.2176  Z\" fill=\"#ffffff\" fill-rule=\"evenodd\" fill-opacity=\"1\"/>\n",
       "<polyline clip-path=\"url(#clip220)\" style=\"stroke:#000000; stroke-linecap:round; stroke-linejoin:round; stroke-width:4; stroke-opacity:1; fill:none\" points=\"2039.96,250.738 2285.82,250.738 2285.82,95.2176 2039.96,95.2176 2039.96,250.738 \"/>\n",
       "<polyline clip-path=\"url(#clip220)\" style=\"stroke:#009af9; stroke-linecap:round; stroke-linejoin:round; stroke-width:4; stroke-opacity:1; fill:none\" points=\"2062.27,147.058 2196.15,147.058 \"/>\n",
       "<path clip-path=\"url(#clip220)\" d=\"M2235.43 152.277 L2234.41 146.93 Q2233.37 141.444 2229.25 141.444 Q2226.14 141.444 2224.73 143.99 Q2222.95 147.185 2222.95 151.398 Q2222.95 156.49 2224.69 158.921 Q2226.44 161.398 2229.25 161.398 Q2232.35 161.398 2234.01 156.467 L2235.43 152.277 M2237.81 145.194 L2240.1 138.412 L2243.9 138.412 L2239.15 152.463 L2240.08 157.532 Q2240.29 158.666 2241.1 159.615 Q2242.05 160.726 2242.79 160.726 L2244.82 160.726 L2244.82 164.338 L2242.28 164.338 Q2240.1 164.338 2238.16 162.393 Q2237.21 161.421 2236.82 159.384 Q2235.75 161.953 2233.57 163.967 Q2232.56 164.916 2229.25 164.916 Q2223.81 164.916 2221.17 161.398 Q2218.46 157.764 2218.46 151.398 Q2218.46 144.592 2221.4 141.398 Q2224.66 137.833 2229.25 137.833 Q2236.44 137.833 2237.81 145.194 Z\" fill=\"#000000\" fill-rule=\"nonzero\" fill-opacity=\"1\" /><path clip-path=\"url(#clip220)\" d=\"M2250.7 161.791 L2255.43 161.791 L2255.43 147.648 L2250.26 148.597 L2250.26 145.912 L2255.59 145.009 L2258.76 145.009 L2258.76 161.791 L2263.5 161.791 L2263.5 164.338 L2250.7 164.338 L2250.7 161.791 Z\" fill=\"#000000\" fill-rule=\"nonzero\" fill-opacity=\"1\" /><polyline clip-path=\"url(#clip220)\" style=\"stroke:#e26f46; stroke-linecap:round; stroke-linejoin:round; stroke-width:4; stroke-opacity:1; fill:none\" points=\"2062.27,198.898 2196.15,198.898 \"/>\n",
       "<path clip-path=\"url(#clip220)\" d=\"M2235.43 204.117 L2234.41 198.77 Q2233.37 193.284 2229.25 193.284 Q2226.14 193.284 2224.73 195.83 Q2222.95 199.025 2222.95 203.238 Q2222.95 208.33 2224.69 210.761 Q2226.44 213.238 2229.25 213.238 Q2232.35 213.238 2234.01 208.307 L2235.43 204.117 M2237.81 197.034 L2240.1 190.252 L2243.9 190.252 L2239.15 204.303 L2240.08 209.372 Q2240.29 210.506 2241.1 211.455 Q2242.05 212.566 2242.79 212.566 L2244.82 212.566 L2244.82 216.178 L2242.28 216.178 Q2240.1 216.178 2238.16 214.233 Q2237.21 213.261 2236.82 211.224 Q2235.75 213.793 2233.57 215.807 Q2232.56 216.756 2229.25 216.756 Q2223.81 216.756 2221.17 213.238 Q2218.46 209.604 2218.46 203.238 Q2218.46 196.432 2221.4 193.238 Q2224.66 189.673 2229.25 189.673 Q2236.44 189.673 2237.81 197.034 Z\" fill=\"#000000\" fill-rule=\"nonzero\" fill-opacity=\"1\" /><path clip-path=\"url(#clip220)\" d=\"M2253.3 213.539 L2263.11 213.539 L2263.11 216.178 L2249.27 216.178 L2249.27 213.631 Q2250.06 212.914 2251.51 211.617 Q2259.48 204.557 2259.48 202.381 Q2259.48 200.854 2258.27 199.928 Q2257.07 198.979 2255.1 198.979 Q2253.9 198.979 2252.49 199.395 Q2251.07 199.789 2249.41 200.599 L2249.41 197.752 Q2251.19 197.104 2252.72 196.78 Q2254.27 196.455 2255.59 196.455 Q2258.94 196.455 2260.96 197.983 Q2262.97 199.511 2262.97 202.011 Q2262.97 205.229 2255.31 211.803 Q2254.01 212.914 2253.3 213.539 Z\" fill=\"#000000\" fill-rule=\"nonzero\" fill-opacity=\"1\" /></svg>\n"
      ],
      "text/html": [
       "<?xml version=\"1.0\" encoding=\"utf-8\"?>\n",
       "<svg xmlns=\"http://www.w3.org/2000/svg\" xmlns:xlink=\"http://www.w3.org/1999/xlink\" width=\"600\" height=\"400\" viewBox=\"0 0 2400 1600\">\n",
       "<defs>\n",
       "  <clipPath id=\"clip270\">\n",
       "    <rect x=\"0\" y=\"0\" width=\"2400\" height=\"1600\"/>\n",
       "  </clipPath>\n",
       "</defs>\n",
       "<path clip-path=\"url(#clip270)\" d=\"M0 1600 L2400 1600 L2400 0 L0 0  Z\" fill=\"#ffffff\" fill-rule=\"evenodd\" fill-opacity=\"1\"/>\n",
       "<defs>\n",
       "  <clipPath id=\"clip271\">\n",
       "    <rect x=\"480\" y=\"0\" width=\"1681\" height=\"1600\"/>\n",
       "  </clipPath>\n",
       "</defs>\n",
       "<path clip-path=\"url(#clip270)\" d=\"M344.606 1486.45 L2352.76 1486.45 L2352.76 47.2441 L344.606 47.2441  Z\" fill=\"#ffffff\" fill-rule=\"evenodd\" fill-opacity=\"1\"/>\n",
       "<defs>\n",
       "  <clipPath id=\"clip272\">\n",
       "    <rect x=\"344\" y=\"47\" width=\"2009\" height=\"1440\"/>\n",
       "  </clipPath>\n",
       "</defs>\n",
       "<polyline clip-path=\"url(#clip272)\" style=\"stroke:#000000; stroke-linecap:round; stroke-linejoin:round; stroke-width:2; stroke-opacity:0.1; fill:none\" points=\"391.921,1486.45 391.921,47.2441 \"/>\n",
       "<polyline clip-path=\"url(#clip272)\" style=\"stroke:#000000; stroke-linecap:round; stroke-linejoin:round; stroke-width:2; stroke-opacity:0.1; fill:none\" points=\"867.921,1486.45 867.921,47.2441 \"/>\n",
       "<polyline clip-path=\"url(#clip272)\" style=\"stroke:#000000; stroke-linecap:round; stroke-linejoin:round; stroke-width:2; stroke-opacity:0.1; fill:none\" points=\"1343.92,1486.45 1343.92,47.2441 \"/>\n",
       "<polyline clip-path=\"url(#clip272)\" style=\"stroke:#000000; stroke-linecap:round; stroke-linejoin:round; stroke-width:2; stroke-opacity:0.1; fill:none\" points=\"1819.92,1486.45 1819.92,47.2441 \"/>\n",
       "<polyline clip-path=\"url(#clip272)\" style=\"stroke:#000000; stroke-linecap:round; stroke-linejoin:round; stroke-width:2; stroke-opacity:0.1; fill:none\" points=\"2295.92,1486.45 2295.92,47.2441 \"/>\n",
       "<polyline clip-path=\"url(#clip270)\" style=\"stroke:#000000; stroke-linecap:round; stroke-linejoin:round; stroke-width:4; stroke-opacity:1; fill:none\" points=\"344.606,1486.45 2352.76,1486.45 \"/>\n",
       "<polyline clip-path=\"url(#clip270)\" style=\"stroke:#000000; stroke-linecap:round; stroke-linejoin:round; stroke-width:4; stroke-opacity:1; fill:none\" points=\"391.921,1486.45 391.921,1467.55 \"/>\n",
       "<polyline clip-path=\"url(#clip270)\" style=\"stroke:#000000; stroke-linecap:round; stroke-linejoin:round; stroke-width:4; stroke-opacity:1; fill:none\" points=\"867.921,1486.45 867.921,1467.55 \"/>\n",
       "<polyline clip-path=\"url(#clip270)\" style=\"stroke:#000000; stroke-linecap:round; stroke-linejoin:round; stroke-width:4; stroke-opacity:1; fill:none\" points=\"1343.92,1486.45 1343.92,1467.55 \"/>\n",
       "<polyline clip-path=\"url(#clip270)\" style=\"stroke:#000000; stroke-linecap:round; stroke-linejoin:round; stroke-width:4; stroke-opacity:1; fill:none\" points=\"1819.92,1486.45 1819.92,1467.55 \"/>\n",
       "<polyline clip-path=\"url(#clip270)\" style=\"stroke:#000000; stroke-linecap:round; stroke-linejoin:round; stroke-width:4; stroke-opacity:1; fill:none\" points=\"2295.92,1486.45 2295.92,1467.55 \"/>\n",
       "<path clip-path=\"url(#clip270)\" d=\"M391.921 1517.37 Q388.31 1517.37 386.481 1520.93 Q384.676 1524.47 384.676 1531.6 Q384.676 1538.71 386.481 1542.27 Q388.31 1545.82 391.921 1545.82 Q395.555 1545.82 397.361 1542.27 Q399.189 1538.71 399.189 1531.6 Q399.189 1524.47 397.361 1520.93 Q395.555 1517.37 391.921 1517.37 M391.921 1513.66 Q397.731 1513.66 400.787 1518.27 Q403.865 1522.85 403.865 1531.6 Q403.865 1540.33 400.787 1544.94 Q397.731 1549.52 391.921 1549.52 Q386.111 1549.52 383.032 1544.94 Q379.977 1540.33 379.977 1531.6 Q379.977 1522.85 383.032 1518.27 Q386.111 1513.66 391.921 1513.66 Z\" fill=\"#000000\" fill-rule=\"nonzero\" fill-opacity=\"1\" /><path clip-path=\"url(#clip270)\" d=\"M842.62 1514.29 L860.977 1514.29 L860.977 1518.22 L846.903 1518.22 L846.903 1526.7 Q847.921 1526.35 848.94 1526.19 Q849.958 1526 850.977 1526 Q856.764 1526 860.143 1529.17 Q863.523 1532.34 863.523 1537.76 Q863.523 1543.34 860.051 1546.44 Q856.579 1549.52 850.259 1549.52 Q848.083 1549.52 845.815 1549.15 Q843.569 1548.78 841.162 1548.04 L841.162 1543.34 Q843.245 1544.47 845.467 1545.03 Q847.69 1545.58 850.167 1545.58 Q854.171 1545.58 856.509 1543.48 Q858.847 1541.37 858.847 1537.76 Q858.847 1534.15 856.509 1532.04 Q854.171 1529.94 850.167 1529.94 Q848.292 1529.94 846.417 1530.35 Q844.565 1530.77 842.62 1531.65 L842.62 1514.29 Z\" fill=\"#000000\" fill-rule=\"nonzero\" fill-opacity=\"1\" /><path clip-path=\"url(#clip270)\" d=\"M882.736 1517.37 Q879.125 1517.37 877.296 1520.93 Q875.49 1524.47 875.49 1531.6 Q875.49 1538.71 877.296 1542.27 Q879.125 1545.82 882.736 1545.82 Q886.37 1545.82 888.176 1542.27 Q890.004 1538.71 890.004 1531.6 Q890.004 1524.47 888.176 1520.93 Q886.37 1517.37 882.736 1517.37 M882.736 1513.66 Q888.546 1513.66 891.601 1518.27 Q894.68 1522.85 894.68 1531.6 Q894.68 1540.33 891.601 1544.94 Q888.546 1549.52 882.736 1549.52 Q876.926 1549.52 873.847 1544.94 Q870.791 1540.33 870.791 1531.6 Q870.791 1522.85 873.847 1518.27 Q876.926 1513.66 882.736 1513.66 Z\" fill=\"#000000\" fill-rule=\"nonzero\" fill-opacity=\"1\" /><path clip-path=\"url(#clip270)\" d=\"M1303.53 1544.91 L1311.17 1544.91 L1311.17 1518.55 L1302.86 1520.21 L1302.86 1515.95 L1311.12 1514.29 L1315.8 1514.29 L1315.8 1544.91 L1323.44 1544.91 L1323.44 1548.85 L1303.53 1548.85 L1303.53 1544.91 Z\" fill=\"#000000\" fill-rule=\"nonzero\" fill-opacity=\"1\" /><path clip-path=\"url(#clip270)\" d=\"M1342.88 1517.37 Q1339.27 1517.37 1337.44 1520.93 Q1335.63 1524.47 1335.63 1531.6 Q1335.63 1538.71 1337.44 1542.27 Q1339.27 1545.82 1342.88 1545.82 Q1346.51 1545.82 1348.32 1542.27 Q1350.15 1538.71 1350.15 1531.6 Q1350.15 1524.47 1348.32 1520.93 Q1346.51 1517.37 1342.88 1517.37 M1342.88 1513.66 Q1348.69 1513.66 1351.75 1518.27 Q1354.82 1522.85 1354.82 1531.6 Q1354.82 1540.33 1351.75 1544.94 Q1348.69 1549.52 1342.88 1549.52 Q1337.07 1549.52 1333.99 1544.94 Q1330.94 1540.33 1330.94 1531.6 Q1330.94 1522.85 1333.99 1518.27 Q1337.07 1513.66 1342.88 1513.66 Z\" fill=\"#000000\" fill-rule=\"nonzero\" fill-opacity=\"1\" /><path clip-path=\"url(#clip270)\" d=\"M1373.04 1517.37 Q1369.43 1517.37 1367.6 1520.93 Q1365.8 1524.47 1365.8 1531.6 Q1365.8 1538.71 1367.6 1542.27 Q1369.43 1545.82 1373.04 1545.82 Q1376.68 1545.82 1378.48 1542.27 Q1380.31 1538.71 1380.31 1531.6 Q1380.31 1524.47 1378.48 1520.93 Q1376.68 1517.37 1373.04 1517.37 M1373.04 1513.66 Q1378.85 1513.66 1381.91 1518.27 Q1384.99 1522.85 1384.99 1531.6 Q1384.99 1540.33 1381.91 1544.94 Q1378.85 1549.52 1373.04 1549.52 Q1367.23 1549.52 1364.15 1544.94 Q1361.1 1540.33 1361.1 1531.6 Q1361.1 1522.85 1364.15 1518.27 Q1367.23 1513.66 1373.04 1513.66 Z\" fill=\"#000000\" fill-rule=\"nonzero\" fill-opacity=\"1\" /><path clip-path=\"url(#clip270)\" d=\"M1779.53 1544.91 L1787.17 1544.91 L1787.17 1518.55 L1778.86 1520.21 L1778.86 1515.95 L1787.12 1514.29 L1791.8 1514.29 L1791.8 1544.91 L1799.44 1544.91 L1799.44 1548.85 L1779.53 1548.85 L1779.53 1544.91 Z\" fill=\"#000000\" fill-rule=\"nonzero\" fill-opacity=\"1\" /><path clip-path=\"url(#clip270)\" d=\"M1808.93 1514.29 L1827.28 1514.29 L1827.28 1518.22 L1813.21 1518.22 L1813.21 1526.7 Q1814.23 1526.35 1815.25 1526.19 Q1816.26 1526 1817.28 1526 Q1823.07 1526 1826.45 1529.17 Q1829.83 1532.34 1829.83 1537.76 Q1829.83 1543.34 1826.36 1546.44 Q1822.88 1549.52 1816.56 1549.52 Q1814.39 1549.52 1812.12 1549.15 Q1809.88 1548.78 1807.47 1548.04 L1807.47 1543.34 Q1809.55 1544.47 1811.77 1545.03 Q1814 1545.58 1816.47 1545.58 Q1820.48 1545.58 1822.81 1543.48 Q1825.15 1541.37 1825.15 1537.76 Q1825.15 1534.15 1822.81 1532.04 Q1820.48 1529.94 1816.47 1529.94 Q1814.6 1529.94 1812.72 1530.35 Q1810.87 1530.77 1808.93 1531.65 L1808.93 1514.29 Z\" fill=\"#000000\" fill-rule=\"nonzero\" fill-opacity=\"1\" /><path clip-path=\"url(#clip270)\" d=\"M1849.04 1517.37 Q1845.43 1517.37 1843.6 1520.93 Q1841.8 1524.47 1841.8 1531.6 Q1841.8 1538.71 1843.6 1542.27 Q1845.43 1545.82 1849.04 1545.82 Q1852.68 1545.82 1854.48 1542.27 Q1856.31 1538.71 1856.31 1531.6 Q1856.31 1524.47 1854.48 1520.93 Q1852.68 1517.37 1849.04 1517.37 M1849.04 1513.66 Q1854.85 1513.66 1857.91 1518.27 Q1860.99 1522.85 1860.99 1531.6 Q1860.99 1540.33 1857.91 1544.94 Q1854.85 1549.52 1849.04 1549.52 Q1843.23 1549.52 1840.15 1544.94 Q1837.1 1540.33 1837.1 1531.6 Q1837.1 1522.85 1840.15 1518.27 Q1843.23 1513.66 1849.04 1513.66 Z\" fill=\"#000000\" fill-rule=\"nonzero\" fill-opacity=\"1\" /><path clip-path=\"url(#clip270)\" d=\"M2259.61 1544.91 L2275.93 1544.91 L2275.93 1548.85 L2253.99 1548.85 L2253.99 1544.91 Q2256.65 1542.16 2261.23 1537.53 Q2265.84 1532.88 2267.02 1531.53 Q2269.27 1529.01 2270.15 1527.27 Q2271.05 1525.51 2271.05 1523.82 Q2271.05 1521.07 2269.1 1519.33 Q2267.18 1517.6 2264.08 1517.6 Q2261.88 1517.6 2259.43 1518.36 Q2257 1519.13 2254.22 1520.68 L2254.22 1515.95 Q2257.04 1514.82 2259.5 1514.24 Q2261.95 1513.66 2263.99 1513.66 Q2269.36 1513.66 2272.55 1516.35 Q2275.75 1519.03 2275.75 1523.52 Q2275.75 1525.65 2274.94 1527.57 Q2274.15 1529.47 2272.04 1532.07 Q2271.47 1532.74 2268.36 1535.95 Q2265.26 1539.15 2259.61 1544.91 Z\" fill=\"#000000\" fill-rule=\"nonzero\" fill-opacity=\"1\" /><path clip-path=\"url(#clip270)\" d=\"M2295.75 1517.37 Q2292.14 1517.37 2290.31 1520.93 Q2288.5 1524.47 2288.5 1531.6 Q2288.5 1538.71 2290.31 1542.27 Q2292.14 1545.82 2295.75 1545.82 Q2299.38 1545.82 2301.19 1542.27 Q2303.02 1538.71 2303.02 1531.6 Q2303.02 1524.47 2301.19 1520.93 Q2299.38 1517.37 2295.75 1517.37 M2295.75 1513.66 Q2301.56 1513.66 2304.61 1518.27 Q2307.69 1522.85 2307.69 1531.6 Q2307.69 1540.33 2304.61 1544.94 Q2301.56 1549.52 2295.75 1549.52 Q2289.94 1549.52 2286.86 1544.94 Q2283.8 1540.33 2283.8 1531.6 Q2283.8 1522.85 2286.86 1518.27 Q2289.94 1513.66 2295.75 1513.66 Z\" fill=\"#000000\" fill-rule=\"nonzero\" fill-opacity=\"1\" /><path clip-path=\"url(#clip270)\" d=\"M2325.91 1517.37 Q2322.3 1517.37 2320.47 1520.93 Q2318.66 1524.47 2318.66 1531.6 Q2318.66 1538.71 2320.47 1542.27 Q2322.3 1545.82 2325.91 1545.82 Q2329.54 1545.82 2331.35 1542.27 Q2333.18 1538.71 2333.18 1531.6 Q2333.18 1524.47 2331.35 1520.93 Q2329.54 1517.37 2325.91 1517.37 M2325.91 1513.66 Q2331.72 1513.66 2334.78 1518.27 Q2337.85 1522.85 2337.85 1531.6 Q2337.85 1540.33 2334.78 1544.94 Q2331.72 1549.52 2325.91 1549.52 Q2320.1 1549.52 2317.02 1544.94 Q2313.97 1540.33 2313.97 1531.6 Q2313.97 1522.85 2317.02 1518.27 Q2320.1 1513.66 2325.91 1513.66 Z\" fill=\"#000000\" fill-rule=\"nonzero\" fill-opacity=\"1\" /><polyline clip-path=\"url(#clip272)\" style=\"stroke:#000000; stroke-linecap:round; stroke-linejoin:round; stroke-width:2; stroke-opacity:0.1; fill:none\" points=\"344.606,1316.26 2352.76,1316.26 \"/>\n",
       "<polyline clip-path=\"url(#clip272)\" style=\"stroke:#000000; stroke-linecap:round; stroke-linejoin:round; stroke-width:2; stroke-opacity:0.1; fill:none\" points=\"344.606,904.554 2352.76,904.554 \"/>\n",
       "<polyline clip-path=\"url(#clip272)\" style=\"stroke:#000000; stroke-linecap:round; stroke-linejoin:round; stroke-width:2; stroke-opacity:0.1; fill:none\" points=\"344.606,492.852 2352.76,492.852 \"/>\n",
       "<polyline clip-path=\"url(#clip272)\" style=\"stroke:#000000; stroke-linecap:round; stroke-linejoin:round; stroke-width:2; stroke-opacity:0.1; fill:none\" points=\"344.606,81.1493 2352.76,81.1493 \"/>\n",
       "<polyline clip-path=\"url(#clip270)\" style=\"stroke:#000000; stroke-linecap:round; stroke-linejoin:round; stroke-width:4; stroke-opacity:1; fill:none\" points=\"344.606,1486.45 344.606,47.2441 \"/>\n",
       "<polyline clip-path=\"url(#clip270)\" style=\"stroke:#000000; stroke-linecap:round; stroke-linejoin:round; stroke-width:4; stroke-opacity:1; fill:none\" points=\"344.606,1316.26 363.504,1316.26 \"/>\n",
       "<polyline clip-path=\"url(#clip270)\" style=\"stroke:#000000; stroke-linecap:round; stroke-linejoin:round; stroke-width:4; stroke-opacity:1; fill:none\" points=\"344.606,904.554 363.504,904.554 \"/>\n",
       "<polyline clip-path=\"url(#clip270)\" style=\"stroke:#000000; stroke-linecap:round; stroke-linejoin:round; stroke-width:4; stroke-opacity:1; fill:none\" points=\"344.606,492.852 363.504,492.852 \"/>\n",
       "<polyline clip-path=\"url(#clip270)\" style=\"stroke:#000000; stroke-linecap:round; stroke-linejoin:round; stroke-width:4; stroke-opacity:1; fill:none\" points=\"344.606,81.1493 363.504,81.1493 \"/>\n",
       "<path clip-path=\"url(#clip270)\" d=\"M53.2867 1323.16 L82.9624 1323.16 L82.9624 1327.09 L53.2867 1327.09 L53.2867 1323.16 Z\" fill=\"#000000\" fill-rule=\"nonzero\" fill-opacity=\"1\" /><path clip-path=\"url(#clip270)\" d=\"M93.8652 1336.05 L101.504 1336.05 L101.504 1309.68 L93.1939 1311.35 L93.1939 1307.09 L101.458 1305.42 L106.134 1305.42 L106.134 1336.05 L113.772 1336.05 L113.772 1339.98 L93.8652 1339.98 L93.8652 1336.05 Z\" fill=\"#000000\" fill-rule=\"nonzero\" fill-opacity=\"1\" /><path clip-path=\"url(#clip270)\" d=\"M123.217 1334.1 L128.101 1334.1 L128.101 1339.98 L123.217 1339.98 L123.217 1334.1 Z\" fill=\"#000000\" fill-rule=\"nonzero\" fill-opacity=\"1\" /><path clip-path=\"url(#clip270)\" d=\"M138.333 1305.42 L156.689 1305.42 L156.689 1309.36 L142.615 1309.36 L142.615 1317.83 Q143.633 1317.48 144.652 1317.32 Q145.67 1317.14 146.689 1317.14 Q152.476 1317.14 155.856 1320.31 Q159.235 1323.48 159.235 1328.9 Q159.235 1334.47 155.763 1337.58 Q152.291 1340.66 145.971 1340.66 Q143.795 1340.66 141.527 1340.28 Q139.282 1339.91 136.874 1339.17 L136.874 1334.47 Q138.958 1335.61 141.18 1336.16 Q143.402 1336.72 145.879 1336.72 Q149.883 1336.72 152.221 1334.61 Q154.559 1332.51 154.559 1328.9 Q154.559 1325.28 152.221 1323.18 Q149.883 1321.07 145.879 1321.07 Q144.004 1321.07 142.129 1321.49 Q140.277 1321.91 138.333 1322.78 L138.333 1305.42 Z\" fill=\"#000000\" fill-rule=\"nonzero\" fill-opacity=\"1\" /><path clip-path=\"url(#clip270)\" d=\"M178.448 1308.5 Q174.837 1308.5 173.008 1312.07 Q171.203 1315.61 171.203 1322.74 Q171.203 1329.85 173.008 1333.41 Q174.837 1336.95 178.448 1336.95 Q182.082 1336.95 183.888 1333.41 Q185.717 1329.85 185.717 1322.74 Q185.717 1315.61 183.888 1312.07 Q182.082 1308.5 178.448 1308.5 M178.448 1304.8 Q184.258 1304.8 187.314 1309.41 Q190.392 1313.99 190.392 1322.74 Q190.392 1331.47 187.314 1336.07 Q184.258 1340.66 178.448 1340.66 Q172.638 1340.66 169.559 1336.07 Q166.504 1331.47 166.504 1322.74 Q166.504 1313.99 169.559 1309.41 Q172.638 1304.8 178.448 1304.8 Z\" fill=\"#000000\" fill-rule=\"nonzero\" fill-opacity=\"1\" /><path clip-path=\"url(#clip270)\" d=\"M226.781 1314.52 L216.202 1325.15 L226.781 1335.72 L224.026 1338.53 L213.402 1327.9 L202.777 1338.53 L200.045 1335.72 L210.601 1325.15 L200.045 1314.52 L202.777 1311.72 L213.402 1322.35 L224.026 1311.72 L226.781 1314.52 Z\" fill=\"#000000\" fill-rule=\"nonzero\" fill-opacity=\"1\" /><path clip-path=\"url(#clip270)\" d=\"M239.142 1336.05 L246.781 1336.05 L246.781 1309.68 L238.471 1311.35 L238.471 1307.09 L246.735 1305.42 L251.411 1305.42 L251.411 1336.05 L259.049 1336.05 L259.049 1339.98 L239.142 1339.98 L239.142 1336.05 Z\" fill=\"#000000\" fill-rule=\"nonzero\" fill-opacity=\"1\" /><path clip-path=\"url(#clip270)\" d=\"M278.494 1308.5 Q274.883 1308.5 273.054 1312.07 Q271.248 1315.61 271.248 1322.74 Q271.248 1329.85 273.054 1333.41 Q274.883 1336.95 278.494 1336.95 Q282.128 1336.95 283.934 1333.41 Q285.762 1329.85 285.762 1322.74 Q285.762 1315.61 283.934 1312.07 Q282.128 1308.5 278.494 1308.5 M278.494 1304.8 Q284.304 1304.8 287.359 1309.41 Q290.438 1313.99 290.438 1322.74 Q290.438 1331.47 287.359 1336.07 Q284.304 1340.66 278.494 1340.66 Q272.684 1340.66 269.605 1336.07 Q266.549 1331.47 266.549 1322.74 Q266.549 1313.99 269.605 1309.41 Q272.684 1304.8 278.494 1304.8 Z\" fill=\"#000000\" fill-rule=\"nonzero\" fill-opacity=\"1\" /><path clip-path=\"url(#clip270)\" d=\"M291.623 1284.49 L306.538 1284.49 L306.538 1287.69 L295.103 1287.69 L295.103 1294.57 Q295.93 1294.29 296.758 1294.16 Q297.585 1294.01 298.413 1294.01 Q303.115 1294.01 305.861 1296.59 Q308.606 1299.16 308.606 1303.56 Q308.606 1308.1 305.785 1310.62 Q302.964 1313.12 297.83 1313.12 Q296.062 1313.12 294.219 1312.82 Q292.394 1312.52 290.438 1311.92 L290.438 1308.1 Q292.131 1309.02 293.936 1309.47 Q295.742 1309.92 297.754 1309.92 Q301.008 1309.92 302.908 1308.21 Q304.807 1306.5 304.807 1303.56 Q304.807 1300.63 302.908 1298.92 Q301.008 1297.21 297.754 1297.21 Q296.231 1297.21 294.708 1297.55 Q293.203 1297.88 291.623 1298.6 L291.623 1284.49 Z\" fill=\"#000000\" fill-rule=\"nonzero\" fill-opacity=\"1\" /><path clip-path=\"url(#clip270)\" d=\"M53.2867 911.453 L82.9624 911.453 L82.9624 915.388 L53.2867 915.388 L53.2867 911.453 Z\" fill=\"#000000\" fill-rule=\"nonzero\" fill-opacity=\"1\" /><path clip-path=\"url(#clip270)\" d=\"M93.8652 924.346 L101.504 924.346 L101.504 897.981 L93.1939 899.647 L93.1939 895.388 L101.458 893.722 L106.134 893.722 L106.134 924.346 L113.772 924.346 L113.772 928.282 L93.8652 928.282 L93.8652 924.346 Z\" fill=\"#000000\" fill-rule=\"nonzero\" fill-opacity=\"1\" /><path clip-path=\"url(#clip270)\" d=\"M123.217 922.402 L128.101 922.402 L128.101 928.282 L123.217 928.282 L123.217 922.402 Z\" fill=\"#000000\" fill-rule=\"nonzero\" fill-opacity=\"1\" /><path clip-path=\"url(#clip270)\" d=\"M148.286 896.8 Q144.675 896.8 142.846 900.365 Q141.041 903.907 141.041 911.036 Q141.041 918.143 142.846 921.708 Q144.675 925.249 148.286 925.249 Q151.92 925.249 153.726 921.708 Q155.555 918.143 155.555 911.036 Q155.555 903.907 153.726 900.365 Q151.92 896.8 148.286 896.8 M148.286 893.097 Q154.096 893.097 157.152 897.703 Q160.231 902.286 160.231 911.036 Q160.231 919.763 157.152 924.37 Q154.096 928.953 148.286 928.953 Q142.476 928.953 139.397 924.37 Q136.342 919.763 136.342 911.036 Q136.342 902.286 139.397 897.703 Q142.476 893.097 148.286 893.097 Z\" fill=\"#000000\" fill-rule=\"nonzero\" fill-opacity=\"1\" /><path clip-path=\"url(#clip270)\" d=\"M178.448 896.8 Q174.837 896.8 173.008 900.365 Q171.203 903.907 171.203 911.036 Q171.203 918.143 173.008 921.708 Q174.837 925.249 178.448 925.249 Q182.082 925.249 183.888 921.708 Q185.717 918.143 185.717 911.036 Q185.717 903.907 183.888 900.365 Q182.082 896.8 178.448 896.8 M178.448 893.097 Q184.258 893.097 187.314 897.703 Q190.392 902.286 190.392 911.036 Q190.392 919.763 187.314 924.37 Q184.258 928.953 178.448 928.953 Q172.638 928.953 169.559 924.37 Q166.504 919.763 166.504 911.036 Q166.504 902.286 169.559 897.703 Q172.638 893.097 178.448 893.097 Z\" fill=\"#000000\" fill-rule=\"nonzero\" fill-opacity=\"1\" /><path clip-path=\"url(#clip270)\" d=\"M226.781 902.819 L216.202 913.444 L226.781 924.022 L224.026 926.823 L213.402 916.198 L202.777 926.823 L200.045 924.022 L210.601 913.444 L200.045 902.819 L202.777 900.018 L213.402 910.643 L224.026 900.018 L226.781 902.819 Z\" fill=\"#000000\" fill-rule=\"nonzero\" fill-opacity=\"1\" /><path clip-path=\"url(#clip270)\" d=\"M239.142 924.346 L246.781 924.346 L246.781 897.981 L238.471 899.647 L238.471 895.388 L246.735 893.722 L251.411 893.722 L251.411 924.346 L259.049 924.346 L259.049 928.282 L239.142 928.282 L239.142 924.346 Z\" fill=\"#000000\" fill-rule=\"nonzero\" fill-opacity=\"1\" /><path clip-path=\"url(#clip270)\" d=\"M278.494 896.8 Q274.883 896.8 273.054 900.365 Q271.248 903.907 271.248 911.036 Q271.248 918.143 273.054 921.708 Q274.883 925.249 278.494 925.249 Q282.128 925.249 283.934 921.708 Q285.762 918.143 285.762 911.036 Q285.762 903.907 283.934 900.365 Q282.128 896.8 278.494 896.8 M278.494 893.097 Q284.304 893.097 287.359 897.703 Q290.438 902.286 290.438 911.036 Q290.438 919.763 287.359 924.37 Q284.304 928.953 278.494 928.953 Q272.684 928.953 269.605 924.37 Q266.549 919.763 266.549 911.036 Q266.549 902.286 269.605 897.703 Q272.684 893.097 278.494 893.097 Z\" fill=\"#000000\" fill-rule=\"nonzero\" fill-opacity=\"1\" /><path clip-path=\"url(#clip270)\" d=\"M291.623 872.791 L306.538 872.791 L306.538 875.988 L295.103 875.988 L295.103 882.872 Q295.93 882.59 296.758 882.458 Q297.585 882.308 298.413 882.308 Q303.115 882.308 305.861 884.885 Q308.606 887.461 308.606 891.862 Q308.606 896.395 305.785 898.915 Q302.964 901.417 297.83 901.417 Q296.062 901.417 294.219 901.116 Q292.394 900.815 290.438 900.213 L290.438 896.395 Q292.131 897.316 293.936 897.768 Q295.742 898.219 297.754 898.219 Q301.008 898.219 302.908 896.508 Q304.807 894.796 304.807 891.862 Q304.807 888.928 302.908 887.217 Q301.008 885.505 297.754 885.505 Q296.231 885.505 294.708 885.844 Q293.203 886.182 291.623 886.897 L291.623 872.791 Z\" fill=\"#000000\" fill-rule=\"nonzero\" fill-opacity=\"1\" /><path clip-path=\"url(#clip270)\" d=\"M50.9921 499.751 L80.6679 499.751 L80.6679 503.686 L50.9921 503.686 L50.9921 499.751 Z\" fill=\"#000000\" fill-rule=\"nonzero\" fill-opacity=\"1\" /><path clip-path=\"url(#clip270)\" d=\"M90.8067 482.019 L109.163 482.019 L109.163 485.954 L95.0891 485.954 L95.0891 494.427 Q96.1076 494.079 97.1261 493.917 Q98.1447 493.732 99.1632 493.732 Q104.95 493.732 108.33 496.903 Q111.709 500.075 111.709 505.491 Q111.709 511.07 108.237 514.172 Q104.765 517.251 98.4456 517.251 Q96.2697 517.251 94.0012 516.88 Q91.7558 516.51 89.3484 515.769 L89.3484 511.07 Q91.4317 512.204 93.6539 512.76 Q95.8761 513.315 98.353 513.315 Q102.358 513.315 104.696 511.209 Q107.033 509.102 107.033 505.491 Q107.033 501.88 104.696 499.774 Q102.358 497.667 98.353 497.667 Q96.478 497.667 94.603 498.084 Q92.7512 498.501 90.8067 499.38 L90.8067 482.019 Z\" fill=\"#000000\" fill-rule=\"nonzero\" fill-opacity=\"1\" /><path clip-path=\"url(#clip270)\" d=\"M120.922 510.7 L125.807 510.7 L125.807 516.579 L120.922 516.579 L120.922 510.7 Z\" fill=\"#000000\" fill-rule=\"nonzero\" fill-opacity=\"1\" /><path clip-path=\"url(#clip270)\" d=\"M145.992 485.098 Q142.381 485.098 140.552 488.663 Q138.746 492.204 138.746 499.334 Q138.746 506.44 140.552 510.005 Q142.381 513.547 145.992 513.547 Q149.626 513.547 151.431 510.005 Q153.26 506.44 153.26 499.334 Q153.26 492.204 151.431 488.663 Q149.626 485.098 145.992 485.098 M145.992 481.394 Q151.802 481.394 154.857 486.001 Q157.936 490.584 157.936 499.334 Q157.936 508.061 154.857 512.667 Q151.802 517.251 145.992 517.251 Q140.181 517.251 137.103 512.667 Q134.047 508.061 134.047 499.334 Q134.047 490.584 137.103 486.001 Q140.181 481.394 145.992 481.394 Z\" fill=\"#000000\" fill-rule=\"nonzero\" fill-opacity=\"1\" /><path clip-path=\"url(#clip270)\" d=\"M176.153 485.098 Q172.542 485.098 170.714 488.663 Q168.908 492.204 168.908 499.334 Q168.908 506.44 170.714 510.005 Q172.542 513.547 176.153 513.547 Q179.788 513.547 181.593 510.005 Q183.422 506.44 183.422 499.334 Q183.422 492.204 181.593 488.663 Q179.788 485.098 176.153 485.098 M176.153 481.394 Q181.964 481.394 185.019 486.001 Q188.098 490.584 188.098 499.334 Q188.098 508.061 185.019 512.667 Q181.964 517.251 176.153 517.251 Q170.343 517.251 167.265 512.667 Q164.209 508.061 164.209 499.334 Q164.209 490.584 167.265 486.001 Q170.343 481.394 176.153 481.394 Z\" fill=\"#000000\" fill-rule=\"nonzero\" fill-opacity=\"1\" /><path clip-path=\"url(#clip270)\" d=\"M224.487 491.116 L213.908 501.741 L224.487 512.32 L221.732 515.121 L211.107 504.496 L200.482 515.121 L197.751 512.32 L208.306 501.741 L197.751 491.116 L200.482 488.315 L211.107 498.94 L221.732 488.315 L224.487 491.116 Z\" fill=\"#000000\" fill-rule=\"nonzero\" fill-opacity=\"1\" /><path clip-path=\"url(#clip270)\" d=\"M236.848 512.644 L244.486 512.644 L244.486 486.278 L236.176 487.945 L236.176 483.686 L244.44 482.019 L249.116 482.019 L249.116 512.644 L256.755 512.644 L256.755 516.579 L236.848 516.579 L236.848 512.644 Z\" fill=\"#000000\" fill-rule=\"nonzero\" fill-opacity=\"1\" /><path clip-path=\"url(#clip270)\" d=\"M276.199 485.098 Q272.588 485.098 270.759 488.663 Q268.954 492.204 268.954 499.334 Q268.954 506.44 270.759 510.005 Q272.588 513.547 276.199 513.547 Q279.833 513.547 281.639 510.005 Q283.468 506.44 283.468 499.334 Q283.468 492.204 281.639 488.663 Q279.833 485.098 276.199 485.098 M276.199 481.394 Q282.009 481.394 285.065 486.001 Q288.144 490.584 288.144 499.334 Q288.144 508.061 285.065 512.667 Q282.009 517.251 276.199 517.251 Q270.389 517.251 267.31 512.667 Q264.255 508.061 264.255 499.334 Q264.255 490.584 267.31 486.001 Q270.389 481.394 276.199 481.394 Z\" fill=\"#000000\" fill-rule=\"nonzero\" fill-opacity=\"1\" /><path clip-path=\"url(#clip270)\" d=\"M300.82 464.399 L291.228 479.389 L300.82 479.389 L300.82 464.399 M299.823 461.089 L304.6 461.089 L304.6 479.389 L308.606 479.389 L308.606 482.548 L304.6 482.548 L304.6 489.169 L300.82 489.169 L300.82 482.548 L288.144 482.548 L288.144 478.881 L299.823 461.089 Z\" fill=\"#000000\" fill-rule=\"nonzero\" fill-opacity=\"1\" /><path clip-path=\"url(#clip270)\" d=\"M296.662 66.948 Q293.051 66.948 291.222 70.5127 Q289.417 74.0544 289.417 81.184 Q289.417 88.2904 291.222 91.8552 Q293.051 95.3969 296.662 95.3969 Q300.296 95.3969 302.102 91.8552 Q303.931 88.2904 303.931 81.184 Q303.931 74.0544 302.102 70.5127 Q300.296 66.948 296.662 66.948 M296.662 63.2443 Q302.472 63.2443 305.528 67.8507 Q308.606 72.434 308.606 81.184 Q308.606 89.9108 305.528 94.5172 Q302.472 99.1006 296.662 99.1006 Q290.852 99.1006 287.773 94.5172 Q284.718 89.9108 284.718 81.184 Q284.718 72.434 287.773 67.8507 Q290.852 63.2443 296.662 63.2443 Z\" fill=\"#000000\" fill-rule=\"nonzero\" fill-opacity=\"1\" /><polyline clip-path=\"url(#clip272)\" style=\"stroke:#009af9; stroke-linecap:round; stroke-linejoin:round; stroke-width:4; stroke-opacity:1; fill:none\" points=\"401.441,88.0156 410.961,94.8559 420.481,101.679 430.001,108.502 439.521,115.324 449.041,122.147 458.561,128.969 468.081,135.792 477.601,142.614 487.121,149.437 496.641,156.259 506.161,163.082 515.681,169.904 525.201,176.727 534.721,183.549 544.241,190.372 553.761,197.194 563.281,204.017 572.801,210.839 582.321,217.662 591.841,224.484 601.361,231.307 610.881,238.129 620.401,244.952 629.921,251.775 639.441,258.597 648.961,265.42 658.481,272.242 668.001,279.065 677.521,285.887 687.041,292.71 696.561,299.532 706.081,306.355 715.601,313.177 725.121,320 734.641,326.822 744.161,333.645 753.681,340.467 763.201,347.29 772.721,354.112 782.241,360.935 791.761,367.757 801.281,374.58 810.801,381.402 820.321,388.225 829.841,395.047 839.361,401.87 848.881,408.692 858.401,415.515 867.921,422.338 877.441,429.16 886.961,435.983 896.481,442.805 906.001,449.628 915.521,456.45 925.041,463.273 934.561,470.095 944.081,476.918 953.601,483.74 963.121,490.563 972.641,497.385 982.161,504.208 991.681,511.03 1001.2,517.853 1010.72,524.675 1020.24,531.498 1029.76,538.32 1039.28,545.143 1048.8,551.965 1058.32,558.788 1067.84,565.61 1077.36,572.433 1086.88,579.256 1096.4,586.078 1105.92,592.901 1115.44,599.723 1124.96,606.546 1134.48,613.368 1144,620.191 1153.52,627.013 1163.04,633.836 1172.56,640.658 1182.08,647.481 1191.6,654.303 1201.12,661.126 1210.64,667.948 1220.16,674.771 1229.68,681.593 1239.2,688.416 1248.72,695.238 1258.24,702.061 1267.76,708.883 1277.28,715.706 1286.8,722.528 1296.32,729.351 1305.84,736.173 1315.36,742.996 1324.88,749.819 1334.4,756.641 1343.92,763.464 1353.44,770.286 1362.96,777.109 1372.48,783.931 1382,790.754 1391.52,797.576 1401.04,804.399 1410.56,811.221 1420.08,818.044 1429.6,824.866 1439.12,831.689 1448.64,838.511 1458.16,845.334 1467.68,852.156 1477.2,858.979 1486.72,865.801 1496.24,872.624 1505.76,879.446 1515.28,886.269 1524.8,893.091 1534.32,899.914 1543.84,906.737 1553.36,913.559 1562.88,920.382 1572.4,927.204 1581.92,934.027 1591.44,940.849 1600.96,947.672 1610.48,954.494 1620,961.317 1629.52,968.139 1639.04,974.962 1648.56,981.784 1658.08,988.607 1667.6,995.429 1677.12,1002.25 1686.64,1009.07 1696.16,1015.9 1705.68,1022.72 1715.2,1029.54 1724.72,1036.36 1734.24,1043.19 1743.76,1050.01 1753.28,1056.83 1762.8,1063.65 1772.32,1070.48 1781.84,1077.3 1791.36,1084.12 1800.88,1090.94 1810.4,1097.77 1819.92,1104.59 1829.44,1111.41 1838.96,1118.23 1848.48,1125.06 1858,1131.88 1867.52,1138.7 1877.04,1145.52 1886.56,1152.35 1896.08,1159.17 1905.6,1165.99 1915.12,1172.81 1924.64,1179.64 1934.16,1186.46 1943.68,1193.28 1953.2,1200.1 1962.72,1206.93 1972.24,1213.75 1981.76,1220.57 1991.28,1227.4 2000.8,1234.22 2010.32,1241.04 2019.84,1247.86 2029.36,1254.69 2038.88,1261.51 2048.4,1268.33 2057.92,1275.15 2067.44,1281.98 2076.96,1288.8 2086.48,1295.62 2096,1302.44 2105.52,1309.27 2115.04,1316.09 2124.56,1322.91 2134.08,1329.73 2143.6,1336.56 2153.12,1343.38 2162.64,1350.2 2172.16,1357.02 2181.68,1363.85 2191.2,1370.67 2200.72,1377.49 2210.24,1384.31 2219.76,1391.14 2229.28,1397.96 2238.8,1404.78 2248.32,1411.6 2257.84,1418.43 2267.36,1425.25 2276.88,1432.07 2286.4,1438.89 2295.92,1445.72 \"/>\n",
       "<polyline clip-path=\"url(#clip272)\" style=\"stroke:#e26f46; stroke-linecap:round; stroke-linejoin:round; stroke-width:4; stroke-opacity:1; fill:none\" points=\"401.441,87.9763 410.961,94.7988 420.481,101.621 430.001,108.444 439.521,115.266 449.041,122.089 458.561,128.911 468.081,135.734 477.601,142.556 487.121,149.379 496.641,156.201 506.161,163.024 515.681,169.847 525.201,176.669 534.721,183.492 544.241,190.314 553.761,197.137 563.281,203.959 572.801,210.782 582.321,217.604 591.841,224.427 601.361,231.249 610.881,238.072 620.401,244.894 629.921,251.717 639.441,258.539 648.961,265.362 658.481,272.184 668.001,279.007 677.521,285.829 687.041,292.652 696.561,299.474 706.081,306.297 715.601,313.119 725.121,319.942 734.641,326.765 744.161,333.587 753.681,340.41 763.201,347.232 772.721,354.055 782.241,360.877 791.761,367.7 801.281,374.522 810.801,381.345 820.321,388.167 829.841,394.99 839.361,401.812 848.881,408.635 858.401,415.457 867.921,422.28 877.441,429.102 886.961,435.925 896.481,442.747 906.001,449.57 915.521,456.392 925.041,463.215 934.561,470.037 944.081,476.86 953.601,483.682 963.121,490.505 972.641,497.328 982.161,504.15 991.681,510.973 1001.2,517.795 1010.72,524.618 1020.24,531.44 1029.76,538.263 1039.28,545.085 1048.8,551.908 1058.32,558.73 1067.84,565.553 1077.36,572.375 1086.88,579.198 1096.4,586.02 1105.92,592.843 1115.44,599.665 1124.96,606.488 1134.48,613.31 1144,620.133 1153.52,626.955 1163.04,633.778 1172.56,640.6 1182.08,647.423 1191.6,654.246 1201.12,661.068 1210.64,667.891 1220.16,674.713 1229.68,681.536 1239.2,688.358 1248.72,695.181 1258.24,702.003 1267.76,708.826 1277.28,715.648 1286.8,722.471 1296.32,729.293 1305.84,736.116 1315.36,742.938 1324.88,749.761 1334.4,756.583 1343.92,763.406 1353.44,770.228 1362.96,777.051 1372.48,783.873 1382,790.696 1391.52,797.518 1401.04,804.341 1410.56,811.164 1420.08,817.986 1429.6,824.809 1439.12,831.631 1448.64,838.454 1458.16,845.276 1467.68,852.099 1477.2,858.921 1486.72,865.744 1496.24,872.566 1505.76,879.389 1515.28,886.211 1524.8,893.034 1534.32,899.856 1543.84,906.679 1553.36,913.501 1562.88,920.324 1572.4,927.146 1581.92,933.969 1591.44,940.791 1600.96,947.614 1610.48,954.436 1620,961.259 1629.52,968.081 1639.04,974.904 1648.56,981.727 1658.08,988.549 1667.6,995.372 1677.12,1002.19 1686.64,1009.02 1696.16,1015.84 1705.68,1022.66 1715.2,1029.48 1724.72,1036.31 1734.24,1043.13 1743.76,1049.95 1753.28,1056.77 1762.8,1063.6 1772.32,1070.42 1781.84,1077.24 1791.36,1084.06 1800.88,1090.89 1810.4,1097.71 1819.92,1104.53 1829.44,1111.35 1838.96,1118.18 1848.48,1125 1858,1131.82 1867.52,1138.64 1877.04,1145.47 1886.56,1152.29 1896.08,1159.11 1905.6,1165.93 1915.12,1172.76 1924.64,1179.58 1934.16,1186.4 1943.68,1193.22 1953.2,1200.05 1962.72,1206.87 1972.24,1213.69 1981.76,1220.51 1991.28,1227.34 2000.8,1234.16 2010.32,1240.98 2019.84,1247.8 2029.36,1254.63 2038.88,1261.45 2048.4,1268.27 2057.92,1275.09 2067.44,1281.92 2076.96,1288.74 2086.48,1295.56 2096,1302.39 2105.52,1309.21 2115.04,1316.03 2124.56,1322.85 2134.08,1329.68 2143.6,1336.5 2153.12,1343.32 2162.64,1350.14 2172.16,1356.97 2181.68,1363.79 2191.2,1370.61 2200.72,1377.43 2210.24,1384.26 2219.76,1391.08 2229.28,1397.9 2238.8,1404.72 2248.32,1411.55 2257.84,1418.37 2267.36,1425.19 2276.88,1432.01 2286.4,1438.84 2295.92,1445.66 \"/>\n",
       "<path clip-path=\"url(#clip270)\" d=\"M2039.96 250.738 L2285.82 250.738 L2285.82 95.2176 L2039.96 95.2176  Z\" fill=\"#ffffff\" fill-rule=\"evenodd\" fill-opacity=\"1\"/>\n",
       "<polyline clip-path=\"url(#clip270)\" style=\"stroke:#000000; stroke-linecap:round; stroke-linejoin:round; stroke-width:4; stroke-opacity:1; fill:none\" points=\"2039.96,250.738 2285.82,250.738 2285.82,95.2176 2039.96,95.2176 2039.96,250.738 \"/>\n",
       "<polyline clip-path=\"url(#clip270)\" style=\"stroke:#009af9; stroke-linecap:round; stroke-linejoin:round; stroke-width:4; stroke-opacity:1; fill:none\" points=\"2062.27,147.058 2196.15,147.058 \"/>\n",
       "<path clip-path=\"url(#clip270)\" d=\"M2235.43 152.277 L2234.41 146.93 Q2233.37 141.444 2229.25 141.444 Q2226.14 141.444 2224.73 143.99 Q2222.95 147.185 2222.95 151.398 Q2222.95 156.49 2224.69 158.921 Q2226.44 161.398 2229.25 161.398 Q2232.35 161.398 2234.01 156.467 L2235.43 152.277 M2237.81 145.194 L2240.1 138.412 L2243.9 138.412 L2239.15 152.463 L2240.08 157.532 Q2240.29 158.666 2241.1 159.615 Q2242.05 160.726 2242.79 160.726 L2244.82 160.726 L2244.82 164.338 L2242.28 164.338 Q2240.1 164.338 2238.16 162.393 Q2237.21 161.421 2236.82 159.384 Q2235.75 161.953 2233.57 163.967 Q2232.56 164.916 2229.25 164.916 Q2223.81 164.916 2221.17 161.398 Q2218.46 157.764 2218.46 151.398 Q2218.46 144.592 2221.4 141.398 Q2224.66 137.833 2229.25 137.833 Q2236.44 137.833 2237.81 145.194 Z\" fill=\"#000000\" fill-rule=\"nonzero\" fill-opacity=\"1\" /><path clip-path=\"url(#clip270)\" d=\"M2250.7 161.791 L2255.43 161.791 L2255.43 147.648 L2250.26 148.597 L2250.26 145.912 L2255.59 145.009 L2258.76 145.009 L2258.76 161.791 L2263.5 161.791 L2263.5 164.338 L2250.7 164.338 L2250.7 161.791 Z\" fill=\"#000000\" fill-rule=\"nonzero\" fill-opacity=\"1\" /><polyline clip-path=\"url(#clip270)\" style=\"stroke:#e26f46; stroke-linecap:round; stroke-linejoin:round; stroke-width:4; stroke-opacity:1; fill:none\" points=\"2062.27,198.898 2196.15,198.898 \"/>\n",
       "<path clip-path=\"url(#clip270)\" d=\"M2235.43 204.117 L2234.41 198.77 Q2233.37 193.284 2229.25 193.284 Q2226.14 193.284 2224.73 195.83 Q2222.95 199.025 2222.95 203.238 Q2222.95 208.33 2224.69 210.761 Q2226.44 213.238 2229.25 213.238 Q2232.35 213.238 2234.01 208.307 L2235.43 204.117 M2237.81 197.034 L2240.1 190.252 L2243.9 190.252 L2239.15 204.303 L2240.08 209.372 Q2240.29 210.506 2241.1 211.455 Q2242.05 212.566 2242.79 212.566 L2244.82 212.566 L2244.82 216.178 L2242.28 216.178 Q2240.1 216.178 2238.16 214.233 Q2237.21 213.261 2236.82 211.224 Q2235.75 213.793 2233.57 215.807 Q2232.56 216.756 2229.25 216.756 Q2223.81 216.756 2221.17 213.238 Q2218.46 209.604 2218.46 203.238 Q2218.46 196.432 2221.4 193.238 Q2224.66 189.673 2229.25 189.673 Q2236.44 189.673 2237.81 197.034 Z\" fill=\"#000000\" fill-rule=\"nonzero\" fill-opacity=\"1\" /><path clip-path=\"url(#clip270)\" d=\"M2253.3 213.539 L2263.11 213.539 L2263.11 216.178 L2249.27 216.178 L2249.27 213.631 Q2250.06 212.914 2251.51 211.617 Q2259.48 204.557 2259.48 202.381 Q2259.48 200.854 2258.27 199.928 Q2257.07 198.979 2255.1 198.979 Q2253.9 198.979 2252.49 199.395 Q2251.07 199.789 2249.41 200.599 L2249.41 197.752 Q2251.19 197.104 2252.72 196.78 Q2254.27 196.455 2255.59 196.455 Q2258.94 196.455 2260.96 197.983 Q2262.97 199.511 2262.97 202.011 Q2262.97 205.229 2255.31 211.803 Q2254.01 212.914 2253.3 213.539 Z\" fill=\"#000000\" fill-rule=\"nonzero\" fill-opacity=\"1\" /></svg>\n"
      ]
     },
     "metadata": {},
     "output_type": "display_data"
    }
   ],
   "source": [
    "using Plots\n",
    "plot(α[1, :], label=\"α₁\")\n",
    "plot!(α[2, :], label=\"α₂\")"
   ]
  },
  {
   "cell_type": "code",
   "execution_count": 10,
   "metadata": {},
   "outputs": [
    {
     "data": {
      "text/plain": [
       "2×200 Matrix{Float64}:\n",
       " -833.893  -1664.63  -2493.28  …  -1.64065e5  -1.64894e5  -1.65722e5\n",
       " -829.12   -1657.69  -2486.27     -1.64058e5  -1.64887e5  -1.65715e5"
      ]
     },
     "metadata": {},
     "output_type": "display_data"
    }
   ],
   "source": [
    "α"
   ]
  }
 ],
 "metadata": {
  "kernelspec": {
   "display_name": "Julia 1.9.3",
   "language": "julia",
   "name": "julia-1.9"
  },
  "language_info": {
   "file_extension": ".jl",
   "mimetype": "application/julia",
   "name": "julia",
   "version": "1.9.3"
  }
 },
 "nbformat": 4,
 "nbformat_minor": 2
}
