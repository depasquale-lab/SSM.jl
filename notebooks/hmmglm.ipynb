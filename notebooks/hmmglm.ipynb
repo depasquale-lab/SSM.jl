{
 "cells": [
  {
   "cell_type": "code",
   "execution_count": 1,
   "metadata": {},
   "outputs": [
    {
     "name": "stderr",
     "output_type": "stream",
     "text": [
      "\u001b[32m\u001b[1m  Activating\u001b[22m\u001b[39m project at `\\Users\\ryansenne\\Documents\\Github\\SSM`"
     ]
    },
    {
     "name": "stderr",
     "output_type": "stream",
     "text": [
      "\n"
     ]
    }
   ],
   "source": [
    "using Pkg\n",
    "Pkg.activate(\"/Users/ryansenne/Documents/Github/SSM/\")\n",
    "# Pkg.activate(\"/home/ryansenne/PycharmProjects/ssm_julia/\")"
   ]
  },
  {
   "cell_type": "code",
   "execution_count": 2,
   "metadata": {},
   "outputs": [],
   "source": [
    "include(\"/Users/ryansenne/Documents/Github/SSM//src/SSM.jl\")\n",
    "# include(\"/home/ryansenne/PycharmProjects/ssm_julia/src/SSM.jl\")\n",
    "using Random\n",
    "using .SSM\n",
    "using Distributions"
   ]
  },
  {
   "cell_type": "markdown",
   "metadata": {},
   "source": [
    "### Gaussian GLM Example"
   ]
  },
  {
   "cell_type": "code",
   "execution_count": 1,
   "metadata": {},
   "outputs": [
    {
     "ename": "UndefVarError",
     "evalue": "UndefVarError: `Normal` not defined",
     "output_type": "error",
     "traceback": [
      "UndefVarError: `Normal` not defined\n",
      "\n",
      "Stacktrace:\n",
      " [1] top-level scope\n",
      "   @ c:\\Users\\ryansenne\\Documents\\GitHub\\SSM\\notebooks\\hmmglm.ipynb:7"
     ]
    }
   ],
   "source": [
    "# Fit a Gaussian GLM\n",
    "# Generate some synthetic data\n",
    "X = rand(10000, 3);  # 100 samples, 3 features;\n",
    "# Add a column of ones to represent the intercept term\n",
    "X_concat = hcat(ones(10000), X)\n",
    "β = [2, 3, -4, 5]\n",
    "y = X_concat * β + rand(Normal(0, 1), 10000)\n",
    "\n",
    "# define a GLM\n",
    "glm = GaussianRegression(X, y)\n",
    "fit!(glm, 1000)"
   ]
  },
  {
   "cell_type": "markdown",
   "metadata": {},
   "source": [
    "### Poisson GLM Example"
   ]
  },
  {
   "cell_type": "code",
   "execution_count": 4,
   "metadata": {},
   "outputs": [
    {
     "data": {
      "text/plain": [
       "4-element Vector{Float64}:\n",
       "  1.9972876910665238\n",
       "  3.0018761978448465\n",
       " -4.001568346180793\n",
       "  5.002617122785103"
      ]
     },
     "metadata": {},
     "output_type": "display_data"
    }
   ],
   "source": [
    "# Fit a Poisson GLM\n",
    "# Generate some synthetic data\n",
    "X = rand(10000, 3);  # 100 samples, 3 features;\n",
    "# Add a column of ones to represent the intercept term\n",
    "X_concat = hcat(ones(10000), X)\n",
    "β = [2, 3, -4, 5]\n",
    "\n",
    "# Generate some synthetic data\n",
    "y = Vector{Float64}(rand.(Poisson.(exp.(X_concat * β))))\n",
    "\n",
    "# define a GLM\n",
    "glm = PoissonRegression(X, y)\n",
    "fit!(glm, 1000)\n"
   ]
  },
  {
   "cell_type": "markdown",
   "metadata": {},
   "source": [
    "### Binomial GLM Example (i.e. logistic regression)"
   ]
  },
  {
   "cell_type": "code",
   "execution_count": 3,
   "metadata": {},
   "outputs": [
    {
     "data": {
      "text/plain": [
       "4-element Vector{Float64}:\n",
       "  1.8285295895751685\n",
       "  3.0115236069793356\n",
       " -3.778705515037161\n",
       "  5.156155128038023"
      ]
     },
     "metadata": {},
     "output_type": "display_data"
    }
   ],
   "source": [
    "# sigmoid function\n",
    "function sigmoid(x)\n",
    "    return 1 / (1 + exp(-x))\n",
    "end\n",
    "\n",
    "# Fit a Binomial GLM\n",
    "# Generate some synthetic data\n",
    "X = rand(10000, 3); # 1000 samples, 3 features;\n",
    "# Add a column of ones to represent the intercept term\n",
    "X_concat = hcat(ones(10000), X)\n",
    "β = [2, 3, -4, 5]\n",
    "\n",
    "# Generate some synthetic data\n",
    "y = Vector{Float64}(rand.(Binomial.(1, sigmoid.(X_concat * β))))\n",
    "\n",
    "# define a GLM\n",
    "glm = BinomialRegression(X, y)\n",
    "fit!(glm, 1000)"
   ]
  },
  {
   "cell_type": "markdown",
   "metadata": {},
   "source": [
    "# Autoregressive Model"
   ]
  },
  {
   "cell_type": "code",
   "execution_count": 3,
   "metadata": {},
   "outputs": [
    {
     "data": {
      "text/plain": [
       "0.9538958584342558"
      ]
     },
     "metadata": {},
     "output_type": "display_data"
    }
   ],
   "source": [
    "# simulate AR(1) model\n",
    "init_val = 0.0\n",
    "phi = 0.9\n",
    "sigma = 1.0\n",
    "T = 1000\n",
    "y = Vector{Float64}(undef, T)\n",
    "y[1] = init_val\n",
    "for t in 2:T\n",
    "    y[t] = phi * y[t-1] + rand(Normal(0, sigma))\n",
    "end\n",
    "\n",
    "ar_1 = Autoregression(y, 1)\n",
    "fit!(ar_1)"
   ]
  },
  {
   "cell_type": "code",
   "execution_count": 3,
   "metadata": {},
   "outputs": [
    {
     "name": "stdout",
     "output_type": "stream",
     "text": [
      "Iteration: 1, Log-likelihood: -895.1450879718143\n",
      "Iteration: 2, Log-likelihood: -890.9349305035108\n",
      "Iteration: 3, Log-likelihood: -886.8866345435962\n",
      "Iteration: 4, Log-likelihood: -882.240720318679\n",
      "Iteration: 5, Log-likelihood: -876.693573819367\n",
      "Iteration: 6, Log-likelihood: -869.8574676480326\n",
      "Iteration: 7, Log-likelihood: -862.0109276657228\n",
      "Iteration: 8, Log-likelihood: -855.1293694624018\n",
      "Iteration: 9, Log-likelihood: -850.6397956737135\n",
      "Iteration: 10, Log-likelihood: -847.7767480980992\n",
      "Iteration: 11, Log-likelihood: -845.7570137848197\n",
      "Iteration: 12, Log-likelihood: -844.2796062348233\n",
      "Iteration: 13, Log-likelihood: -843.2557914172486\n",
      "Iteration: 14, Log-likelihood: -842.6234834088976\n",
      "Iteration: 15, Log-likelihood: -842.2787370105883\n",
      "Iteration: 16, Log-likelihood: -842.1069509981659\n",
      "Iteration: 17, Log-likelihood: -842.0251428151403\n",
      "Convergence reached at iteration 17"
     ]
    },
    {
     "name": "stdout",
     "output_type": "stream",
     "text": [
      "\n",
      "Initial Variance: "
     ]
    },
    {
     "name": "stdout",
     "output_type": "stream",
     "text": [
      "[987.252905003522, 36.39460385625851]\n",
      "Initial Transition Matrix: "
     ]
    },
    {
     "name": "stdout",
     "output_type": "stream",
     "text": [
      "[0.9433962264150944 0.05660377358490566; 0.07526881720430108 0.9247311827956989]\n",
      "Initial Mixing Coefficients: [3.330266527986876e-9, 0.9999999966697333]"
     ]
    },
    {
     "name": "stdout",
     "output_type": "stream",
     "text": [
      "\n",
      "Log-likelihood at iteration 1: -165822.57712092478\n",
      "Log-likelihood at iteration 2: -165666.49380444828\n",
      "Log-likelihood at iteration 3: -165389.53983234605\n",
      "Log-likelihood at iteration 4: -165199.1273623775\n",
      "Log-likelihood at iteration 5: "
     ]
    },
    {
     "name": "stdout",
     "output_type": "stream",
     "text": [
      "-165198.68820856334\n",
      "Log-likelihood at iteration 6: -165198.66088873136\n",
      "Log-likelihood at iteration 7: -165198.658386102\n",
      "Log-likelihood at iteration 8: -165198.65814964593\n",
      "Log-likelihood at iteration 9: -165198.65812723813\n",
      "Log-likelihood at iteration 10: -165198.65812511474\n",
      "Log-likelihood at iteration 11: -165198.6581249099\n"
     ]
    }
   ],
   "source": [
    "# try out markov glm\n",
    "\n",
    "# Generate synthetic data from two distinct regimes\n",
    "X = rand(100, 3); # 1000 samples, 3 features;\n",
    "# Add a column of ones to represent the intercept term\n",
    "X_concat = hcat(ones(100), X)\n",
    "β₁ = [-20, -30, -40, 50]\n",
    "β₂ = [6, 7, 8, -9]\n",
    "\n",
    "# Generate some synthetic data\n",
    "y₁ = X_concat * β₁ + rand(Normal(0, 0.1), 100)\n",
    "y₂ = X_concat * β₂ + rand(Normal(0, 1), 100)\n",
    "\n",
    "# concatenate X1 and X2\n",
    "x = vcat(X, X)\n",
    "\n",
    "# concatenate y1 and y2\n",
    "y = vcat(y₁, y₂)\n",
    "\n",
    "# define a Gaussian HMMGLM\n",
    "glm = GaussianMarkovRegression(y, x, 2)\n",
    "\n",
    "MarkovRegressionEM(glm)"
   ]
  },
  {
   "cell_type": "code",
   "execution_count": 4,
   "metadata": {},
   "outputs": [
    {
     "data": {
      "text/plain": [
       "2-element Vector{Float64}:\n",
       " 987.0693985987194\n",
       " 918.9063057428358"
      ]
     },
     "metadata": {},
     "output_type": "display_data"
    }
   ],
   "source": [
    "glm.σ²"
   ]
  },
  {
   "cell_type": "code",
   "execution_count": 4,
   "metadata": {},
   "outputs": [
    {
     "data": {
      "text/plain": [
       "4-element Vector{Float64}:\n",
       "  7.037935604057497\n",
       "  5.403145553763766\n",
       "  7.412466590865421\n",
       " -8.508343109235135"
      ]
     },
     "metadata": {},
     "output_type": "display_data"
    }
   ],
   "source": [
    "glm.B[2].regression_model.β"
   ]
  }
 ],
 "metadata": {
  "kernelspec": {
   "display_name": "Julia 1.9.3",
   "language": "julia",
   "name": "julia-1.9"
  },
  "language_info": {
   "file_extension": ".jl",
   "mimetype": "application/julia",
   "name": "julia",
   "version": "1.9.3"
  }
 },
 "nbformat": 4,
 "nbformat_minor": 2
}
