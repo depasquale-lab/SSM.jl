{
 "cells": [
  {
   "cell_type": "code",
   "execution_count": 1,
   "metadata": {},
   "outputs": [
    {
     "name": "stderr",
     "output_type": "stream",
     "text": [
      "\u001b[32m\u001b[1m  Activating\u001b[22m\u001b[39m project at `\\Users\\ryansenne\\Documents\\GitHub\\SSM`\n"
     ]
    }
   ],
   "source": [
    "using Pkg\n",
    "Pkg.activate(\"/Users/ryansenne/Documents/GitHub/SSM\")"
   ]
  },
  {
   "cell_type": "code",
   "execution_count": 2,
   "metadata": {},
   "outputs": [],
   "source": [
    "include(\"/Users/ryansenne/Documents/Github/SSM//src/SSM.jl\")\n",
    "using Random\n",
    "using .SSM"
   ]
  },
  {
   "cell_type": "code",
   "execution_count": 3,
   "metadata": {},
   "outputs": [],
   "source": [
    "# Generate some synthetic data\n",
    "X = rand(100, 3);  # 100 samples, 3 features;\n",
    "y = 2 .+ 3 * X[:, 1] .- 4 * X[:, 2] + 5 * X[:, 3] + 0.1 * rand(100);  # some random noise"
   ]
  },
  {
   "cell_type": "code",
   "execution_count": 5,
   "metadata": {},
   "outputs": [
    {
     "name": "stdout",
     "output_type": "stream",
     "text": [
      " * Status: success\n",
      "\n",
      " * Candidate solution\n",
      "    Final objective value:     8.437808e-02\n",
      "\n",
      " * Found with\n",
      "    Algorithm:     L-BFGS\n",
      "\n",
      " * Convergence measures\n",
      "    |x - x'|               = 5.83e-03 ≰ 0.0e+00\n",
      "    |x - x'|/|x'|          = 1.17e-03 ≰ 0.0e+00\n",
      "    |f(x) - f(x')|         = 4.41e-04 ≰ 0.0e+00\n",
      "    |f(x) - f(x')|/|f(x')| = 5.23e-03 ≰ 0.0e+00\n",
      "    |g(x)|                 = 6.54e-09 ≤ 1.0e-08\n",
      "\n",
      " * Work counters\n",
      "    Seconds run:   0  (vs limit Inf)\n",
      "    Iterations:    4\n",
      "    f(x) calls:    12\n",
      "    ∇f(x) calls:   12\n"
     ]
    },
    {
     "data": {
      "text/plain": [
       "4-element Vector{Float64}:\n",
       "  2.058006296735115\n",
       "  3.0151894210504135\n",
       " -4.029535475768304\n",
       "  4.9905057368306345"
      ]
     },
     "metadata": {},
     "output_type": "display_data"
    }
   ],
   "source": [
    "# define a GLM\n",
    "glm = GaussianRegression(X, y)\n",
    "fit!(glm, LSELoss(), 1000)"
   ]
  }
 ],
 "metadata": {
  "kernelspec": {
   "display_name": "Julia 1.9.3",
   "language": "julia",
   "name": "julia-1.9"
  },
  "language_info": {
   "file_extension": ".jl",
   "mimetype": "application/julia",
   "name": "julia",
   "version": "1.9.3"
  }
 },
 "nbformat": 4,
 "nbformat_minor": 2
}
