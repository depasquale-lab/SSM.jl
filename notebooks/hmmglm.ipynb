{
 "cells": [
  {
   "cell_type": "code",
   "execution_count": 1,
   "metadata": {},
   "outputs": [
    {
     "name": "stderr",
     "output_type": "stream",
     "text": [
      "\u001b[32m\u001b[1m  Activating\u001b[22m\u001b[39m project at `\\Users\\ryansenne\\Documents\\GitHub\\SSM`\n"
     ]
    }
   ],
   "source": [
    "using Pkg\n",
    "Pkg.activate(\"/Users/ryansenne/Documents/GitHub/SSM\")"
   ]
  },
  {
   "cell_type": "code",
   "execution_count": 2,
   "metadata": {},
   "outputs": [],
   "source": [
    "include(\"/Users/ryansenne/Documents/Github/SSM//src/SSM.jl\")\n",
    "using Random\n",
    "using .SSM"
   ]
  },
  {
   "cell_type": "code",
   "execution_count": 3,
   "metadata": {},
   "outputs": [],
   "source": [
    "# Fit a Gaussian GLM\n",
    "\n",
    "# Generate some synthetic data\n",
    "X = rand(100, 3);  # 100 samples, 3 features;\n",
    "y = 2 .+ 3 * X[:, 1] .- 4 * X[:, 2] + 5 * X[:, 3] + 0.1 * rand(100);  # some random noise\n",
    "# define a GLM\n",
    "glm = GaussianRegression(X, y)\n",
    "fit!(glm, LSELoss(), 1000)"
   ]
  },
  {
   "cell_type": "code",
   "execution_count": null,
   "metadata": {},
   "outputs": [],
   "source": [
    "# Fit a Poisson GLM\n",
    "\n",
    "# Generate some synthetic data\n",
    "X = rand(100, 3);  # 100 samples, 3 features;\n"
   ]
  },
  {
   "cell_type": "code",
   "execution_count": 4,
   "metadata": {},
   "outputs": [
    {
     "data": {
      "text/plain": [
       "4-element Vector{Float64}:\n",
       "  2.055843273375057\n",
       "  2.976662618330163\n",
       " -3.98972948675084\n",
       "  4.997432027651203"
      ]
     },
     "metadata": {},
     "output_type": "display_data"
    }
   ],
   "source": []
  }
 ],
 "metadata": {
  "kernelspec": {
   "display_name": "Julia 1.9.3",
   "language": "julia",
   "name": "julia-1.9"
  },
  "language_info": {
   "file_extension": ".jl",
   "mimetype": "application/julia",
   "name": "julia",
   "version": "1.9.3"
  }
 },
 "nbformat": 4,
 "nbformat_minor": 2
}
