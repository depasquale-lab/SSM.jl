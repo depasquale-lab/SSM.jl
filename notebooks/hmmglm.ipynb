{
 "cells": [
  {
   "cell_type": "code",
   "execution_count": 1,
   "metadata": {},
   "outputs": [
    {
     "name": "stderr",
     "output_type": "stream",
     "text": [
      "\u001b[32m\u001b[1m  Activating\u001b[22m\u001b[39m project at `~/PycharmProjects/ssm_julia`\n"
     ]
    }
   ],
   "source": [
    "using Pkg\n",
    "# Pkg.activate(\"/Users/ryansenne/Documents/Github/SSM/\")\n",
    "Pkg.activate(\"/home/ryansenne/PycharmProjects/ssm_julia/\")"
   ]
  },
  {
   "cell_type": "code",
   "execution_count": 2,
   "metadata": {},
   "outputs": [],
   "source": [
    "# include(\"/Users/ryansenne/Documents/Github/SSM//src/SSM.jl\")\n",
    "include(\"/home/ryansenne/PycharmProjects/ssm_julia/src/SSM.jl\")\n",
    "using Random\n",
    "using .SSM\n",
    "using Distributions"
   ]
  },
  {
   "cell_type": "markdown",
   "metadata": {},
   "source": [
    "### Gaussian GLM Example"
   ]
  },
  {
   "cell_type": "code",
   "execution_count": 3,
   "metadata": {},
   "outputs": [
    {
     "data": {
      "text/plain": [
       "4-element Vector{Float64}:\n",
       "  2.0187908479131846\n",
       "  2.992330199639041\n",
       " -4.047993305173819\n",
       "  4.991399105504719"
      ]
     },
     "metadata": {},
     "output_type": "display_data"
    }
   ],
   "source": [
    "# Fit a Gaussian GLM\n",
    "# Generate some synthetic data\n",
    "X = rand(10000, 3);  # 100 samples, 3 features;\n",
    "# Add a column of ones to represent the intercept term\n",
    "X_concat = hcat(ones(10000), X)\n",
    "β = [2, 3, -4, 5]\n",
    "y = X_concat * β + rand(Normal(0, 1), 10000)\n",
    "\n",
    "# define a GLM\n",
    "glm = GaussianRegression(X, y)\n",
    "fit!(glm, LSELoss(), 1000)"
   ]
  },
  {
   "cell_type": "markdown",
   "metadata": {},
   "source": [
    "### Poisson GLM Example"
   ]
  },
  {
   "cell_type": "code",
   "execution_count": 4,
   "metadata": {},
   "outputs": [
    {
     "data": {
      "text/plain": [
       "4-element Vector{Float64}:\n",
       "  1.9993518021288263\n",
       "  3.0001202482828835\n",
       " -4.002665054605984\n",
       "  5.001981947833053"
      ]
     },
     "metadata": {},
     "output_type": "display_data"
    }
   ],
   "source": [
    "# Fit a Poisson GLM\n",
    "# Generate some synthetic data\n",
    "X = rand(10000, 3);  # 100 samples, 3 features;\n",
    "# Add a column of ones to represent the intercept term\n",
    "X_concat = hcat(ones(10000), X)\n",
    "β = [2, 3, -4, 5]\n",
    "\n",
    "# Generate some synthetic data\n",
    "y = Vector{Float64}(rand.(Poisson.(exp.(X_concat * β))))\n",
    "\n",
    "# define a GLM\n",
    "glm = PoissonRegression(X, y)\n",
    "fit!(glm, PoissonLoss(), 1000)\n"
   ]
  },
  {
   "cell_type": "markdown",
   "metadata": {},
   "source": [
    "### Binomial GLM Example (i.e. logistic regression)"
   ]
  },
  {
   "cell_type": "code",
   "execution_count": 5,
   "metadata": {},
   "outputs": [
    {
     "data": {
      "text/plain": [
       "4-element Vector{Float64}:\n",
       "  2.0830865982345195\n",
       "  3.045177366762648\n",
       " -4.010889466299791\n",
       "  4.74474818785333"
      ]
     },
     "metadata": {},
     "output_type": "display_data"
    }
   ],
   "source": [
    "# sigmoid function\n",
    "function sigmoid(x)\n",
    "    return 1 / (1 + exp(-x))\n",
    "end\n",
    "\n",
    "# Fit a Binomial GLM\n",
    "# Generate some synthetic data\n",
    "X = rand(10000, 3); # 1000 samples, 3 features;\n",
    "# Add a column of ones to represent the intercept term\n",
    "X_concat = hcat(ones(10000), X)\n",
    "β = [2, 3, -4, 5]\n",
    "\n",
    "# Generate some synthetic data\n",
    "y = Vector{Float64}(rand.(Binomial.(1, sigmoid.(X_concat * β))))\n",
    "\n",
    "# define a GLM\n",
    "glm = BinomialRegression(X, y)\n",
    "fit!(glm, CrossEntropyLoss(), 1000)"
   ]
  },
  {
   "cell_type": "code",
   "execution_count": 6,
   "metadata": {},
   "outputs": [
    {
     "name": "stdout",
     "output_type": "stream",
     "text": [
      "Iteration: 1, Log-likelihood: -70547.17003100985\n",
      "Iteration: 2, Log-likelihood: -69756.22866662563\n",
      "Iteration: 3, Log-likelihood: -68910.67317956932\n"
     ]
    },
    {
     "name": "stdout",
     "output_type": "stream",
     "text": [
      "Iteration: 4, Log-likelihood: -68253.34481469865\n",
      "Iteration: 5, Log-likelihood: -67963.62801957631\n",
      "Iteration: 6, Log-likelihood: -67885.07988175843\n"
     ]
    },
    {
     "name": "stdout",
     "output_type": "stream",
     "text": [
      "Iteration: 7, Log-likelihood: -67865.32005133774\n",
      "Iteration: 8, Log-likelihood: -67859.74635471913\n",
      "Iteration: 9, Log-likelihood: -67858.03774742776\n"
     ]
    },
    {
     "name": "stdout",
     "output_type": "stream",
     "text": [
      "Iteration: 10, Log-likelihood: -67857.49074083574\n",
      "Iteration: 11, Log-likelihood: -67857.31154219204\n",
      "Iteration: 12, Log-likelihood: -67857.25208504437\n"
     ]
    },
    {
     "name": "stdout",
     "output_type": "stream",
     "text": [
      "Iteration: 13, Log-likelihood: -67857.23221454941\n",
      "Iteration: 14, Log-likelihood: -67857.22554623813\n",
      "Iteration: 15, Log-likelihood: -67857.22330302895\n"
     ]
    },
    {
     "name": "stdout",
     "output_type": "stream",
     "text": [
      "Iteration: 16, Log-likelihood: -67857.22254734478\n",
      "Convergence reached at iteration 16\n"
     ]
    },
    {
     "name": "stdout",
     "output_type": "stream",
     "text": [
      "93.1685426582240893.1685417273194"
     ]
    }
   ],
   "source": [
    "# try out markov glm\n",
    "\n",
    "# Generate synthetic data from two distinct regimes\n",
    "X = rand(10000, 3); # 1000 samples, 3 features;\n",
    "# Add a column of ones to represent the intercept term\n",
    "X_concat = hcat(ones(10000), X)\n",
    "β₁ = [-2, -3, -4, 5]\n",
    "β₂ = [6, 7, -8, 20]\n",
    "\n",
    "# Generate some synthetic data\n",
    "y₁ = X_concat * β₁ + rand(Normal(0, 0.1), 10000)\n",
    "y₂ = X_concat * β₂ + rand(Normal(0, 1), 10000)\n",
    "\n",
    "# concatenate X1 and X2\n",
    "x = vcat(X, X)\n",
    "\n",
    "# concatenate y1 and y2\n",
    "y = vcat(y₁, y₂)\n",
    "\n",
    "# define a Gaussian HMMGLM\n",
    "glm = GaussianMarkovRegression(y, x, 2)\n",
    "\n",
    "MarkovRegressionEM(glm)"
   ]
  },
  {
   "cell_type": "code",
   "execution_count": null,
   "metadata": {},
   "outputs": [],
   "source": [
    "glm.B[1].regression_model.β"
   ]
  },
  {
   "cell_type": "code",
   "execution_count": null,
   "metadata": {},
   "outputs": [],
   "source": [
    "using Plots\n",
    "plot(y)"
   ]
  }
 ],
 "metadata": {
  "kernelspec": {
   "display_name": "Julia 1.9.3",
   "language": "julia",
   "name": "julia-1.9"
  },
  "language_info": {
   "file_extension": ".jl",
   "mimetype": "application/julia",
   "name": "julia",
   "version": "1.9.3"
  }
 },
 "nbformat": 4,
 "nbformat_minor": 2
}
