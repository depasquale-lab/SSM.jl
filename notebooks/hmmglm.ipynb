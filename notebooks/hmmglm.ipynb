{
 "cells": [
  {
   "cell_type": "code",
   "execution_count": 1,
   "metadata": {},
   "outputs": [],
   "source": [
    "using SSM\n",
    "using Random\n",
    "using Distributions\n",
    "using Plots\n",
    "using LinearAlgebra\n",
    "using CSV\n",
    "using DataFrames"
   ]
  },
  {
   "cell_type": "code",
   "execution_count": 2,
   "metadata": {},
   "outputs": [
    {
     "data": {
      "text/plain": [
       "18667×1 Matrix{Float64}:\n",
       " -10.0\n",
       "  20.0\n",
       "  -6.0\n",
       "  -3.0\n",
       "   4.0\n",
       "   4.0\n",
       "  -2.0\n",
       "   5.0\n",
       "   5.0\n",
       " -10.0\n",
       "   ⋮\n",
       "  -4.0\n",
       "   4.0\n",
       "  -2.0\n",
       "   3.0\n",
       "   6.0\n",
       "   2.0\n",
       "  -6.0\n",
       "  -5.0\n",
       "  -6.0"
      ]
     },
     "metadata": {},
     "output_type": "display_data"
    }
   ],
   "source": [
    "robert = CSV.read(\"/Users/ryansenne/Downloads/robert_deltaflash_choice.csv\", DataFrame)\n",
    "# extract variables\n",
    "choice = Array{Float64}(robert.choice)\n",
    "delta_flashes = reshape(Array{Float64}(robert.delta_flashes), length(choice), 1)"
   ]
  },
  {
   "cell_type": "code",
   "execution_count": 3,
   "metadata": {},
   "outputs": [
    {
     "data": {
      "text/plain": [
       "2-element Vector{Float64}:\n",
       " 1.0018353112281189\n",
       " 1.9981958808653864"
      ]
     },
     "metadata": {},
     "output_type": "display_data"
    }
   ],
   "source": [
    "# create data from a PoissonRegression model\n",
    "\n",
    "X = randn(length(choice), 1)\n",
    "X = [ones(length(choice)) X]\n",
    "\n",
    "β = [1.0, 2.0]\n",
    "μ = X * β\n",
    "\n",
    "y = rand.(Poisson.(exp.(μ)))\n",
    "\n",
    "# create a PoissonRegression model\n",
    "model = PoissonRegression(include_intercept = false)\n",
    "model.β = zeros(2)\n",
    "# fit the model\n",
    "fit!(model, X, y)"
   ]
  },
  {
   "cell_type": "code",
   "execution_count": 7,
   "metadata": {},
   "outputs": [
    {
     "data": {
      "text/plain": [
       "2-element Vector{Float64}:\n",
       " -360373.0\n",
       " -744820.419934163"
      ]
     },
     "metadata": {},
     "output_type": "display_data"
    }
   ],
   "source": [
    "using ForwardDiff\n",
    "# create an objective function to look at the grad of the loglikelihood\n",
    "obj = β -> -SSM.loglikelihood(PoissonRegression(β, false, 0.0), X, y)\n",
    "\n",
    "grad = ForwardDiff.gradient(obj, [0.0, 0.0])\n"
   ]
  },
  {
   "cell_type": "code",
   "execution_count": 5,
   "metadata": {},
   "outputs": [
    {
     "data": {
      "text/plain": [
       "2-element Vector{Float64}:\n",
       " -360373.0\n",
       " -744820.4199341631"
      ]
     },
     "metadata": {},
     "output_type": "display_data"
    }
   ],
   "source": [
    "SSM.gradient!([0.0, 0.0], model, X, y)"
   ]
  }
 ],
 "metadata": {
  "kernelspec": {
   "display_name": "Julia 1.9.3",
   "language": "julia",
   "name": "julia-1.9"
  },
  "language_info": {
   "file_extension": ".jl",
   "mimetype": "application/julia",
   "name": "julia",
   "version": "1.9.3"
  }
 },
 "nbformat": 4,
 "nbformat_minor": 2
}
