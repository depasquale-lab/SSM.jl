{
 "cells": [
  {
   "cell_type": "markdown",
   "metadata": {},
   "source": [
    "# Hidden Markov Model - Generalized Linear Model (HMM GLM) Tutorial Notebook #\n",
    "\n",
    "This notebook will teach you how to use HMM-GLMs using StateSpaceDynamics.jl. HMM-GLMs are an extension of HMMs where the observation is dependent not only on the latent state, but also an input. These can be conceptualized as switching regression models, and are referred to as such throughout StateSpaceDynamics.jl"
   ]
  },
  {
   "cell_type": "markdown",
   "metadata": {},
   "source": [
    "## 0: Environment Setup"
   ]
  },
  {
   "cell_type": "code",
   "execution_count": 1,
   "metadata": {},
   "outputs": [
    {
     "data": {
      "text/plain": [
       "StateSpaceDynamics"
      ]
     },
     "metadata": {},
     "output_type": "display_data"
    }
   ],
   "source": [
    "using Pkg\n",
    "using LinearAlgebra\n",
    "using Plots\n",
    "using Distributions\n",
    "using Random\n",
    "using StateSpaceDynamics\n",
    "using StatsBase\n",
    "\n",
    "const SSD = StateSpaceDynamics"
   ]
  },
  {
   "cell_type": "markdown",
   "metadata": {},
   "source": [
    "## 1: Introduction to HMM-GLMs ##\n",
    "\n",
    "For a detailed explanation of the core Hidden Markov Model (HMM) concepts, including the hidden state evolution and transition matrix, please refer to the notebook `hmm.ipynb`. The primary difference between a standard HMM and an HMM-GLM (Hidden Markov Model with Generalized Linear Model) lies in the emission model.\n",
    "\n",
    "Emission Model in HMM-GLMs\n",
    "In an HMM-GLM, instead of directly modeling the emissions (observations) as a simple distribution (e.g., Gaussian or categorical), the emissions follow a generalized linear model (GLM). This means the observed data $x_t$ is a linear function of some input features, with parameters dependent on the hidden state $z_t$. \n",
    "\n",
    "Specifically:\n",
    "$x_t=g^{-1}(X_tβ_{z_t})+ϵ$\n",
    "\n",
    "$X_t$: Input feature vector at time $t$.\n",
    "\n",
    "$\\beta_{z_t}$: Regression coefficients for the hidden state $z_t$.\n",
    "\n",
    "$g^{-1}(\\cdot)$: Link function appropriate for the distribution of $x_t$ (e.g., logistic for binary outcomes, identity for continuous).\n",
    "\n",
    "$\\epsilon$: Noise term, often assumed to follow a Gaussian distribution.\n",
    "\n",
    "The HMM-GLM can be conceptualized as a switching regression model, where the coefficients of the regression change discretely over time.\n",
    "\n",
    "### Example\n",
    "\n",
    "In the following example we will demonstrate how to create, sample from, and fit a Switching Gaussian Regression model using StateSpaceDynamics.jl"
   ]
  },
  {
   "cell_type": "code",
   "execution_count": 2,
   "metadata": {},
   "outputs": [
    {
     "data": {
      "text/plain": [
       "1000"
      ]
     },
     "metadata": {},
     "output_type": "display_data"
    }
   ],
   "source": [
    "# Common dimensions for both models\n",
    "input_dim = 2\n",
    "output_dim = 2\n",
    "\n",
    "# Parameters for the first Gaussian regression model\n",
    "\n",
    "# THESE BETA MATRICES MIGHT BE TRANSPOSED\n",
    "\n",
    "β1 = [1.0 0.8; -0.5 0.3; -0.2 0.4]  # Coefficients (3x2 matrix: 1 intercept + 2 features for 2 outputs)\n",
    "Σ1 = [0.1 0.01; 0.01 0.2]  # Covariance matrix (2x2 matrix, since output_dim is 2)\n",
    "include_intercept1 = true\n",
    "λ1 = 0.01\n",
    "\n",
    "# Instantiate the first Gaussian regression\n",
    "regression1 = SSD.GaussianRegressionEmission(GaussianRegression(input_dim, output_dim, β1, Σ1, include_intercept1, λ1))\n",
    "\n",
    "\n",
    "# Parameters for the first Gaussian regression model\n",
    "β2 = [0.0 -5.0; -5.0 0.0; 4.0 -2.0]  # Coefficients (3x2 matrix: 1 intercept + 2 features for 2 outputs)\n",
    "Σ2 = [0.01 0.01; 0.01 0.05]  # Covariance matrix (2x2 matrix, since output_dim is 2)\n",
    "include_intercept2 = true\n",
    "λ2 = 0.01\n",
    "\n",
    "# Instantiate the second Gaussian regression\n",
    "regression2 = SSD.GaussianRegressionEmission(GaussianRegression(input_dim, output_dim, β2, Σ2, include_intercept2, λ2))\n",
    "\n",
    "\n",
    "# Initialize the Switching Gaussian Regression Model\n",
    "model = SSD.SwitchingGaussianRegression(K=2, input_dim=3, output_dim=2)\n",
    "\n",
    "# Assign the prebuild regression models to each state\n",
    "model.B[1] = regression1\n",
    "model.B[2] = regression2\n",
    "\n",
    "n=1000\n"
   ]
  },
  {
   "cell_type": "code",
   "execution_count": 6,
   "metadata": {},
   "outputs": [
    {
     "data": {
      "text/plain": [
       "([2, 2, 1, 1, 1, 1, 1, 1, 1, 2  …  1, 1, 1, 1, 1, 1, 2, 2, 2, 2], [1.878923042514483 -6.300106983540043; -1.4047047707021907 -5.235923612075178; … ; 2.2143165284037787 -6.872844875433888; -2.512262998131283 -5.595872913649199])"
      ]
     },
     "metadata": {},
     "output_type": "display_data"
    }
   ],
   "source": [
    "Φ = rand(100,2)\n",
    "n=100\n",
    "true_labels, data = SSD.sample(model, Φ, n=n)"
   ]
  },
  {
   "cell_type": "code",
   "execution_count": 7,
   "metadata": {},
   "outputs": [
    {
     "data": {
      "text/plain": [
       "100×2 Matrix{Float64}:\n",
       "  1.87892   -6.30011\n",
       " -1.4047    -5.23592\n",
       "  0.341696   0.772185\n",
       "  0.639606   1.68005\n",
       "  0.117925   0.911961\n",
       "  0.658826   0.315069\n",
       "  1.60341    1.69105\n",
       "  1.09186    1.54226\n",
       "  0.760772   0.480961\n",
       " -0.633124  -5.75163\n",
       "  ⋮         \n",
       "  1.20512    1.17742\n",
       "  0.144288   0.169662\n",
       "  0.257391   1.47979\n",
       "  0.926707   0.640887\n",
       "  1.34053    0.644708\n",
       " -0.475953  -6.58688\n",
       " -3.25821   -5.33169\n",
       "  2.21432   -6.87284\n",
       " -2.51226   -5.59587"
      ]
     },
     "metadata": {},
     "output_type": "display_data"
    }
   ],
   "source": [
    "data"
   ]
  }
 ],
 "metadata": {
  "kernelspec": {
   "display_name": "Julia 1.10.1",
   "language": "julia",
   "name": "julia-1.10"
  },
  "language_info": {
   "file_extension": ".jl",
   "mimetype": "application/julia",
   "name": "julia",
   "version": "1.10.1"
  }
 },
 "nbformat": 4,
 "nbformat_minor": 2
}
