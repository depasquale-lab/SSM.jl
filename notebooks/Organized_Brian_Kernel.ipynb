{
 "cells": [
  {
   "cell_type": "code",
   "execution_count": 1,
   "metadata": {},
   "outputs": [
    {
     "name": "stderr",
     "output_type": "stream",
     "text": [
      "\u001b[32m\u001b[1m  Activating\u001b[22m\u001b[39m project at `~/Documents/GitHub/zach_ssm_julia`\n"
     ]
    }
   ],
   "source": [
    "using Pkg\n",
    "Pkg.activate(\"/Users/briandepasquale/Documents/GitHub/zach_ssm_julia/\")"
   ]
  },
  {
   "cell_type": "code",
   "execution_count": 2,
   "metadata": {},
   "outputs": [],
   "source": [
    "using Random\n",
    "using SSM\n",
    "using Distributions\n",
    "using Plots\n",
    "using StatsBase"
   ]
  },
  {
   "cell_type": "code",
   "execution_count": 3,
   "metadata": {},
   "outputs": [],
   "source": [
    "\"\"\"\n",
    "Generate Synthetic Exponential Kernels\n",
    "\"\"\"\n",
    "\n",
    "# generate data from a \"switching gaussian regression\"\n",
    "n = 1000\n",
    "K = 2\n",
    "R = 200\n",
    "X = Array{Matrix{Float64}}(undef, R)\n",
    "S = Array{Vector{Float64}}(undef, R)\n",
    "Y = Array{Vector{Float64}}(undef, R);\n",
    "\n",
    "# Exponential\n",
    "\n",
    "A = [0.9 0.1; 0.05 0.95]\n",
    "β₁ = exp.(LinRange(-10, 0, 50)) ./ (sum(exp.(LinRange(-10, 0, 50)) * mean(diff(LinRange(-15, 0, 50)))))\n",
    "β₂ = exp.(LinRange(-4, 0, 50)) ./ (sum(exp.(LinRange(-4, 0, 50)) * mean(diff(LinRange(-4, 0, 50)))))\n",
    "σ²₁, σ²₂ = 1.0, 1.0;\n",
    "\n",
    "init_state = Vector{Int}(undef, R)\n",
    "\n",
    "for ii = 1:R\n",
    "\n",
    "    x = cat(zeros(50), randn(n, 1), dims=1);\n",
    "    XX = permutedims(hcat([x[i:i+50-1] for i in 1:n]...), (2,1))\n",
    "\n",
    "    YY = zeros(n)\n",
    "    SS = zeros(Int, n)\n",
    "    \n",
    "    for i in 1:n\n",
    "        \n",
    "        if i == 1\n",
    "            SS[i] = StatsBase.sample(1:K, Weights([0.5, 0.5]))\n",
    "            init_state[ii] = SS[i]\n",
    "        else\n",
    "            SS[i] = StatsBase.sample(1:K, Weights(A[SS[i-1], :]))\n",
    "        end\n",
    "\n",
    "        if SS[i] == 1\n",
    "            YY[i] = XX[i, :]'*β₁ + rand(Normal(0, sqrt(σ²₁)))\n",
    "        elseif SS[i] == 2\n",
    "            YY[i] = XX[i, :]'*β₂ + rand(Normal(0, sqrt(σ²₂)))\n",
    "        end\n",
    "    end\n",
    "\n",
    "    X[ii] = XX;\n",
    "    Y[ii] = YY;\n",
    "    S[ii] = SS;\n",
    "end\n",
    "\n",
    "\n"
   ]
  },
  {
   "cell_type": "code",
   "execution_count": 4,
   "metadata": {},
   "outputs": [
    {
     "name": "stdout",
     "output_type": "stream",
     "text": [
      "Initial state probabilities: [0.51, 0.49]\n"
     ]
    }
   ],
   "source": [
    "function calculate_initial_state_probabilities(init_state::Vector{Int}, num_states::Int)\n",
    "    state_counts = zeros(Int, num_states)\n",
    "    total_trials = length(init_state)\n",
    "    \n",
    "    for state in init_state\n",
    "        state_counts[state] += 1\n",
    "    end\n",
    "    \n",
    "    initial_state_probabilities = state_counts / total_trials\n",
    "    return initial_state_probabilities\n",
    "end\n",
    "\n",
    "# Example usage\n",
    "num_states = 2  # Assuming there are 2 states\n",
    "init_state_probabilities = calculate_initial_state_probabilities(init_state, num_states)\n",
    "println(\"Initial state probabilities: \", init_state_probabilities)\n"
   ]
  },
  {
   "cell_type": "code",
   "execution_count": 5,
   "metadata": {},
   "outputs": [
    {
     "name": "stdout",
     "output_type": "stream",
     "text": [
      "Log-Lieklihood at iter 1: -2.1786275016447175e6\n",
      "Log-Lieklihood at iter 2: -332894.9605876975\n",
      "Log-Lieklihood at iter 3: -330222.1140509398\n",
      "Log-Lieklihood at iter 4: -330027.38018509815\n",
      "Log-Lieklihood at iter 5: -329884.9917455684\n",
      "Log-Lieklihood at iter 6: -329764.94235061336\n",
      "Log-Lieklihood at iter 7: -329655.32744865044\n"
     ]
    }
   ],
   "source": [
    "model = SwitchingGaussianRegression(;K=2, λ=1e-12)\n",
    "ll, A_stor, π_stor, β1_stor, β2_stor, σ1_stor, σ2_stor = SSM.fit!(model, X, Y, 75, 1e-6, true);"
   ]
  },
  {
   "cell_type": "code",
   "execution_count": null,
   "metadata": {},
   "outputs": [],
   "source": [
    "plot(ll[3:end])"
   ]
  },
  {
   "cell_type": "code",
   "execution_count": null,
   "metadata": {},
   "outputs": [],
   "source": [
    "all(diff(ll) .>0) "
   ]
  },
  {
   "cell_type": "code",
   "execution_count": null,
   "metadata": {},
   "outputs": [],
   "source": [
    "plot(model.B[1].regression.β)\n",
    "plot!(model.B[2].regression.β)\n",
    "plot!(β₁)\n",
    "plot!(β₂)"
   ]
  },
  {
   "cell_type": "code",
   "execution_count": null,
   "metadata": {},
   "outputs": [],
   "source": [
    "println(model.A)\n",
    "println(model.πₖ)"
   ]
  },
  {
   "cell_type": "code",
   "execution_count": null,
   "metadata": {},
   "outputs": [],
   "source": [
    "A"
   ]
  },
  {
   "cell_type": "code",
   "execution_count": null,
   "metadata": {},
   "outputs": [],
   "source": []
  }
 ],
 "metadata": {
  "kernelspec": {
   "display_name": "Julia 1.10.2",
   "language": "julia",
   "name": "julia-1.10"
  },
  "language_info": {
   "file_extension": ".jl",
   "mimetype": "application/julia",
   "name": "julia",
   "version": "1.10.2"
  }
 },
 "nbformat": 4,
 "nbformat_minor": 2
}
