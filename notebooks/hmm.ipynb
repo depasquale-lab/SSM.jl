{
 "cells": [
  {
   "cell_type": "code",
   "execution_count": 1,
   "metadata": {},
   "outputs": [
    {
     "name": "stderr",
     "output_type": "stream",
     "text": [
      "\u001b[32m\u001b[1m  Activating\u001b[22m\u001b[39m project at `\\Users\\ryansenne\\Documents\\Github\\SSM`\n"
     ]
    }
   ],
   "source": [
    "using Pkg\n",
    "Pkg.activate(\"/Users/ryansenne/Documents/Github/SSM\")\n",
    "\n",
    "include(\"/Users/ryansenne/Documents/Github/SSM//src/SSM.jl\")\n",
    "# include(\"/home/ryansenne/PycharmProjects/ssm_julia/src/SSM.jl\")\n",
    "using LinearAlgebra\n",
    "using Plots\n",
    "using Distributions\n",
    "using Random\n",
    "using .SSM\n",
    "using StatsBase"
   ]
  },
  {
   "cell_type": "code",
   "execution_count": 2,
   "metadata": {},
   "outputs": [
    {
     "name": "stdout",
     "output_type": "stream",
     "text": [
      "-17663.160711472912\n",
      "-13271.67519963756\n",
      "-13271.666650993717\n",
      "-13271.666647170097\n",
      "-13271.666647168035\n"
     ]
    }
   ],
   "source": [
    "# generate data from a Gaussian HMM model\n",
    "Random.seed!(1234)\n",
    "\n",
    "A = [0.7 0.2 0.1; 0.1 0.7 0.2; 0.2 0.1 0.7]\n",
    "    means = [[0.0, 0.0], [-1.0, 2.0], [3.0, 2.5]]\n",
    "    covs = [\n",
    "                [0.1 0.0; 0.0 0.1],  # Covariance matrix for state 1\n",
    "                [0.1 0.0; 0.0 0.1],  # Covariance matrix for state 2\n",
    "                [0.1 0.0; 0.0 0.1]   # Covariance matrix for state 3\n",
    "            ]\n",
    "emissions_models = [GaussianEmission(mean, cov) for (mean, cov) in zip(means, covs)]\n",
    "simul_hmm = GaussianHMM(A, emissions_models, [0.33, 0.33, 0.34], 3, 2)\n",
    "states, observations = SSM.sample(simul_hmm, 10000)\n",
    "\n",
    "\n",
    "model = GaussianHMM(observations, 3)\n",
    "# baumWelch!(model, observations, 100)"
   ]
  },
  {
   "cell_type": "code",
   "execution_count": 3,
   "metadata": {},
   "outputs": [
    {
     "data": {
      "text/plain": [
       "9999×3×3 Array{Float64, 3}:\n",
       "[:, :, 1] =\n",
       "  -18.7504       -362.451   -173.329\n",
       "  -96.8866       -158.591    -80.7281\n",
       " -153.959         -76.3804  -158.012\n",
       "  -76.3804          0.0      -72.7632\n",
       "   -1.81899e-12   -78.6818   -32.2671\n",
       "  -86.8892       -179.274   -116.952\n",
       " -174.569         -90.8293  -180.347\n",
       " -173.536         -85.856   -177.875\n",
       " -145.639         -62.9325  -148.888\n",
       " -132.603         -72.8197  -144.304\n",
       "    ⋮                       \n",
       "  -71.0093          0.0      -74.1317\n",
       "    0.0           -71.2519   -32.0565\n",
       "    0.0           -85.6724   -31.5123\n",
       "   -2.00089e-11   -80.6842   -33.2658\n",
       "  -69.437        -143.312    -96.682\n",
       "  -69.437           0.0      -65.1618\n",
       "   -5.63887e-11   -66.5321   -35.1838\n",
       "   -6.73026e-11   -69.2317   -23.5849\n",
       "   -1.09139e-11   -74.5357   -25.2551\n",
       "\n",
       "[:, :, 2] =\n",
       "  -77.3053       -417.856   -229.292\n",
       "  -18.7504        -77.3053    -7.19047e-9\n",
       "  -80.7281          0.0      -82.1891\n",
       " -158.212         -78.6818  -152.003\n",
       "  -89.2352       -164.767   -118.91\n",
       "   -1.81899e-12   -89.2352   -27.4707\n",
       "  -86.8892          0.0      -90.0748\n",
       "  -90.8293          0.0      -92.5767\n",
       "  -85.856           0.0      -86.5132\n",
       "  -62.9325          0.0      -72.0417\n",
       "    ⋮                       \n",
       " -145.411         -71.2519  -145.941\n",
       "  -85.6724       -153.775   -115.137\n",
       "  -80.6842       -163.207   -109.605\n",
       "  -70.7259       -148.261   -101.4\n",
       "   -2.00089e-11   -70.7259   -24.6531\n",
       " -139.119         -66.5321  -132.251\n",
       "  -69.2317       -132.614   -101.824\n",
       "  -74.5357       -140.618    -95.5286\n",
       "  -71.4718       -142.858    -94.1349\n",
       "\n",
       "[:, :, 3] =\n",
       "   -7.19047e-9  -343.275   -151.361\n",
       " -101.565       -162.844    -82.1891\n",
       " -150.767        -72.7632  -151.603\n",
       " -109.073        -32.2671  -102.239\n",
       "  -27.4707      -105.727    -56.5208\n",
       "  -90.0748      -182.034   -116.92\n",
       " -176.742        -92.5767  -179.302\n",
       " -174.618        -86.5132  -175.741\n",
       " -155.174        -72.0417  -155.206\n",
       " -134.163        -73.955   -142.647\n",
       "    ⋮                      \n",
       " -103.491        -32.0565  -103.397\n",
       "  -31.5123      -102.339    -60.3519\n",
       "  -33.2658      -118.513    -61.5611\n",
       "  -24.6531      -104.912    -54.7019\n",
       "  -65.1618      -138.612    -89.1899\n",
       " -105.046        -35.1838   -97.554\n",
       "  -23.5849       -89.6917   -55.5518\n",
       "  -25.2551       -94.0615   -45.623\n",
       "  -33.2194      -107.33     -55.2576"
      ]
     },
     "metadata": {},
     "output_type": "display_data"
    }
   ],
   "source": [
    "α = SSM.forward(model, observations)\n",
    "β = SSM.backward(model, observations)\n",
    "γ = SSM.calculate_γ(model, α, β)\n",
    "ξ = SSM.calculate_ξ(model, α, β, observations)\n"
   ]
  },
  {
   "cell_type": "code",
   "execution_count": 14,
   "metadata": {},
   "outputs": [
    {
     "data": {
      "text/plain": [
       "9999×1×1 Array{Float64, 3}:\n",
       "[:, :, 1] =\n",
       " 1.000000000000517\n",
       " 1.000000000000517\n",
       " 1.0\n",
       " 1.0000000000000098\n",
       " 0.9999999999993645\n",
       " 0.9999999999993548\n",
       " 1.0\n",
       " 1.0\n",
       " 1.0\n",
       " 1.0\n",
       " ⋮\n",
       " 1.000000000000012\n",
       " 1.0000000000000326\n",
       " 1.0000000000000242\n",
       " 0.9999999999996417\n",
       " 0.9999999999996382\n",
       " 1.0000000000000004\n",
       " 1.0000000000007891\n",
       " 1.000000000000636\n",
       " 0.999999999999851"
      ]
     },
     "metadata": {},
     "output_type": "display_data"
    }
   ],
   "source": [
    "sum(exp.(ξ), dims=(2, 3))"
   ]
  },
  {
   "cell_type": "code",
   "execution_count": 4,
   "metadata": {},
   "outputs": [
    {
     "data": {
      "text/plain": [
       "3×3 Matrix{Float64}:\n",
       " 2886.0     0.0  2803.0\n",
       " 1507.0     0.0     0.0\n",
       " 1296.0  1507.0     0.0"
      ]
     },
     "metadata": {},
     "output_type": "display_data"
    }
   ],
   "source": [
    "model.A"
   ]
  },
  {
   "cell_type": "code",
   "execution_count": 4,
   "metadata": {},
   "outputs": [
    {
     "data": {
      "text/plain": [
       "3×3×9999 Array{Float64, 3}:\n",
       "[:, :, 1] =\n",
       " -18.1153   -0.00573578  -20.788\n",
       " -49.9552  -31.5774      -54.1222\n",
       " -22.1886   -5.1639      -23.7835\n",
       "\n",
       "[:, :, 2] =\n",
       " -157.289  -101.658   -18.0984\n",
       " -137.697   -81.7967   -1.47884e-8\n",
       " -161.008  -106.461   -20.7392\n",
       "\n",
       "[:, :, 3] =\n",
       " -270.359  -206.053   -137.697\n",
       " -212.964  -148.391    -81.7967\n",
       " -133.74    -70.5192     0.0\n",
       "\n",
       ";;; … \n",
       "\n",
       "[:, :, 9997] =\n",
       "  -0.072292  -20.5265   -4.41383\n",
       " -33.8265    -54.0125  -39.6622\n",
       "  -2.89121   -24.4302   -6.15482\n",
       "\n",
       "[:, :, 9998] =\n",
       "  -0.0197633  -22.5551   -5.23303\n",
       " -20.5078     -42.7748  -27.2152\n",
       "  -4.26813    -27.8882   -8.40347\n",
       "\n",
       "[:, :, 9999] =\n",
       "  -0.0167598  -32.5151   -4.50453\n",
       " -22.5528     -54.7828  -28.5348\n",
       "  -5.22442    -38.8075   -8.63426"
      ]
     },
     "metadata": {},
     "output_type": "display_data"
    }
   ],
   "source": [
    "alpha = SSM.forward(model, observations)\n",
    "beta = SSM.backward(model, observations)\n",
    "xi = SSM.calculate_ξ(model, alpha, beta, observations)"
   ]
  },
  {
   "cell_type": "code",
   "execution_count": 7,
   "metadata": {},
   "outputs": [
    {
     "data": {
      "text/plain": [
       "0.9999999999992296"
      ]
     },
     "metadata": {},
     "output_type": "display_data"
    }
   ],
   "source": [
    "sum(exp.(xi[:, :, 1]))"
   ]
  },
  {
   "cell_type": "code",
   "execution_count": 16,
   "metadata": {},
   "outputs": [
    {
     "data": {
      "text/plain": [
       "\"hmm_observations.csv\""
      ]
     },
     "metadata": {},
     "output_type": "display_data"
    }
   ],
   "source": [
    "using DataFrames\n",
    "using CSV\n",
    "CSV.write(\"hmm_observations.csv\", DataFrame(observations, :auto), writeheader=false)"
   ]
  },
  {
   "cell_type": "code",
   "execution_count": 3,
   "metadata": {},
   "outputs": [
    {
     "name": "stdout",
     "output_type": "stream",
     "text": [
      "-4584.5258332169415\n",
      "-386.3132837521509\n",
      "-370.538737764364\n",
      "-361.912908169515\n",
      "-357.8273503052301\n",
      "-353.49494957458353\n",
      "-350.7938428520957\n",
      "-350.33259560079733\n",
      "-350.3002596397879\n",
      "-350.2990049814304\n",
      "-350.29896245266696\n"
     ]
    }
   ],
   "source": [
    "using CSV\n",
    "using DataFrames\n",
    "\n",
    "# import old faithful data\n",
    "old_faithful = CSV.read(\"/Users/ryansenne/PycharmProjects/NV_States_GLM_HMM/HMM_Bishop/faithful.csv\", DataFrame)\n",
    "\n",
    "# set up a variable for the HMM\n",
    "X = Matrix{Float64}(old_faithful[:, [:waiting, :eruptions]])\n",
    "#  zscore the data\n",
    "X = (X .- mean(X, dims=1)) ./ std(X, dims=1)\n",
    "\n",
    "# Set up initial parameters\n",
    "A = [0.2 0.8; 0.5 0.5];\n",
    "Pi = [0.5, 0.5];\n",
    "\n",
    "U1 = [3, -5];\n",
    "U2 = [-3, -3];\n",
    "Sigma1 = [1 0; 0 1];\n",
    "Sigma2 = [0.5 0; 0 0.5];\n",
    "\n",
    "hmm = SSM.GaussianHMM(A, [GaussianEmission(U1, Sigma1), GaussianEmission(U2, Sigma2)], Pi, 2, 2)\n",
    "# hmm = SSM.GaussianHMM(X, 2)\n",
    "baumWelch!(hmm, X, 11, 1e-3)\n"
   ]
  },
  {
   "cell_type": "code",
   "execution_count": 15,
   "metadata": {},
   "outputs": [
    {
     "data": {
      "text/plain": [
       "2×2 Matrix{Float64}:\n",
       " 0.476748  0.523252\n",
       " 0.938164  0.0618363"
      ]
     },
     "metadata": {},
     "output_type": "display_data"
    }
   ],
   "source": [
    "hmm.A"
   ]
  },
  {
   "cell_type": "code",
   "execution_count": 8,
   "metadata": {},
   "outputs": [
    {
     "data": {
      "text/plain": [
       "-6.546418900933308"
      ]
     },
     "metadata": {},
     "output_type": "display_data"
    }
   ],
   "source": [
    "SSM.loglikelihood(hmm.B[2], X[2, :])"
   ]
  },
  {
   "cell_type": "code",
   "execution_count": 11,
   "metadata": {},
   "outputs": [
    {
     "data": {
      "text/plain": [
       "272×2 adjoint(::Matrix{Float64}) with eltype Float64:\n",
       " -4566.11    -4566.58\n",
       " -4560.09    -4559.34\n",
       " -4541.2     -4541.67\n",
       " -4531.47    -4530.55\n",
       " -4508.6     -4509.07\n",
       " -4498.69    -4497.77\n",
       " -4475.35    -4474.44\n",
       " -4456.98    -4457.45\n",
       " -4451.44    -4450.52\n",
       " -4429.5     -4429.97\n",
       "     ⋮       \n",
       "  -117.004    -117.474\n",
       "  -111.44     -111.909\n",
       "  -102.426    -101.569\n",
       "   -76.7781    -75.8624\n",
       "   -55.3766    -55.8466\n",
       "   -50.2179    -49.3016\n",
       "   -28.5968    -29.0668\n",
       "   -24.3439    -23.5034\n",
       "     0.0         0.0"
      ]
     },
     "metadata": {},
     "output_type": "display_data"
    }
   ],
   "source": [
    "SSM.backward(hmm, X)'"
   ]
  }
 ],
 "metadata": {
  "kernelspec": {
   "display_name": "Julia 1.9.3",
   "language": "julia",
   "name": "julia-1.9"
  },
  "language_info": {
   "file_extension": ".jl",
   "mimetype": "application/julia",
   "name": "julia",
   "version": "1.9.3"
  },
  "orig_nbformat": 4
 },
 "nbformat": 4,
 "nbformat_minor": 2
}
