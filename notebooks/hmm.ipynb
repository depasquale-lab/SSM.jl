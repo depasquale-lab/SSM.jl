{
 "cells": [
  {
   "cell_type": "code",
   "execution_count": 1,
   "metadata": {},
   "outputs": [
    {
     "name": "stderr",
     "output_type": "stream",
     "text": [
      "\u001b[32m\u001b[1m  Activating\u001b[22m\u001b[39m project at `\\Users\\ryansenne\\Documents\\GitHub\\SSM`\n"
     ]
    }
   ],
   "source": [
    "using Pkg\n",
    "Pkg.activate(\"/Users/ryansenne/Documents/GitHub/SSM\")\n",
    "# Pkg.activate(\"/home/ryansenne/PycharmProjects/ssm_julia/\")"
   ]
  },
  {
   "cell_type": "code",
   "execution_count": 2,
   "metadata": {},
   "outputs": [],
   "source": [
    "include(\"/Users/ryansenne/Documents/Github/SSM//src/SSM.jl\")\n",
    "# include(\"/home/ryansenne/PycharmProjects/ssm_julia/src/SSM.jl\")\n",
    "using LinearAlgebra\n",
    "using Plots\n",
    "using Distributions\n",
    "using Random\n",
    "using .SSM\n",
    "using StatsBase"
   ]
  },
  {
   "cell_type": "code",
   "execution_count": 3,
   "metadata": {},
   "outputs": [
    {
     "name": "stdout",
     "output_type": "stream",
     "text": [
      "-19278.766149003342\n",
      "-14968.827731993188\n",
      "-13272.981079080597\n",
      "-13271.666647279293\n",
      "-13271.666647166907\n"
     ]
    }
   ],
   "source": [
    "# generate data from a Gaussian HMM model\n",
    "Random.seed!(1234)\n",
    "\n",
    "A = [0.7 0.2 0.1; 0.1 0.7 0.2; 0.2 0.1 0.7]\n",
    "    means = [[0.0, 0.0], [-1.0, 2.0], [3.0, 2.5]]\n",
    "    covs = [\n",
    "                [0.1 0.0; 0.0 0.1],  # Covariance matrix for state 1\n",
    "                [0.1 0.0; 0.0 0.1],  # Covariance matrix for state 2\n",
    "                [0.1 0.0; 0.0 0.1]   # Covariance matrix for state 3\n",
    "            ]\n",
    "emissions_models = [GaussianEmission(mean, cov) for (mean, cov) in zip(means, covs)]\n",
    "simul_hmm = GaussianHMM(A, emissions_models, [0.33, 0.33, 0.34], 3, 2)\n",
    "states, observations = SSM.sample(simul_hmm, 10000)\n",
    "\n",
    "\n",
    "model = GaussianHMM(observations, 3)\n",
    "baumWelch!(model, observations, 100)"
   ]
  },
  {
   "cell_type": "code",
   "execution_count": 16,
   "metadata": {},
   "outputs": [
    {
     "data": {
      "text/plain": [
       "\"hmm_observations.csv\""
      ]
     },
     "metadata": {},
     "output_type": "display_data"
    }
   ],
   "source": [
    "using DataFrames\n",
    "using CSV\n",
    "CSV.write(\"hmm_observations.csv\", DataFrame(observations, :auto), writeheader=false)"
   ]
  },
  {
   "cell_type": "code",
   "execution_count": 3,
   "metadata": {},
   "outputs": [
    {
     "name": "stdout",
     "output_type": "stream",
     "text": [
      "-4584.525829637301\n"
     ]
    }
   ],
   "source": [
    "using CSV\n",
    "using DataFrames\n",
    "\n",
    "# import old faithful data\n",
    "old_faithful = CSV.read(\"/Users/ryansenne/PycharmProjects/NV_States_GLM_HMM/HMM_Bishop/faithful.csv\", DataFrame)\n",
    "\n",
    "# set up a variable for the HMM\n",
    "X = Matrix{Float64}(old_faithful[:, [:waiting, :eruptions]])\n",
    "#  zscore the data\n",
    "X = (X .- mean(X, dims=1)) ./ std(X, dims=1)\n",
    "\n",
    "# Set up initial parameters\n",
    "A = [0.2 0.8; 0.5 0.5];\n",
    "Pi = [0.5, 0.5];\n",
    "\n",
    "U1 = [3, -5];\n",
    "U2 = [-3, -3];\n",
    "Sigma1 = [1 0; 0 1];\n",
    "Sigma2 = [0.5 0; 0 0.5];\n",
    "\n",
    "hmm = SSM.GaussianHMM(A, [GaussianEmission(U1, Sigma1), GaussianEmission(U2, Sigma2)], Pi, 2, 2)\n",
    "# hmm = SSM.GaussianHMM(X, 2)\n",
    "baumWelch!(hmm, X, 1)\n"
   ]
  }
 ],
 "metadata": {
  "kernelspec": {
   "display_name": "Julia 1.9.3",
   "language": "julia",
   "name": "julia-1.9"
  },
  "language_info": {
   "file_extension": ".jl",
   "mimetype": "application/julia",
   "name": "julia",
   "version": "1.9.3"
  },
  "orig_nbformat": 4
 },
 "nbformat": 4,
 "nbformat_minor": 2
}
