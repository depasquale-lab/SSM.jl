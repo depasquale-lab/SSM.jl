{
 "cells": [
  {
   "cell_type": "code",
   "execution_count": 1,
   "metadata": {},
   "outputs": [
    {
     "name": "stderr",
     "output_type": "stream",
     "text": [
      "\u001b[32m\u001b[1m  Activating\u001b[22m\u001b[39m new project at `\\Users\\ryansenne\\Documents\\Github\\SSM`\n"
     ]
    },
    {
     "ename": "SystemError",
     "evalue": "SystemError: opening file \"\\\\Users\\\\ryansenne\\\\Documents\\\\Github\\\\SSM\\\\src\\\\SSM.jl\": No such file or directory",
     "output_type": "error",
     "traceback": [
      "SystemError: opening file \"\\\\Users\\\\ryansenne\\\\Documents\\\\Github\\\\SSM\\\\src\\\\SSM.jl\": No such file or directory\n",
      "\n",
      "Stacktrace:\n",
      "  [1] systemerror(p::String, errno::Int32; extrainfo::Nothing)\n",
      "    @ Base .\\error.jl:176\n",
      "  [2] #systemerror#82\n",
      "    @ .\\error.jl:175 [inlined]\n",
      "  [3] systemerror\n",
      "    @ .\\error.jl:175 [inlined]\n",
      "  [4] open(fname::String; lock::Bool, read::Nothing, write::Nothing, create::Nothing, truncate::Nothing, append::Nothing)\n",
      "    @ Base .\\iostream.jl:293\n",
      "  [5] open\n",
      "    @ .\\iostream.jl:275 [inlined]\n",
      "  [6] open(f::Base.var\"#418#419\"{String}, args::String; kwargs::Base.Pairs{Symbol, Union{}, Tuple{}, NamedTuple{(), Tuple{}}})\n",
      "    @ Base .\\io.jl:393\n",
      "  [7] open\n",
      "    @ .\\io.jl:392 [inlined]\n",
      "  [8] read\n",
      "    @ .\\io.jl:473 [inlined]\n",
      "  [9] _include(mapexpr::Function, mod::Module, _path::String)\n",
      "    @ Base .\\loading.jl:1959\n",
      " [10] include(fname::String)\n",
      "    @ Base.MainInclude .\\client.jl:478\n",
      " [11] top-level scope\n",
      "    @ c:\\Users\\ryansenne\\Documents\\GitHub\\ssm_julia\\notebooks\\hmm.ipynb:4"
     ]
    }
   ],
   "source": [
    "using Pkg\n",
    "Pkg.activate(\"/Users/ryansenne/Documents/Github/SSM\")\n",
    "\n",
    "include(\"/Users/ryansenne/Documents/Github/SSM//src/SSM.jl\")\n",
    "# include(\"/home/ryansenne/PycharmProjects/ssm_julia/src/SSM.jl\")\n",
    "using LinearAlgebra\n",
    "using Plots\n",
    "using Distributions\n",
    "using Random\n",
    "using .SSM\n",
    "using StatsBase"
   ]
  },
  {
   "cell_type": "code",
   "execution_count": 2,
   "metadata": {},
   "outputs": [
    {
     "ename": "UndefVarError",
     "evalue": "UndefVarError: `Random` not defined",
     "output_type": "error",
     "traceback": [
      "UndefVarError: `Random` not defined\n",
      "\n",
      "Stacktrace:\n",
      " [1] top-level scope\n",
      "   @ c:\\Users\\ryansenne\\Documents\\GitHub\\ssm_julia\\notebooks\\hmm.ipynb:2"
     ]
    }
   ],
   "source": [
    "# generate data from a Gaussian HMM model\n",
    "Random.seed!(1234)\n",
    "\n",
    "A = [0.7 0.2 0.1; 0.1 0.7 0.2; 0.2 0.1 0.7]\n",
    "    means = [[0.0, 0.0], [-1.0, 2.0], [3.0, 2.5]]\n",
    "    covs = [\n",
    "                [0.1 0.0; 0.0 0.1],  # Covariance matrix for state 1\n",
    "                [0.1 0.0; 0.0 0.1],  # Covariance matrix for state 2\n",
    "                [0.1 0.0; 0.0 0.1]   # Covariance matrix for state 3\n",
    "            ]\n",
    "emissions_models = [GaussianEmission(mean, cov) for (mean, cov) in zip(means, covs)]\n",
    "simul_hmm = GaussianHMM(A, emissions_models, [0.33, 0.33, 0.34], 3, 2)\n",
    "states, observations = SSM.sample(simul_hmm, 10000)\n",
    "\n",
    "\n",
    "model = GaussianHMM(observations, 3)\n",
    "# baumWelch!(model, observations, 100)"
   ]
  },
  {
   "cell_type": "code",
   "execution_count": 3,
   "metadata": {},
   "outputs": [
    {
     "ename": "UndefVarError",
     "evalue": "UndefVarError: `SSM` not defined",
     "output_type": "error",
     "traceback": [
      "UndefVarError: `SSM` not defined\n",
      "\n",
      "Stacktrace:\n",
      " [1] top-level scope\n",
      "   @ c:\\Users\\ryansenne\\Documents\\GitHub\\ssm_julia\\notebooks\\hmm.ipynb:1"
     ]
    }
   ],
   "source": [
    "α = SSM.forward(model, observations)\n",
    "β = SSM.backward(model, observations)\n",
    "γ = SSM.calculate_γ(model, α, β)\n",
    "ξ = SSM.calculate_ξ(model, α, β, observations)\n"
   ]
  },
  {
   "cell_type": "code",
   "execution_count": 4,
   "metadata": {},
   "outputs": [
    {
     "ename": "UndefVarError",
     "evalue": "UndefVarError: `ξ` not defined",
     "output_type": "error",
     "traceback": [
      "UndefVarError: `ξ` not defined\n",
      "\n",
      "Stacktrace:\n",
      " [1] top-level scope\n",
      "   @ c:\\Users\\ryansenne\\Documents\\GitHub\\ssm_julia\\notebooks\\hmm.ipynb:1"
     ]
    }
   ],
   "source": [
    "sum(exp.(ξ), dims=(2, 3))"
   ]
  },
  {
   "cell_type": "code",
   "execution_count": 5,
   "metadata": {},
   "outputs": [
    {
     "ename": "UndefVarError",
     "evalue": "UndefVarError: `model` not defined",
     "output_type": "error",
     "traceback": [
      "UndefVarError: `model` not defined\n",
      "\n",
      "Stacktrace:\n",
      " [1] top-level scope\n",
      "   @ c:\\Users\\ryansenne\\Documents\\GitHub\\ssm_julia\\notebooks\\hmm.ipynb:1"
     ]
    }
   ],
   "source": [
    "model.A"
   ]
  },
  {
   "cell_type": "code",
   "execution_count": 6,
   "metadata": {},
   "outputs": [
    {
     "ename": "UndefVarError",
     "evalue": "UndefVarError: `SSM` not defined",
     "output_type": "error",
     "traceback": [
      "UndefVarError: `SSM` not defined\n",
      "\n",
      "Stacktrace:\n",
      " [1] top-level scope\n",
      "   @ c:\\Users\\ryansenne\\Documents\\GitHub\\ssm_julia\\notebooks\\hmm.ipynb:1"
     ]
    }
   ],
   "source": [
    "alpha = SSM.forward(model, observations)\n",
    "beta = SSM.backward(model, observations)\n",
    "xi = SSM.calculate_ξ(model, alpha, beta, observations)"
   ]
  },
  {
   "cell_type": "code",
   "execution_count": 7,
   "metadata": {},
   "outputs": [
    {
     "ename": "UndefVarError",
     "evalue": "UndefVarError: `xi` not defined",
     "output_type": "error",
     "traceback": [
      "UndefVarError: `xi` not defined\n",
      "\n",
      "Stacktrace:\n",
      " [1] top-level scope\n",
      "   @ c:\\Users\\ryansenne\\Documents\\GitHub\\ssm_julia\\notebooks\\hmm.ipynb:1"
     ]
    }
   ],
   "source": [
    "sum(exp.(xi[:, :, 1]))"
   ]
  },
  {
   "cell_type": "code",
   "execution_count": 8,
   "metadata": {},
   "outputs": [
    {
     "ename": "UndefVarError",
     "evalue": "UndefVarError: `observations` not defined",
     "output_type": "error",
     "traceback": [
      "UndefVarError: `observations` not defined\n",
      "\n",
      "Stacktrace:\n",
      " [1] top-level scope\n",
      "   @ c:\\Users\\ryansenne\\Documents\\GitHub\\ssm_julia\\notebooks\\hmm.ipynb:3"
     ]
    }
   ],
   "source": [
    "using DataFrames\n",
    "using CSV\n",
    "CSV.write(\"hmm_observations.csv\", DataFrame(observations, :auto), writeheader=false)"
   ]
  },
  {
   "cell_type": "code",
   "execution_count": 9,
   "metadata": {},
   "outputs": [
    {
     "ename": "UndefVarError",
     "evalue": "UndefVarError: `mean` not defined",
     "output_type": "error",
     "traceback": [
      "UndefVarError: `mean` not defined\n",
      "\n",
      "Stacktrace:\n",
      " [1] top-level scope\n",
      "   @ c:\\Users\\ryansenne\\Documents\\GitHub\\ssm_julia\\notebooks\\hmm.ipynb:10"
     ]
    }
   ],
   "source": [
    "using CSV\n",
    "using DataFrames\n",
    "\n",
    "# import old faithful data\n",
    "old_faithful = CSV.read(\"/Users/ryansenne/PycharmProjects/NV_States_GLM_HMM/HMM_Bishop/faithful.csv\", DataFrame)\n",
    "\n",
    "# set up a variable for the HMM\n",
    "X = Matrix{Float64}(old_faithful[:, [:waiting, :eruptions]])\n",
    "#  zscore the data\n",
    "X = (X .- mean(X, dims=1)) ./ std(X, dims=1)\n",
    "\n",
    "# Set up initial parameters\n",
    "A = [0.2 0.8; 0.5 0.5];\n",
    "Pi = [0.5, 0.5];\n",
    "\n",
    "U1 = [3, -5];\n",
    "U2 = [-3, -3];\n",
    "Sigma1 = [1 0; 0 1];\n",
    "Sigma2 = [0.5 0; 0 0.5];\n",
    "\n",
    "hmm = SSM.GaussianHMM(A, [GaussianEmission(U1, Sigma1), GaussianEmission(U2, Sigma2)], Pi, 2, 2)\n",
    "# hmm = SSM.GaussianHMM(X, 2)\n",
    "baumWelch!(hmm, X, 11, 1e-3)\n"
   ]
  },
  {
   "cell_type": "code",
   "execution_count": 10,
   "metadata": {},
   "outputs": [
    {
     "ename": "UndefVarError",
     "evalue": "UndefVarError: `hmm` not defined",
     "output_type": "error",
     "traceback": [
      "UndefVarError: `hmm` not defined\n",
      "\n",
      "Stacktrace:\n",
      " [1] top-level scope\n",
      "   @ c:\\Users\\ryansenne\\Documents\\GitHub\\ssm_julia\\notebooks\\hmm.ipynb:1"
     ]
    }
   ],
   "source": [
    "hmm.A"
   ]
  },
  {
   "cell_type": "code",
   "execution_count": 11,
   "metadata": {},
   "outputs": [
    {
     "ename": "UndefVarError",
     "evalue": "UndefVarError: `SSM` not defined",
     "output_type": "error",
     "traceback": [
      "UndefVarError: `SSM` not defined\n",
      "\n",
      "Stacktrace:\n",
      " [1] top-level scope\n",
      "   @ c:\\Users\\ryansenne\\Documents\\GitHub\\ssm_julia\\notebooks\\hmm.ipynb:1"
     ]
    }
   ],
   "source": [
    "SSM.loglikelihood(hmm.B[2], X[2, :])"
   ]
  },
  {
   "cell_type": "code",
   "execution_count": 12,
   "metadata": {},
   "outputs": [
    {
     "ename": "UndefVarError",
     "evalue": "UndefVarError: `SSM` not defined",
     "output_type": "error",
     "traceback": [
      "UndefVarError: `SSM` not defined\n",
      "\n",
      "Stacktrace:\n",
      " [1] top-level scope\n",
      "   @ c:\\Users\\ryansenne\\Documents\\GitHub\\ssm_julia\\notebooks\\hmm.ipynb:1"
     ]
    }
   ],
   "source": [
    "SSM.backward(hmm, X)'"
   ]
  },
  {
   "cell_type": "code",
   "execution_count": 13,
   "metadata": {},
   "outputs": [
    {
     "ename": "UndefVarError",
     "evalue": "UndefVarError: `MvNormal` not defined",
     "output_type": "error",
     "traceback": [
      "UndefVarError: `MvNormal` not defined\n",
      "\n",
      "Stacktrace:\n",
      " [1] top-level scope\n",
      "   @ c:\\Users\\ryansenne\\Documents\\GitHub\\ssm_julia\\notebooks\\hmm.ipynb:10"
     ]
    }
   ],
   "source": [
    "# let's make a synthetic model, and then try to fit it\n",
    "A = [[0.9 0.1]; [0.25 0.75]]\n",
    "\n",
    "means=[[0.0, 0.0], [-1.0, 0.5]]\n",
    "covs = [\n",
    "    [0.1 0.0; 0.0 0.1],  # Covariance matrix for state 1\n",
    "    [0.1 0.0; 0.0 0.1]   # Covariance matrix for state 2\n",
    "]\n",
    "\n",
    "pdf_1 = MvNormal(means[1], covs[1])\n",
    "pdf_2 = MvNormal(means[2], covs[2])\n",
    "\n",
    "sample_1 = rand(pdf_1, 1000)\n",
    "sample_2 = rand(pdf_2, 1000)\n",
    "\n",
    "scatter(sample_1[1, :], sample_1[2, :], label=\"State 1\")\n",
    "scatter!(sample_2[1, :], sample_2[2, :], label=\"State 2\")"
   ]
  },
  {
   "cell_type": "code",
   "execution_count": 14,
   "metadata": {},
   "outputs": [
    {
     "ename": "UndefVarError",
     "evalue": "UndefVarError: `GaussianEmission` not defined",
     "output_type": "error",
     "traceback": [
      "UndefVarError: `GaussianEmission` not defined\n",
      "\n",
      "Stacktrace:\n",
      " [1] top-level scope\n",
      "   @ c:\\Users\\ryansenne\\Documents\\GitHub\\ssm_julia\\notebooks\\hmm.ipynb:1"
     ]
    }
   ],
   "source": [
    "toy_hmm = GaussianHMM(A, [GaussianEmission(means[1], covs[1]), GaussianEmission(means[2], covs[2])], [0.9, 0.1], 2, 2)\n",
    "\n",
    "states, data = SSM.sample(toy_hmm, 1000)"
   ]
  },
  {
   "cell_type": "code",
   "execution_count": 15,
   "metadata": {},
   "outputs": [
    {
     "ename": "UndefVarError",
     "evalue": "UndefVarError: `data` not defined",
     "output_type": "error",
     "traceback": [
      "UndefVarError: `data` not defined\n",
      "\n",
      "Stacktrace:\n",
      " [1] top-level scope\n",
      "   @ c:\\Users\\ryansenne\\Documents\\GitHub\\ssm_julia\\notebooks\\hmm.ipynb:1"
     ]
    }
   ],
   "source": [
    "scatter(data[:, 1], data[:, 2], label=\"Data\")"
   ]
  },
  {
   "cell_type": "code",
   "execution_count": 16,
   "metadata": {},
   "outputs": [
    {
     "ename": "UndefVarError",
     "evalue": "UndefVarError: `GaussianHMM` not defined",
     "output_type": "error",
     "traceback": [
      "UndefVarError: `GaussianHMM` not defined\n",
      "\n",
      "Stacktrace:\n",
      " [1] top-level scope\n",
      "   @ c:\\Users\\ryansenne\\Documents\\GitHub\\ssm_julia\\notebooks\\hmm.ipynb:1"
     ]
    }
   ],
   "source": [
    "real_hmm = GaussianHMM(data, 2)\n",
    "baumWelch!(real_hmm, data, 100)"
   ]
  },
  {
   "cell_type": "code",
   "execution_count": 17,
   "metadata": {},
   "outputs": [
    {
     "ename": "UndefVarError",
     "evalue": "UndefVarError: `real_hmm` not defined",
     "output_type": "error",
     "traceback": [
      "UndefVarError: `real_hmm` not defined\n",
      "\n",
      "Stacktrace:\n",
      " [1] top-level scope\n",
      "   @ c:\\Users\\ryansenne\\Documents\\GitHub\\ssm_julia\\notebooks\\hmm.ipynb:1"
     ]
    }
   ],
   "source": [
    "real_hmm.πₖ"
   ]
  },
  {
   "cell_type": "markdown",
   "metadata": {},
   "source": []
  }
 ],
 "metadata": {
  "kernelspec": {
   "display_name": "Julia 1.9.3",
   "language": "julia",
   "name": "julia-1.9"
  },
  "language_info": {
   "file_extension": ".jl",
   "mimetype": "application/julia",
   "name": "julia",
   "version": "1.9.3"
  },
  "orig_nbformat": 4
 },
 "nbformat": 4,
 "nbformat_minor": 2
}
