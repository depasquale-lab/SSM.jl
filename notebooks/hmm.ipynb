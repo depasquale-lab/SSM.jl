{
 "cells": [
  {
   "cell_type": "code",
   "execution_count": 1,
   "metadata": {},
   "outputs": [
    {
     "data": {
      "text/plain": [
       "StateSpaceDynamics"
      ]
     },
     "metadata": {},
     "output_type": "display_data"
    }
   ],
   "source": [
    "using Pkg\n",
    "using LinearAlgebra\n",
    "using Plots\n",
    "using Distributions\n",
    "using Random\n",
    "using StateSpaceDynamics\n",
    "using StatsBase\n",
    "\n",
    "const SSD = StateSpaceDynamics"
   ]
  },
  {
   "cell_type": "code",
   "execution_count": 2,
   "metadata": {},
   "outputs": [
    {
     "data": {
      "text/plain": [
       "([1, 1, 1, 1, 1, 1, 1, 2, 1, 1  …  1, 1, 1, 1, 1, 1, 1, 1, 1, 1], [-0.24987588432479124 -0.04689425260460763; 0.007459913013807148 -0.16555198059425713; … ; 0.12041547747978548 -0.041644650267985944; -0.5015985870405232 0.12172859381133226])"
      ]
     },
     "metadata": {},
     "output_type": "display_data"
    }
   ],
   "source": [
    "\"\"\"\n",
    "Create an underlying GaussianHMM to generate data\n",
    "\"\"\"\n",
    "\n",
    "# Create Guassian Emission Models\n",
    "output_dim = 2\n",
    "μ = [0.0, 0.0]\n",
    "Σ = 0.1 * Matrix{Float64}(I, output_dim, output_dim)\n",
    "emission_1 = GaussianEmission(Gaussian(output_dim=output_dim, μ=μ, Σ=Σ))\n",
    "\n",
    "μ = [2.0, 1.0]\n",
    "Σ = 0.1 * Matrix{Float64}(I, output_dim, output_dim)\n",
    "emission_2 = GaussianEmission(Gaussian(μ=μ, Σ=Σ, output_dim=output_dim))\n",
    "\n",
    "# Create GaussianHMM\n",
    "true_model = SSD.GaussianHMM(K=2, output_dim=2)\n",
    "true_model.B[1] = emission_1\n",
    "true_model.B[2] = emission_2\n",
    "true_model.A = [0.9 0.1; 0.8 0.2]\n",
    "\n",
    "# Sample from the model\n",
    "n=1000\n",
    "true_labels, data = SSD.sample(true_model, n=n)"
   ]
  },
  {
   "cell_type": "code",
   "execution_count": 3,
   "metadata": {},
   "outputs": [],
   "source": [
    "\"\"\"\n",
    "Create a new GaussianHMM and try to fit the synthetic data\n",
    "\"\"\"\n",
    "n = 10  # Number of samples per trial\n",
    "num_trials = 3  # Number of trials\n",
    "trial_inputs = Vector{Matrix{Float64}}(undef, num_trials)  # Vector to store data matrices\n",
    "trial_labels = Vector{Vector{Int}}(undef, num_trials)  # Vector to store label vectors\n",
    "trial_outputs = Vector{Matrix{Float64}}(undef, num_trials)\n",
    "\n",
    "for i in 1:num_trials\n",
    "    true_labels, data = SSD.sample(true_model, n=n)  # Generate data and labels\n",
    "    trial_labels[i] = true_labels  # Store labels for the ith trial\n",
    "    trial_inputs[i] = data  # Store data matrix for the ith trial\n",
    "\n",
    "    true_labels, data = SSD.sample(true_model, n=n)  # Generate data and labels\n",
    "    trial_outputs[i] = data  # Store data matrix for the ith trial\n",
    "end"
   ]
  },
  {
   "cell_type": "code",
   "execution_count": 6,
   "metadata": {},
   "outputs": [
    {
     "data": {
      "text/plain": [
       "74-element Vector{Float64}:\n",
       " -Inf\n",
       " -80.02593616709049\n",
       " -53.71576399874769\n",
       " -53.50268023616104\n",
       " -53.157603159417455\n",
       " -52.69831364030862\n",
       " -52.284161756845606\n",
       " -51.99661524077764\n",
       " -51.80185127049626\n",
       " -51.66162220200639\n",
       "   ⋮\n",
       " -48.580042895490145\n",
       " -48.379716384478066\n",
       " -48.330421238078216\n",
       " -48.32261519313336\n",
       " -48.32168500502476\n",
       " -48.32158177837702\n",
       " -48.321569460001385\n",
       " -48.32156773359358\n",
       " -48.32156743805467"
      ]
     },
     "metadata": {},
     "output_type": "display_data"
    }
   ],
   "source": [
    "\"\"\"\n",
    "Generate a multiple trial GaussianHMM Dataset from the fit model\n",
    "\"\"\"\n",
    "model2 =SSD.GaussianHMM(K=2, output_dim=2)\n",
    "ll = SSD.fit!(model2, trial_inputs, trials=true, max_iters=100)"
   ]
  },
  {
   "cell_type": "code",
   "execution_count": 7,
   "metadata": {},
   "outputs": [
    {
     "data": {
      "text/plain": [
       "10-element Vector{Float64}:\n",
       " -Inf\n",
       " -98.00143926441129\n",
       " -74.19960357423763\n",
       " -74.54636202011973\n",
       " -69.15361231393082\n",
       " -63.24368692678478\n",
       " -46.223622363438004\n",
       "  73.31887967204617\n",
       " 102.8519763643304\n",
       " 102.8519763643304"
      ]
     },
     "metadata": {},
     "output_type": "display_data"
    }
   ],
   "source": [
    "model3 = SSD.SwitchingGaussianRegression(K=2, input_dim=2, output_dim=2)\n",
    "ll2 = SSD.fit!(model3, trial_inputs, trial_outputs, trials=true, max_iters=100)"
   ]
  }
 ],
 "metadata": {
  "kernelspec": {
   "display_name": "Julia 1.10.1",
   "language": "julia",
   "name": "julia-1.10"
  },
  "language_info": {
   "file_extension": ".jl",
   "mimetype": "application/julia",
   "name": "julia",
   "version": "1.10.1"
  },
  "orig_nbformat": 4
 },
 "nbformat": 4,
 "nbformat_minor": 2
}
