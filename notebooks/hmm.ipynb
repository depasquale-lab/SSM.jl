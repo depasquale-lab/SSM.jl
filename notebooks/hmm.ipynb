{
 "cells": [
  {
   "cell_type": "code",
   "execution_count": 1,
   "metadata": {},
   "outputs": [
    {
     "name": "stderr",
     "output_type": "stream",
     "text": [
      "\u001b[32m\u001b[1m  Activating\u001b[22m\u001b[39m project at `\\Users\\ryansenne\\Documents\\Github\\SSM`\n"
     ]
    }
   ],
   "source": [
    "using Pkg\n",
    "Pkg.activate(\"/Users/ryansenne/Documents/Github/SSM\")\n",
    "\n",
    "include(\"/Users/ryansenne/Documents/Github/SSM//src/SSM.jl\")\n",
    "# include(\"/home/ryansenne/PycharmProjects/ssm_julia/src/SSM.jl\")\n",
    "using LinearAlgebra\n",
    "using Plots\n",
    "using Distributions\n",
    "using Random\n",
    "using .SSM\n",
    "using StatsBase"
   ]
  },
  {
   "cell_type": "code",
   "execution_count": 2,
   "metadata": {},
   "outputs": [
    {
     "data": {
      "text/plain": [
       "GaussianHMM{GaussianEmission}([0.3630736531110074 0.46347611391430854 0.17345023297468412; 0.36016403943942515 0.6012206650376235 0.038615295522951176; 0.3526976351777686 0.15216815563956368 0.49513420918266776], GaussianEmission[GaussianEmission([-0.09559366950911044, -0.05921829347226094], [0.06908377541266905 -0.019335053180299044; -0.019335053180299044 0.0898819474893171]), GaussianEmission([-1.0041102873930032, 2.003063119889526], [0.1017011095291989 0.0007908684567223624; 0.0007908684567223624 0.09409146349095061]), GaussianEmission([2.5742184683676563, 2.130326367026472], [1.0309149461568967 0.797835536093344; 0.797835536093344 0.7905471104524638])], [0.32041658989302524, 0.4853870103273905, 0.19419639977958428], 3, 2)"
      ]
     },
     "metadata": {},
     "output_type": "display_data"
    }
   ],
   "source": [
    "# generate data from a Gaussian HMM model\n",
    "Random.seed!(1234)\n",
    "\n",
    "A = [0.7 0.2 0.1; 0.1 0.7 0.2; 0.2 0.1 0.7]\n",
    "    means = [[0.0, 0.0], [-1.0, 2.0], [3.0, 2.5]]\n",
    "    covs = [\n",
    "                [0.1 0.0; 0.0 0.1],  # Covariance matrix for state 1\n",
    "                [0.1 0.0; 0.0 0.1],  # Covariance matrix for state 2\n",
    "                [0.1 0.0; 0.0 0.1]   # Covariance matrix for state 3\n",
    "            ]\n",
    "emissions_models = [GaussianEmission(mean, cov) for (mean, cov) in zip(means, covs)]\n",
    "simul_hmm = GaussianHMM(A, emissions_models, [0.33, 0.33, 0.34], 3, 2)\n",
    "states, observations = SSM.sample(simul_hmm, 10000)\n",
    "\n",
    "\n",
    "model = GaussianHMM(observations, 3)\n",
    "# baumWelch!(model, observations, 100)"
   ]
  },
  {
   "cell_type": "code",
   "execution_count": 4,
   "metadata": {},
   "outputs": [
    {
     "data": {
      "text/plain": [
       "3×3×9999 Array{Float64, 3}:\n",
       "[:, :, 1] =\n",
       " -18.1153   -0.00573578  -20.788\n",
       " -49.9552  -31.5774      -54.1222\n",
       " -22.1886   -5.1639      -23.7835\n",
       "\n",
       "[:, :, 2] =\n",
       " -157.289  -101.658   -18.0984\n",
       " -137.697   -81.7967   -1.47884e-8\n",
       " -161.008  -106.461   -20.7392\n",
       "\n",
       "[:, :, 3] =\n",
       " -270.359  -206.053   -137.697\n",
       " -212.964  -148.391    -81.7967\n",
       " -133.74    -70.5192     0.0\n",
       "\n",
       ";;; … \n",
       "\n",
       "[:, :, 9997] =\n",
       "  -0.072292  -20.5265   -4.41383\n",
       " -33.8265    -54.0125  -39.6622\n",
       "  -2.89121   -24.4302   -6.15482\n",
       "\n",
       "[:, :, 9998] =\n",
       "  -0.0197633  -22.5551   -5.23303\n",
       " -20.5078     -42.7748  -27.2152\n",
       "  -4.26813    -27.8882   -8.40347\n",
       "\n",
       "[:, :, 9999] =\n",
       "  -0.0167598  -32.5151   -4.50453\n",
       " -22.5528     -54.7828  -28.5348\n",
       "  -5.22442    -38.8075   -8.63426"
      ]
     },
     "metadata": {},
     "output_type": "display_data"
    }
   ],
   "source": [
    "alpha = SSM.forward(model, observations)\n",
    "beta = SSM.backward(model, observations)\n",
    "xi = SSM.calculate_ξ(model, alpha, beta, observations)"
   ]
  },
  {
   "cell_type": "code",
   "execution_count": 7,
   "metadata": {},
   "outputs": [
    {
     "data": {
      "text/plain": [
       "0.9999999999992296"
      ]
     },
     "metadata": {},
     "output_type": "display_data"
    }
   ],
   "source": [
    "sum(exp.(xi[:, :, 1]))"
   ]
  },
  {
   "cell_type": "code",
   "execution_count": 16,
   "metadata": {},
   "outputs": [
    {
     "data": {
      "text/plain": [
       "\"hmm_observations.csv\""
      ]
     },
     "metadata": {},
     "output_type": "display_data"
    }
   ],
   "source": [
    "using DataFrames\n",
    "using CSV\n",
    "CSV.write(\"hmm_observations.csv\", DataFrame(observations, :auto), writeheader=false)"
   ]
  },
  {
   "cell_type": "code",
   "execution_count": 14,
   "metadata": {},
   "outputs": [
    {
     "name": "stdout",
     "output_type": "stream",
     "text": [
      "-4584.5258332169415\n",
      "-386.3132837521509\n",
      "-370.538737764364\n",
      "-361.912908169515\n",
      "-357.8273503052301\n",
      "-353.49494957458353\n",
      "-350.7938428520957\n",
      "-350.33259560079733\n",
      "-350.3002596397879\n",
      "-350.2990049814304\n",
      "-350.29896245266696\n"
     ]
    }
   ],
   "source": [
    "using CSV\n",
    "using DataFrames\n",
    "\n",
    "# import old faithful data\n",
    "old_faithful = CSV.read(\"/Users/ryansenne/PycharmProjects/NV_States_GLM_HMM/HMM_Bishop/faithful.csv\", DataFrame)\n",
    "\n",
    "# set up a variable for the HMM\n",
    "X = Matrix{Float64}(old_faithful[:, [:waiting, :eruptions]])\n",
    "#  zscore the data\n",
    "X = (X .- mean(X, dims=1)) ./ std(X, dims=1)\n",
    "\n",
    "# Set up initial parameters\n",
    "A = [0.2 0.8; 0.5 0.5];\n",
    "Pi = [0.5, 0.5];\n",
    "\n",
    "U1 = [3, -5];\n",
    "U2 = [-3, -3];\n",
    "Sigma1 = [1 0; 0 1];\n",
    "Sigma2 = [0.5 0; 0 0.5];\n",
    "\n",
    "hmm = SSM.GaussianHMM(A, [GaussianEmission(U1, Sigma1), GaussianEmission(U2, Sigma2)], Pi, 2, 2)\n",
    "# hmm = SSM.GaussianHMM(X, 2)\n",
    "baumWelch!(hmm, X, 11, 1e-3)\n"
   ]
  },
  {
   "cell_type": "code",
   "execution_count": 15,
   "metadata": {},
   "outputs": [
    {
     "data": {
      "text/plain": [
       "2×2 Matrix{Float64}:\n",
       " 0.476748  0.523252\n",
       " 0.938164  0.0618363"
      ]
     },
     "metadata": {},
     "output_type": "display_data"
    }
   ],
   "source": [
    "hmm.A"
   ]
  },
  {
   "cell_type": "code",
   "execution_count": 8,
   "metadata": {},
   "outputs": [
    {
     "data": {
      "text/plain": [
       "-6.546418900933308"
      ]
     },
     "metadata": {},
     "output_type": "display_data"
    }
   ],
   "source": [
    "SSM.loglikelihood(hmm.B[2], X[2, :])"
   ]
  },
  {
   "cell_type": "code",
   "execution_count": 11,
   "metadata": {},
   "outputs": [
    {
     "data": {
      "text/plain": [
       "272×2 adjoint(::Matrix{Float64}) with eltype Float64:\n",
       " -4566.11    -4566.58\n",
       " -4560.09    -4559.34\n",
       " -4541.2     -4541.67\n",
       " -4531.47    -4530.55\n",
       " -4508.6     -4509.07\n",
       " -4498.69    -4497.77\n",
       " -4475.35    -4474.44\n",
       " -4456.98    -4457.45\n",
       " -4451.44    -4450.52\n",
       " -4429.5     -4429.97\n",
       "     ⋮       \n",
       "  -117.004    -117.474\n",
       "  -111.44     -111.909\n",
       "  -102.426    -101.569\n",
       "   -76.7781    -75.8624\n",
       "   -55.3766    -55.8466\n",
       "   -50.2179    -49.3016\n",
       "   -28.5968    -29.0668\n",
       "   -24.3439    -23.5034\n",
       "     0.0         0.0"
      ]
     },
     "metadata": {},
     "output_type": "display_data"
    }
   ],
   "source": [
    "SSM.backward(hmm, X)'"
   ]
  }
 ],
 "metadata": {
  "kernelspec": {
   "display_name": "Julia 1.9.3",
   "language": "julia",
   "name": "julia-1.9"
  },
  "language_info": {
   "file_extension": ".jl",
   "mimetype": "application/julia",
   "name": "julia",
   "version": "1.9.3"
  },
  "orig_nbformat": 4
 },
 "nbformat": 4,
 "nbformat_minor": 2
}
