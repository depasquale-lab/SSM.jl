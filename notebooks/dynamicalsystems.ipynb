{
 "cells": [
  {
   "cell_type": "code",
   "execution_count": 1,
   "metadata": {},
   "outputs": [
    {
     "name": "stderr",
     "output_type": "stream",
     "text": [
      "\u001b[32m\u001b[1m  Activating\u001b[22m\u001b[39m project at `\\Users\\ryansenne\\Documents\\GitHub\\SSM`\n"
     ]
    }
   ],
   "source": [
    "using Pkg\n",
    "Pkg.activate(\"/Users/ryansenne/Documents/GitHub/SSM\")\n",
    "\n",
    "include(\"/Users/ryansenne/Documents/GitHub/SSM//src/SSM.jl\")\n",
    "using .SSM\n",
    "using LinearAlgebra\n",
    "using Random\n",
    "using Distributions\n",
    "using Plots\n",
    "using CSV\n",
    "using DataFrames\n",
    "using BenchmarkTools"
   ]
  },
  {
   "cell_type": "code",
   "execution_count": 2,
   "metadata": {},
   "outputs": [
    {
     "data": {
      "text/plain": [
       "LDS([0.41179258808564956 0.842098078747292; 0.30325630009931337 0.5512992155633235], [0.6119671119594139 0.44456574641721136; 0.21251974451682232 0.41771688590580125], nothing, Bool[1 0; 0 1], Bool[1 0; 0 1], [0.6099357661844094, 0.2980083297278924], [0.7040403535861083 0.4941860904739458; 0.11932455165956479 0.6734136861275365], nothing, 2, 2, Bool[1, 1, 1, 1, 1, 1, 1])"
      ]
     },
     "metadata": {},
     "output_type": "display_data"
    }
   ],
   "source": [
    "a = LDS()"
   ]
  },
  {
   "cell_type": "code",
   "execution_count": 4,
   "metadata": {},
   "outputs": [],
   "source": []
  },
  {
   "cell_type": "code",
   "execution_count": null,
   "metadata": {},
   "outputs": [],
   "source": [
    "# Generate data from a known dynamical system--a pendulum\n",
    "g = 9.81 # gravity\n",
    "l = 1.0 # length of pendulum\n",
    "dt = 0.001 # time step\n",
    "T = 0.004 # total time\n",
    "# Discrete-time dynamics\n",
    "A = [1.0 dt; -g/l*dt 1.0]\n",
    "# Initial state\n",
    "x0 = [0.0; 1.0]\n",
    "# Time vector\n",
    "t = 0:dt:T\n",
    "# Generate data\n",
    "x = zeros(2, length(t))\n",
    "x[:,1] = x0\n",
    "for i = 2:length(t)\n",
    "    x[:,i] = A*x[:,i-1]\n",
    "end\n",
    "\n",
    "# Now lets add noise to the system and see if we can recover the dynamics\n",
    "# Add driving Gaussian noise to simulate observations\n",
    "x_noisy = zeros(2, length(t))\n",
    "x_noisy[:, 1] = x0\n",
    "observation_noise_std = 0.5\n",
    "\n",
    "noise = rand(Normal(0, observation_noise_std), (2, length(t)))\n",
    "\n",
    "for i in 2:length(t)\n",
    "    x_noisy[:, i] = A * x[:, i-1] + noise[:, i]\n",
    "end\n",
    "\n",
    "# Define the LDS model parameters\n",
    "H = I(2)  # Observation matrix (assuming direct observation)\n",
    "Q = 1e-8 * I(2)  # Process noise covariance\n",
    "R = 0.25 * I(2)  # Observation noise covariance\n",
    "P0 = 1e-2 * I(2)  # Initial state covariance\n",
    "x0 = [0.0; 1.0]  # Initial state mean\n",
    "\n",
    "# Create the Kalman filter parameter vector\n",
    "kf = LDS(A, Matrix{Float64}(H), nothing, Matrix{Float64}(Q), Matrix{Float64}(R), x0, Matrix{Float64}(P0), nothing, 2, 2, ector([true, true, false, true, true, true, true, false]))\n",
    "\n",
    "# Run the Kalman filter\n",
    "x_filt, p_filt, x_pred, p_pred, v, F, K, ll = KalmanFilter(kf, Matrix{Float64}(x_noisy'))\n",
    "# Run the smoother\n",
    "x_smooth, P_smooth = KalmanSmoother(kf, Matrix{Float64}(x_noisy'))"
   ]
  },
  {
   "cell_type": "code",
   "execution_count": 9,
   "metadata": {},
   "outputs": [
    {
     "ename": "UndefVarError",
     "evalue": "UndefVarError: `kf` not defined",
     "output_type": "error",
     "traceback": [
      "UndefVarError: `kf` not defined\n",
      "\n",
      "Stacktrace:\n",
      " [1] top-level scope\n",
      "   @ c:\\Users\\ryansenne\\Documents\\GitHub\\SSM\\notebooks\\dynamicalsystems.ipynb:4"
     ]
    }
   ],
   "source": [
    "# calculate the predictions of X\n",
    "using Profile\n",
    "x_prediction = zeros(length(t), 2)\n",
    "x_prediction[1, :] = kf.x0\n",
    "for t in 2:length(t)\n",
    "    x_prediction[t, :] = kf.A * x_prediction[t-1, :]\n",
    "end\n",
    "\n",
    "@profile x_new = SSM.newton_raphson_tridg!(kf, x_prediction, x_noisy', 10, 1e-3)"
   ]
  },
  {
   "cell_type": "code",
   "execution_count": 13,
   "metadata": {},
   "outputs": [
    {
     "ename": "UndefVarError",
     "evalue": "UndefVarError: `x_new` not defined",
     "output_type": "error",
     "traceback": [
      "UndefVarError: `x_new` not defined\n",
      "\n",
      "Stacktrace:\n",
      " [1] top-level scope\n",
      "   @ c:\\Users\\ryansenne\\Documents\\GitHub\\SSM\\notebooks\\dynamicalsystems.ipynb:3"
     ]
    }
   ],
   "source": [
    "using ForwardDiff\n",
    "# H = ForwardDiff.hessian(x -> SSM.loglikelihood(x', kf, x_noisy[1:2, 1:100]'), x_prediction')\n",
    "G = ForwardDiff.gradient(x -> SSM.loglikelihood(x', kf, x_noisy'), x_new')\n",
    "G = reshape(G, 10, 1)"
   ]
  },
  {
   "cell_type": "code",
   "execution_count": 2,
   "metadata": {},
   "outputs": [
    {
     "name": "stdout",
     "output_type": "stream",
     "text": [
      "Marginal Log-likelihood at iteration 1: -27.713550116060578\n",
      "Marginal Log-likelihood at iteration 2: -27.399564064097635\n",
      "Marginal Log-likelihood at iteration 3: -27.275589744438086\n",
      "Marginal Log-likelihood at iteration 4: -27.20863681213365\n",
      "Marginal Log-likelihood at iteration 5: -27.16662624742429\n",
      "Marginal Log-likelihood at iteration 6: -27.137783789697696\n",
      "Marginal Log-likelihood at iteration 7: -27.11674851080136\n",
      "Marginal Log-likelihood at iteration 8: -27.10072492432724\n",
      "Marginal Log-likelihood at iteration 9: -27.088111031961734\n",
      "Marginal Log-likelihood at iteration 10: -27.077922363260722\n",
      "Marginal Log-likelihood at iteration 11: -27.069520397871873\n",
      "Marginal Log-likelihood at iteration 12: -27.06247279683532\n",
      "Marginal Log-likelihood at iteration 13: -27.056476360314416\n",
      "Marginal Log-likelihood at iteration 14: -27.05131214201339\n",
      "Marginal Log-likelihood at iteration 15: -27.046818074535015\n",
      "Marginal Log-likelihood at iteration 16: -27.042871619833463\n",
      "Marginal Log-likelihood at iteration 17: -27.039378406731114\n",
      "Marginal Log-likelihood at iteration 18: -27.036264575619835\n",
      "Marginal Log-likelihood at iteration 19: -27.03347149169927\n",
      "Marginal Log-likelihood at iteration 20: -27.030952013548358\n",
      "Marginal Log-likelihood at iteration 21: -27.02866780805358\n",
      "Marginal Log-likelihood at iteration 22: -27.02658738460219\n",
      "Marginal Log-likelihood at iteration 23: -27.02468463332717\n",
      "Marginal Log-likelihood at iteration 24: -27.02293772277811\n",
      "Marginal Log-likelihood at iteration 25: -27.021328257955997\n",
      "Marginal Log-likelihood at iteration 26: -27.019840629674654\n",
      "Marginal Log-likelihood at iteration 27: -27.01846150637133\n",
      "Marginal Log-likelihood at iteration 28: -27.017179433258104\n",
      "Marginal Log-likelihood at iteration 29: -27.015984513259557\n",
      "Marginal Log-likelihood at iteration 30: -27.01486815090691\n",
      "Marginal Log-likelihood at iteration 31: -27.013822845156014\n",
      "Marginal Log-likelihood at iteration 32: -27.01284202056123\n",
      "Marginal Log-likelihood at iteration 33: -27.01191988876809\n",
      "Marginal Log-likelihood at iteration 34: -27.011051334156704\n",
      "Marginal Log-likelihood at iteration 35: -27.010231818861296\n",
      "Marginal Log-likelihood at iteration 36: -27.009457303440865\n",
      "Marginal Log-likelihood at iteration 37: -27.00872418027204\n",
      "Marginal Log-likelihood at iteration 38: -27.00802921734593\n",
      "Marginal Log-likelihood at iteration 39: -27.00736951062077\n",
      "Marginal Log-likelihood at iteration 40: -27.006742443448566\n",
      "Marginal Log-likelihood at iteration 41: -27.006145651879812\n",
      "Marginal Log-likelihood at iteration 42: -27.005576994876257\n",
      "Marginal Log-likelihood at iteration 43: -27.005034528640223\n",
      "Marginal Log-likelihood at iteration 44: -27.004516484411816\n",
      "Marginal Log-likelihood at iteration 45: -27.004021249199276\n",
      "Marginal Log-likelihood at iteration 46: -27.003547349000325\n",
      "Marginal Log-likelihood at iteration 47: -27.003093434146574\n",
      "Marginal Log-likelihood at iteration 48: -27.002658266464184\n",
      "Marginal Log-likelihood at iteration 49: -27.002240707993323\n",
      "Marginal Log-likelihood at iteration 50: -27.001839711050188\n",
      "Marginal Log-likelihood at iteration 51: -27.001454309448583\n",
      "Marginal Log-likelihood at iteration 52: -27.001083610726443\n",
      "Marginal Log-likelihood at iteration 53: -27.000726789245387\n",
      "Marginal Log-likelihood at iteration 54: -27.000383080051115\n",
      "Marginal Log-likelihood at iteration 55: -27.000051773398553\n",
      "Marginal Log-likelihood at iteration 56: -26.999732209859207\n",
      "Marginal Log-likelihood at iteration 57: -26.999423775939736\n",
      "Marginal Log-likelihood at iteration 58: -26.999125900150645\n",
      "Marginal Log-likelihood at iteration 59: -26.99883804947177\n",
      "Marginal Log-likelihood at iteration 60: -26.998559726168946\n",
      "Marginal Log-likelihood at iteration 61: -26.99829046492148\n",
      "Marginal Log-likelihood at iteration 62: -26.998029830225878\n",
      "Marginal Log-likelihood at iteration 63: -26.997777414045117\n",
      "Marginal Log-likelihood at iteration 64: -26.997532833676868\n",
      "Marginal Log-likelihood at iteration 65: -26.997295729817257\n",
      "Marginal Log-likelihood at iteration 66: -26.997065764799544\n",
      "Marginal Log-likelihood at iteration 67: -26.99684262098948\n",
      "Marginal Log-likelihood at iteration 68: -26.996625999321463\n",
      "Marginal Log-likelihood at iteration 69: -26.996415617961155\n",
      "Marginal Log-likelihood at iteration 70: -26.996211211082073\n",
      "Marginal Log-likelihood at iteration 71: -26.996012527744934\n",
      "Marginal Log-likelihood at iteration 72: -26.995819330869896\n",
      "Marginal Log-likelihood at iteration 73: -26.995631396292698\n",
      "Marginal Log-likelihood at iteration 74: -26.995448511896967\n",
      "Marginal Log-likelihood at iteration 75: -26.995270476815573\n",
      "Marginal Log-likelihood at iteration 76: -26.995097100694586\n",
      "Marginal Log-likelihood at iteration 77: -26.994928203014364\n",
      "Marginal Log-likelihood at iteration 78: -26.99476361246255\n",
      "Marginal Log-likelihood at iteration 79: -26.99460316635445\n",
      "Marginal Log-likelihood at iteration 80: -26.994446710096614\n",
      "Marginal Log-likelihood at iteration 81: -26.994294096690027\n",
      "Marginal Log-likelihood at iteration 82: -26.994145186269368\n",
      "Marginal Log-likelihood at iteration 83: -26.99399984567546\n",
      "Marginal Log-likelihood at iteration 84: -26.993857948058128\n",
      "Marginal Log-likelihood at iteration 85: -26.993719372506906\n",
      "Marginal Log-likelihood at iteration 86: -26.993584003707383\n",
      "Marginal Log-likelihood at iteration 87: -26.993451731621178\n",
      "Marginal Log-likelihood at iteration 88: -26.993322451187606\n",
      "Marginal Log-likelihood at iteration 89: -26.993196062045328\n",
      "Marginal Log-likelihood at iteration 90: -26.993072468272523\n",
      "Marginal Log-likelihood at iteration 91: -26.992951578144098\n",
      "Marginal Log-likelihood at iteration 92: -26.992833303904646\n",
      "Marginal Log-likelihood at iteration 93: -26.992717561555978\n",
      "Marginal Log-likelihood at iteration 94: -26.99260427065819\n",
      "Marginal Log-likelihood at iteration 95: -26.992493354143207\n",
      "Marginal Log-likelihood at iteration 96: -26.99238473813994\n",
      "Marginal Log-likelihood at iteration 97: -26.99227835181023\n",
      "Marginal Log-likelihood at iteration 98: -26.99217412719475\n",
      "Marginal Log-likelihood at iteration 99: -26.99207199906823\n",
      "Marginal Log-likelihood at iteration 100: -26.99197190480337\n"
     ]
    },
    {
     "data": {
      "text/plain": [
       "(LDS([0.1 0.2; 0.3 0.4], [1.0 0.0; 0.0 1.0], nothing, [1 0; 0 1], [1 0; 0 1], [0.0, 1.0], [0.009448495450195707 -0.0006339479777389345; -0.0006339479777389345 0.008993139891144475], nothing, 2, 2, Bool[0, 1, 0, 0, 0, 0]), -26.99197190480337)"
      ]
     },
     "metadata": {},
     "output_type": "display_data"
    }
   ],
   "source": [
    "# need to use previously aquired pendulum data for comparison\n",
    "pendulum_data = CSV.read(\"/Users/ryansenne/Documents/GitHub/SSM/notebooks/pendulum_data_1.csv\", DataFrame)\n",
    "\n",
    "# convert x_noisy columns to matrix for use \n",
    "x_noisy =  Matrix(pendulum_data[1:10, 3:4])\n",
    "\n",
    "# now create a Kalman Filter where we want to learn the parameters\n",
    "A = [0.1 0.2; 0.3 0.4]\n",
    "H = [1 0.0; 0.0 1]\n",
    "Q = 1 * I(2)\n",
    "R = 1 * I(2)\n",
    "p0 = 1 * I(2)\n",
    "x0 = [0.0, 1.0]\n",
    "\n",
    "# kf = LDS(A, Matrix{Float64}(H), nothing, Matrix{Float64}(Q), Matrix{Float64}(R), x0, Matrix{Float64}(P0), nothing, 2, 2, \"Gaussian\", Vector([true, true, false, true, true, true, true, false]))\n",
    "kf_unknown = LDS(A, H, nothing, Q, R, x0, p0, nothing, 2, 2, [false, true, false, false, false, false])\n",
    "# SSM.pca_init!(kf_unknown, x_noisy)\n",
    "\n",
    "SSM.KalmanFilterEM!(kf_unknown, Matrix{Float64}(x_noisy), 100)"
   ]
  },
  {
   "cell_type": "code",
   "execution_count": null,
   "metadata": {},
   "outputs": [],
   "source": []
  },
  {
   "cell_type": "code",
   "execution_count": 5,
   "metadata": {},
   "outputs": [
    {
     "data": {
      "text/plain": [
       "([0.0 1.0; -0.458287172375825 0.5995594095642571; … ; -0.09094307393255335 0.594385340364292; -0.37264009014140687 0.38082636629703775], [0.5 0.0; 0.5058254459198622 0.012790400223250658; … ; 0.5062251504689818 0.013660099057141897; 0.506225150470281 0.013660099059975127;;; 0.0 0.5; 0.012790400223250687 0.5290807190530454; … ; 0.0136600990571419 0.5309733916813013; 0.013660099059975034 0.5309733916874813], [0.0 1.0; 0.2 0.4; … ; 0.07064245724862356 0.13603935235103218; 0.10978276067960308 0.21047121396595084], [1.0 0.0; 1.025 0.05500000000000001; … ; 1.0268475911281922 0.0590306357410916; 1.0268475911342276 0.059030635754287755;;; 0.0 1.0; 0.05500000000000001 1.125; … ; 0.0590306357410916 1.1337944299560774; 0.059030635754287755 1.1337944299849307], [0.0 0.0; -1.3117510767744314 0.4088926756141953; … ; -0.3427281781762949 0.8720355786768652; -0.9623063499821132 0.34559236916694647], [2.0 0.0; 2.025 0.05500000000000001; … ; 2.0268475911281922 0.0590306357410916; 2.026847591134228 0.059030635754287755;;; 0.0 2.0; 0.05500000000000001 2.125; … ; 0.0590306357410916 2.1337944299560774; 0.059030635754287755 2.1337944299849307], [0.5 0.0; 0.5058254459198623 0.012790400223250602; … ; 0.5062251504689823 0.01366009905714206; 0.5062251504702807 0.013660099059974938;;; 0.0 0.5; 0.012790400223250566 0.5290807190530451; … ; 0.01366009905714205 0.5309733916813019; 0.013660099059975023 0.5309733916874807], -2.128588154444403, -27.713550116060578)"
      ]
     },
     "metadata": {},
     "output_type": "display_data"
    }
   ],
   "source": [
    "x_filt, p_filt, x_pred, p_pred, v, S, K, ll, ml = SSM.KalmanFilter(kf_unknown, Matrix{Float64}(x_noisy))"
   ]
  },
  {
   "cell_type": "code",
   "execution_count": 7,
   "metadata": {},
   "outputs": [
    {
     "data": {
      "text/plain": [
       "-27.713550116060578"
      ]
     },
     "metadata": {},
     "output_type": "display_data"
    }
   ],
   "source": [
    "ml"
   ]
  },
  {
   "cell_type": "code",
   "execution_count": 4,
   "metadata": {},
   "outputs": [
    {
     "data": {
      "text/plain": [
       "-2.058166703974784"
      ]
     },
     "metadata": {},
     "output_type": "display_data"
    }
   ],
   "source": [
    "ll = SSM.loglikelihood(x_filt, kf_unknown, x_noisy)"
   ]
  },
  {
   "cell_type": "code",
   "execution_count": 28,
   "metadata": {},
   "outputs": [
    {
     "name": "stdout",
     "output_type": "stream",
     "text": [
      "4.0\n",
      "1.1077890013538432\n",
      "0.9760529538224801\n",
      "0.9398591439616736\n",
      "0.9280005251778541\n",
      "0.9239155790544029\n",
      "0.9224841152765938\n",
      "0.9219794969436195\n",
      "0.9218012357723678\n",
      "0.9217382166871365\n"
     ]
    }
   ],
   "source": [
    "for i in 1:10\n",
    "    z = ((kf_unknown.H * p_pred[i, :, :] * kf_unknown.H') + kf_unknown.R)\n",
    "    println(det(z))\n",
    "end"
   ]
  },
  {
   "cell_type": "code",
   "execution_count": 21,
   "metadata": {},
   "outputs": [
    {
     "data": {
      "text/plain": [
       "2×2 Matrix{Float64}:\n",
       " -0.0555903  -0.072028\n",
       " -0.072028   -0.0128714"
      ]
     },
     "metadata": {},
     "output_type": "display_data"
    }
   ],
   "source": [
    "p_filt[4, :, :]"
   ]
  },
  {
   "cell_type": "code",
   "execution_count": 3,
   "metadata": {},
   "outputs": [
    {
     "data": {
      "text/plain": [
       "2×2 Matrix{Float64}:\n",
       "  0.300558  -0.170841\n",
       " -0.170841   0.387198"
      ]
     },
     "metadata": {},
     "output_type": "display_data"
    }
   ],
   "source": [
    "kf_unknown.R"
   ]
  }
 ],
 "metadata": {
  "kernelspec": {
   "display_name": "Julia 1.9.3",
   "language": "julia",
   "name": "julia-1.9"
  },
  "language_info": {
   "file_extension": ".jl",
   "mimetype": "application/julia",
   "name": "julia",
   "version": "1.9.3"
  }
 },
 "nbformat": 4,
 "nbformat_minor": 2
}
