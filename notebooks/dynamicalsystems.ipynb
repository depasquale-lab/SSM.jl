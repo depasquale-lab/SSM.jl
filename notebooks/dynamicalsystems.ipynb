{
 "cells": [
  {
   "cell_type": "code",
   "execution_count": 1,
   "metadata": {},
   "outputs": [
    {
     "name": "stderr",
     "output_type": "stream",
     "text": [
      "\u001b[32m\u001b[1m  Activating\u001b[22m\u001b[39m project at `\\Users\\ryansenne\\Documents\\GitHub\\SSM`"
     ]
    },
    {
     "name": "stderr",
     "output_type": "stream",
     "text": [
      "\n"
     ]
    }
   ],
   "source": [
    "using Pkg\n",
    "Pkg.activate(\"/Users/ryansenne/Documents/GitHub/SSM\")\n",
    "\n",
    "include(\"/Users/ryansenne/Documents/GitHub/SSM//src/SSM.jl\")\n",
    "using .SSM\n",
    "using LinearAlgebra\n",
    "using Random\n",
    "using Distributions\n",
    "using Plots\n",
    "using CSV\n",
    "using DataFrames\n",
    "using BenchmarkTools"
   ]
  },
  {
   "cell_type": "code",
   "execution_count": null,
   "metadata": {},
   "outputs": [],
   "source": [
    "# Generate data from a known dynamical system--a pendulum\n",
    "g = 9.81 # gravity\n",
    "l = 1.0 # length of pendulum\n",
    "dt = 0.001 # time step\n",
    "T = 0.004 # total time\n",
    "# Discrete-time dynamics\n",
    "A = [1.0 dt; -g/l*dt 1.0]\n",
    "# Initial state\n",
    "x0 = [0.0; 1.0]\n",
    "# Time vector\n",
    "t = 0:dt:T\n",
    "# Generate data\n",
    "x = zeros(2, length(t))\n",
    "x[:,1] = x0\n",
    "for i = 2:length(t)\n",
    "    x[:,i] = A*x[:,i-1]\n",
    "end\n",
    "\n",
    "# Now lets add noise to the system and see if we can recover the dynamics\n",
    "# Add driving Gaussian noise to simulate observations\n",
    "x_noisy = zeros(2, length(t))\n",
    "x_noisy[:, 1] = x0\n",
    "observation_noise_std = 0.5\n",
    "\n",
    "noise = rand(Normal(0, observation_noise_std), (2, length(t)))\n",
    "\n",
    "for i in 2:length(t)\n",
    "    x_noisy[:, i] = A * x[:, i-1] + noise[:, i]\n",
    "end\n",
    "\n",
    "# Define the LDS model parameters\n",
    "H = I(2)  # Observation matrix (assuming direct observation)\n",
    "Q = 1e-8 * I(2)  # Process noise covariance\n",
    "R = 0.25 * I(2)  # Observation noise covariance\n",
    "P0 = 1e-2 * I(2)  # Initial state covariance\n",
    "x0 = [0.0; 1.0]  # Initial state mean\n",
    "\n",
    "# Create the Kalman filter parameter vector\n",
    "kf = LDS(A, Matrix{Float64}(H), nothing, Matrix{Float64}(Q), Matrix{Float64}(R), x0, Matrix{Float64}(P0), nothing, 2, 2, ector([true, true, false, true, true, true, true, false]))\n",
    "\n",
    "# Run the Kalman filter\n",
    "x_filt, p_filt, x_pred, p_pred, v, F, K, ll = KalmanFilter(kf, Matrix{Float64}(x_noisy'))\n",
    "# Run the smoother\n",
    "x_smooth, P_smooth = KalmanSmoother(kf, Matrix{Float64}(x_noisy'))"
   ]
  },
  {
   "cell_type": "code",
   "execution_count": 9,
   "metadata": {},
   "outputs": [
    {
     "ename": "UndefVarError",
     "evalue": "UndefVarError: `kf` not defined",
     "output_type": "error",
     "traceback": [
      "UndefVarError: `kf` not defined\n",
      "\n",
      "Stacktrace:\n",
      " [1] top-level scope\n",
      "   @ c:\\Users\\ryansenne\\Documents\\GitHub\\SSM\\notebooks\\dynamicalsystems.ipynb:4"
     ]
    }
   ],
   "source": [
    "# calculate the predictions of X\n",
    "using Profile\n",
    "x_prediction = zeros(length(t), 2)\n",
    "x_prediction[1, :] = kf.x0\n",
    "for t in 2:length(t)\n",
    "    x_prediction[t, :] = kf.A * x_prediction[t-1, :]\n",
    "end\n",
    "\n",
    "@profile x_new = SSM.newton_raphson_tridg!(kf, x_prediction, x_noisy', 10, 1e-3)"
   ]
  },
  {
   "cell_type": "code",
   "execution_count": 13,
   "metadata": {},
   "outputs": [
    {
     "ename": "UndefVarError",
     "evalue": "UndefVarError: `x_new` not defined",
     "output_type": "error",
     "traceback": [
      "UndefVarError: `x_new` not defined\n",
      "\n",
      "Stacktrace:\n",
      " [1] top-level scope\n",
      "   @ c:\\Users\\ryansenne\\Documents\\GitHub\\SSM\\notebooks\\dynamicalsystems.ipynb:3"
     ]
    }
   ],
   "source": [
    "using ForwardDiff\n",
    "# H = ForwardDiff.hessian(x -> SSM.loglikelihood(x', kf, x_noisy[1:2, 1:100]'), x_prediction')\n",
    "G = ForwardDiff.gradient(x -> SSM.loglikelihood(x', kf, x_noisy'), x_new')\n",
    "G = reshape(G, 10, 1)"
   ]
  },
  {
   "cell_type": "code",
   "execution_count": 3,
   "metadata": {},
   "outputs": [
    {
     "name": "stdout",
     "output_type": "stream",
     "text": [
      "Log-likelihood at iteration 1: -18.52416478401385\n",
      "Log-likelihood at iteration 2: -8.19497836514248\n",
      "Log-likelihood at iteration 3: -6.176857584849762\n",
      "Log-likelihood at iteration 4: -4.58278965181124\n",
      "Log-likelihood at iteration 5: -3.551206312693214\n",
      "Log-likelihood at iteration 6: -2.926615373182244\n",
      "Log-likelihood at iteration 7: -2.536716907196628\n",
      "Log-likelihood at iteration 8: -2.2734743110956552\n",
      "Log-likelihood at iteration 9: -2.0807815795973506\n",
      "Log-likelihood at iteration 10: -1.9308942394226316\n",
      "Log-likelihood at iteration 11: -1.8096566052906937\n",
      "Log-likelihood at iteration 12: -1.7092011456132208\n",
      "Log-likelihood at iteration 13: -1.6246400726833459\n",
      "Log-likelihood at iteration 14: -1.552621178739051\n",
      "Log-likelihood at iteration 15: -1.490687941005494\n",
      "Log-likelihood at iteration 16: -1.436970194145072\n",
      "Log-likelihood at iteration 17: -1.3900126314579275\n",
      "Log-likelihood at iteration 18: -1.3486666845015916\n",
      "Log-likelihood at iteration 19: -1.3120162841336418\n",
      "Log-likelihood at iteration 20: -1.2793243867576192\n",
      "Log-likelihood at iteration 21: -1.2499934015647316\n",
      "Log-likelihood at iteration 22: -1.2235353906698263\n",
      "Log-likelihood at iteration 23: -1.1995493357602993\n",
      "Log-likelihood at iteration 24: -1.177703610645751\n",
      "Log-likelihood at iteration 25: -1.1577223443163567\n",
      "Log-likelihood at iteration 26: -1.139374726450573\n",
      "Log-likelihood at iteration 27: -1.122466561526835\n",
      "Log-likelihood at iteration 28: -1.1068335570538472\n",
      "Log-likelihood at iteration 29: -1.092335959993609\n"
     ]
    },
    {
     "name": "stdout",
     "output_type": "stream",
     "text": [
      "Log-likelihood at iteration 30: -1.0788542488785429\n",
      "Log-likelihood at iteration 31: -1.0662856578660231\n",
      "Log-likelihood at iteration 32: -1.0545413601263152\n",
      "Log-likelihood at iteration 33: -1.0435441764190334\n",
      "Log-likelihood at iteration 34: -1.0332267039026977\n",
      "Log-likelihood at iteration 35: -1.023529782568204\n",
      "Log-likelihood at iteration 36: -1.0144012339294317\n",
      "Log-likelihood at iteration 37: -1.0057948200028524\n",
      "Log-likelihood at iteration 38: -0.997669381087321\n",
      "Log-likelihood at iteration 39: -0.9899881190977741\n",
      "Log-likelihood at iteration 40: -0.9827179997228972\n",
      "Log-likelihood at iteration 41: -0.9758292518521738\n",
      "Log-likelihood at iteration 42: -0.9692949468435331\n",
      "Log-likelihood at iteration 43: -0.9630906435044718\n",
      "Log-likelihood at iteration 44: -0.9571940873088075\n",
      "Log-likelihood at iteration 45: -0.9515849545033669\n",
      "Log-likelihood at iteration 46: -0.9462446334789757\n",
      "Log-likelihood at iteration 47: -0.9411560371704468\n",
      "Log-likelihood at iteration 48: -0.9363034413764818\n",
      "Log-likelihood at iteration 49: -0.9316723448042732\n",
      "Log-likelihood at iteration 50: -0.9272493473863705\n",
      "Log-likelihood at iteration 51: -0.9230220440221939\n",
      "Log-likelihood at iteration 52: -0.9189789313896559\n",
      "Log-likelihood at iteration 53: -0.9151093258750652\n",
      "Log-likelihood at iteration 54: -0.9114032909991233\n",
      "Log-likelihood at iteration 55: -0.9078515729866012\n",
      "Log-likelihood at iteration 56: -0.9044455433491347\n",
      "Log-likelihood at iteration 57: -0.9011771475326944\n",
      "Log-likelihood at iteration 58: -0.8980388588316512\n",
      "Log-likelihood at iteration 59: -0.8950236368953476\n",
      "Log-likelihood at iteration 60: -0.8921248902557355\n",
      "Log-likelihood at iteration 61: -0.8893364423900052\n",
      "Log-likelihood at iteration 62: -0.8866525009029327\n",
      "Log-likelihood at iteration 63: -0.8840676294728599\n",
      "Log-likelihood at iteration 64: -0.8815767222547399\n",
      "Log-likelihood at iteration 65: -0.8791749804752905\n",
      "Log-likelihood at iteration 66: -0.8768578909902183\n",
      "Log-likelihood at iteration 67: -0.8746212066031882\n",
      "Log-likelihood at iteration 68: -0.8724609279711558\n",
      "Log-likelihood at iteration 69: -0.8703732869422922\n",
      "Log-likelihood at iteration 70: -0.8683547311907147\n",
      "Log-likelihood at iteration 71: -0.8664019100280695\n",
      "Log-likelihood at iteration 72: -0.8645116612856335\n",
      "Log-likelihood at iteration 73: -0.8626809991718088\n",
      "Log-likelihood at iteration 74: -0.8609071030206223\n",
      "Log-likelihood at iteration 75: "
     ]
    },
    {
     "name": "stdout",
     "output_type": "stream",
     "text": [
      "-0.8591873068551975\n",
      "Log-likelihood at iteration 76: -0.8575190896979759\n",
      "Log-likelihood at iteration 77: -0.8559000665664526\n",
      "Log-likelihood at iteration 78: -0.854327980098869\n",
      "Log-likelihood at iteration 79: -0.8528006927596395\n",
      "Log-likelihood at iteration 80: -0.8513161795791788\n",
      "Log-likelihood at iteration 81: -0.8498725213866228\n",
      "Log-likelihood at iteration 82: -0.8484678984977493\n",
      "Log-likelihood at iteration 83: -0.8471005848239849\n",
      "Log-likelihood at iteration 84: -0.845768942370819\n",
      "Log-likelihood at iteration 85: -0.8444714160971692\n",
      "Log-likelihood at iteration 86: -0.84320652910926\n",
      "Log-likelihood at iteration 87: -0.8419728781648115\n",
      "Log-likelihood at iteration 88: -0.8407691294656646\n",
      "Log-likelihood at iteration 89: -0.8395940147181101\n",
      "Log-likelihood at iteration 90: -0.8384463274423334\n",
      "Log-likelihood at iteration 91: -0.8373249195137009\n",
      "Log-likelihood at iteration 92: -0.8362286979198557\n",
      "Log-likelihood at iteration 93: -0.835156621718882\n",
      "Log-likelihood at iteration 94: -0.8341076991850558\n",
      "Log-likelihood at iteration 95: -0.8330809851293897\n",
      "Log-likelihood at iteration 96: -0.8320755783835764\n",
      "Log-likelihood at iteration 97: -0.8310906194362674\n",
      "Log-likelihood at iteration 98: -0.8301252882119039\n",
      "Log-likelihood at iteration 99: -0.8291788019827386\n",
      "Log-likelihood at iteration 100: -0.8282504134054396\n"
     ]
    },
    {
     "data": {
      "text/plain": [
       "(LDS([-0.0071167124470350035 -0.03494928974252329; 0.05097519773929564 0.9852158737691314], [0.004188002858171138 -0.1691203704740746; 0.03222372521369811 0.5626550385423239], nothing, [0.5206899860293644 -0.026369212673853275; -0.026369212673853275 0.0043013779045373785], [0.2845173964416663 0.05839691137905212; 0.05839691137905212 0.13085478563920255], [0.0, 1.0], [1 0; 0 1], nothing, 2, 2, Bool[0, 0, 1, 1, 1, 1]), -0.8282504134054396)"
      ]
     },
     "metadata": {},
     "output_type": "display_data"
    }
   ],
   "source": [
    "# need to use previously aquired pendulum data for comparison\n",
    "pendulum_data = CSV.read(\"/Users/ryansenne/Documents/GitHub/SSM/notebooks/pendulum_data_1.csv\", DataFrame)\n",
    "\n",
    "# convert x_noisy columns to matrix for use \n",
    "x_noisy =  Matrix(pendulum_data[1:10, 3:4])\n",
    "\n",
    "# now create a Kalman Filter where we want to learn the parameters\n",
    "A = [0.1 0.2; 0.3 0.4]\n",
    "H = [1 0.0; 0.0 1]\n",
    "Q = 1 * I(2)\n",
    "R = 1 * I(2)\n",
    "p0 = 1 * I(2)\n",
    "x0 = [0.0, 1.0]\n",
    "\n",
    "# kf = LDS(A, Matrix{Float64}(H), nothing, Matrix{Float64}(Q), Matrix{Float64}(R), x0, Matrix{Float64}(P0), nothing, 2, 2, \"Gaussian\", Vector([true, true, false, true, true, true, true, false]))\n",
    "kf_unknown = LDS(A, H, nothing, Q, R, x0, p0, nothing, 2, 2, [true, true, true, true, true, true])\n",
    "# SSM.pca_init!(kf_unknown, x_noisy)\n",
    "\n",
    "SSM.KalmanFilterEM!(kf_unknown, Matrix{Float64}(x_noisy), 100)"
   ]
  },
  {
   "cell_type": "code",
   "execution_count": 15,
   "metadata": {},
   "outputs": [
    {
     "data": {
      "text/plain": [
       "([0.0 1.0; 0.22566239984008948 0.45610640028696026; … ; -0.08326931777853783 -0.04415219514174039; -0.015233336622534323 0.0071783586296058285], [0.5 0.0; -0.02159198891631108 -0.006507611970760366; … ; -0.06016781257525112 -0.0807295298198789; -0.060184103980500656 -0.08076049549473423;;; 0.0 0.5; -0.006507611970760364 0.1163386778832134; … ; -0.0807295298198789 -0.02941233463191853; -0.08076049549473423 -0.029471192232264215], [0.0 1.0; 0.2 0.4; … ; -0.01461213073443553 -0.034279829983049084; -0.01715737080620186 -0.042641673390257505], [1.0 0.0; -0.02108970643722805 -0.007209060966286943; … ; -0.05108643781697929 -0.07441658035128658; -0.05109705914105246 -0.07444003509608585;;; 0.0 1.0; -0.007209060966286943 0.1317083691926869; … ; -0.07441658035128658 -0.0227360002420455; -0.07444003509608585 -0.0227877946369636], [0.0 0.0; -1.3117510767744314 0.4088926756141953; … ; -0.25747359019323585 1.0423547610109465; -0.8353662184963082 0.5987052565231548], [2.0 0.0; 0.9789102935627719 -0.007209060966286943; … ; 0.9489135621830207 -0.07441658035128658; 0.9489029408589476 -0.07444003509608585;;; 0.0 2.0; -0.007209060966286943 1.1317083691926868; … ; -0.07441658035128658 0.9772639997579545; -0.07444003509608585 0.9772122053630364], [0.5 0.0; -0.02159198891631108 -0.006507611970760366; … ; -0.060167812575251126 -0.0807295298198789; -0.06018410398050069 -0.08076049549473426;;; 0.0 0.5; -0.006507611970760367 0.11633867788321342; … ; -0.08072952981987888 -0.02941233463191852; -0.08076049549473423 -0.029471192232264222], -14.661677054541968)"
      ]
     },
     "metadata": {},
     "output_type": "display_data"
    }
   ],
   "source": [
    "x_filt, p_filt, x_pred, p_pred, v, S, K, ll =SSM.KalmanFilter(kf_unknown, Matrix{Float64}(x_noisy))"
   ]
  },
  {
   "cell_type": "code",
   "execution_count": 28,
   "metadata": {},
   "outputs": [
    {
     "name": "stdout",
     "output_type": "stream",
     "text": [
      "4.0\n",
      "1.1077890013538432\n",
      "0.9760529538224801\n",
      "0.9398591439616736\n",
      "0.9280005251778541\n",
      "0.9239155790544029\n",
      "0.9224841152765938\n",
      "0.9219794969436195\n",
      "0.9218012357723678\n",
      "0.9217382166871365\n"
     ]
    }
   ],
   "source": [
    "for i in 1:10\n",
    "    z = ((kf_unknown.H * p_pred[i, :, :] * kf_unknown.H') + kf_unknown.R)\n",
    "    println(det(z))\n",
    "end"
   ]
  },
  {
   "cell_type": "code",
   "execution_count": 21,
   "metadata": {},
   "outputs": [
    {
     "data": {
      "text/plain": [
       "2×2 Matrix{Float64}:\n",
       " -0.0555903  -0.072028\n",
       " -0.072028   -0.0128714"
      ]
     },
     "metadata": {},
     "output_type": "display_data"
    }
   ],
   "source": [
    "p_filt[4, :, :]"
   ]
  },
  {
   "cell_type": "code",
   "execution_count": 3,
   "metadata": {},
   "outputs": [
    {
     "data": {
      "text/plain": [
       "2×2 Matrix{Float64}:\n",
       "  0.300558  -0.170841\n",
       " -0.170841   0.387198"
      ]
     },
     "metadata": {},
     "output_type": "display_data"
    }
   ],
   "source": [
    "kf_unknown.R"
   ]
  }
 ],
 "metadata": {
  "kernelspec": {
   "display_name": "Julia 1.9.3",
   "language": "julia",
   "name": "julia-1.9"
  },
  "language_info": {
   "file_extension": ".jl",
   "mimetype": "application/julia",
   "name": "julia",
   "version": "1.9.3"
  }
 },
 "nbformat": 4,
 "nbformat_minor": 2
}
