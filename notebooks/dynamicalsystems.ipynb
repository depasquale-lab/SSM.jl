{
 "cells": [
  {
   "cell_type": "code",
   "execution_count": 1,
   "metadata": {},
   "outputs": [
    {
     "name": "stderr",
     "output_type": "stream",
     "text": [
      "\u001b[32m\u001b[1m  Activating\u001b[22m\u001b[39m project at `\\Users\\ryansenne\\Documents\\GitHub\\SSM`\n"
     ]
    }
   ],
   "source": [
    "using Pkg\n",
    "Pkg.activate(\"/Users/ryansenne/Documents/GitHub/SSM\")\n",
    "\n",
    "include(\"/Users/ryansenne/Documents/GitHub/SSM//src/SSM.jl\")\n",
    "using .SSM\n",
    "using LinearAlgebra\n",
    "using Random\n",
    "using Distributions\n",
    "using Plots\n",
    "using CSV\n",
    "using DataFrames\n",
    "using BenchmarkTools"
   ]
  },
  {
   "cell_type": "code",
   "execution_count": null,
   "metadata": {},
   "outputs": [],
   "source": [
    "# Generate data from a known dynamical system--a pendulum\n",
    "g = 9.81 # gravity\n",
    "l = 1.0 # length of pendulum\n",
    "dt = 0.001 # time step\n",
    "T = 0.004 # total time\n",
    "# Discrete-time dynamics\n",
    "A = [1.0 dt; -g/l*dt 1.0]\n",
    "# Initial state\n",
    "x0 = [0.0; 1.0]\n",
    "# Time vector\n",
    "t = 0:dt:T\n",
    "# Generate data\n",
    "x = zeros(2, length(t))\n",
    "x[:,1] = x0\n",
    "for i = 2:length(t)\n",
    "    x[:,i] = A*x[:,i-1]\n",
    "end\n",
    "\n",
    "# Now lets add noise to the system and see if we can recover the dynamics\n",
    "# Add driving Gaussian noise to simulate observations\n",
    "x_noisy = zeros(2, length(t))\n",
    "x_noisy[:, 1] = x0\n",
    "observation_noise_std = 0.5\n",
    "\n",
    "noise = rand(Normal(0, observation_noise_std), (2, length(t)))\n",
    "\n",
    "for i in 2:length(t)\n",
    "    x_noisy[:, i] = A * x[:, i-1] + noise[:, i]\n",
    "end\n",
    "\n",
    "# Define the LDS model parameters\n",
    "H = I(2)  # Observation matrix (assuming direct observation)\n",
    "Q = 1e-8 * I(2)  # Process noise covariance\n",
    "R = 0.25 * I(2)  # Observation noise covariance\n",
    "P0 = 1e-2 * I(2)  # Initial state covariance\n",
    "x0 = [0.0; 1.0]  # Initial state mean\n",
    "\n",
    "# Create the Kalman filter parameter vector\n",
    "kf = LDS(A, Matrix{Float64}(H), nothing, Matrix{Float64}(Q), Matrix{Float64}(R), x0, Matrix{Float64}(P0), nothing, 2, 2, ector([true, true, false, true, true, true, true, false]))\n",
    "\n",
    "# Run the Kalman filter\n",
    "x_filt, p_filt, x_pred, p_pred, v, F, K, ll = KalmanFilter(kf, Matrix{Float64}(x_noisy'))\n",
    "# Run the smoother\n",
    "x_smooth, P_smooth = KalmanSmoother(kf, Matrix{Float64}(x_noisy'))"
   ]
  },
  {
   "cell_type": "code",
   "execution_count": 9,
   "metadata": {},
   "outputs": [
    {
     "ename": "UndefVarError",
     "evalue": "UndefVarError: `kf` not defined",
     "output_type": "error",
     "traceback": [
      "UndefVarError: `kf` not defined\n",
      "\n",
      "Stacktrace:\n",
      " [1] top-level scope\n",
      "   @ c:\\Users\\ryansenne\\Documents\\GitHub\\SSM\\notebooks\\dynamicalsystems.ipynb:4"
     ]
    }
   ],
   "source": [
    "# calculate the predictions of X\n",
    "using Profile\n",
    "x_prediction = zeros(length(t), 2)\n",
    "x_prediction[1, :] = kf.x0\n",
    "for t in 2:length(t)\n",
    "    x_prediction[t, :] = kf.A * x_prediction[t-1, :]\n",
    "end\n",
    "\n",
    "@profile x_new = SSM.newton_raphson_tridg!(kf, x_prediction, x_noisy', 10, 1e-3)"
   ]
  },
  {
   "cell_type": "code",
   "execution_count": 13,
   "metadata": {},
   "outputs": [
    {
     "ename": "UndefVarError",
     "evalue": "UndefVarError: `x_new` not defined",
     "output_type": "error",
     "traceback": [
      "UndefVarError: `x_new` not defined\n",
      "\n",
      "Stacktrace:\n",
      " [1] top-level scope\n",
      "   @ c:\\Users\\ryansenne\\Documents\\GitHub\\SSM\\notebooks\\dynamicalsystems.ipynb:3"
     ]
    }
   ],
   "source": [
    "using ForwardDiff\n",
    "# H = ForwardDiff.hessian(x -> SSM.loglikelihood(x', kf, x_noisy[1:2, 1:100]'), x_prediction')\n",
    "G = ForwardDiff.gradient(x -> SSM.loglikelihood(x', kf, x_noisy'), x_new')\n",
    "G = reshape(G, 10, 1)"
   ]
  },
  {
   "cell_type": "code",
   "execution_count": 7,
   "metadata": {},
   "outputs": [
    {
     "name": "stdout",
     "output_type": "stream",
     "text": [
      "Log-likelihood at iteration 1: -18.52416478401385\n",
      "Log-likelihood at iteration 2: -7.990402782400094\n",
      "Log-likelihood at iteration 3: -5.2683120641671835\n",
      "Log-likelihood at iteration 4: -2.950020329353198\n",
      "Log-likelihood at iteration 5: -1.4362789886824838\n",
      "Log-likelihood at iteration 6: -0.5831952403829748\n",
      "Log-likelihood at iteration 7: -0.10149535390573794\n",
      "Log-likelihood at iteration 8: 0.23883769486552187\n",
      "Log-likelihood at iteration 9: 0.5449513014075665\n",
      "Log-likelihood at iteration 10: 0.835997801659804\n",
      "Log-likelihood at iteration 11: 1.0965240155787668\n",
      "Log-likelihood at iteration 12: 1.3146652596502049\n",
      "Log-likelihood at iteration 13: 1.4925552977574406\n",
      "Log-likelihood at iteration 14: 1.6392075378301996\n",
      "Log-likelihood at iteration 15: 1.7633783155448162\n",
      "Log-likelihood at iteration 16: 1.871302083761674\n",
      "Log-likelihood at iteration 17: 1.966971600285421\n",
      "Log-likelihood at iteration 18: 2.052923248624639\n",
      "Log-likelihood at iteration 19: 2.130846014733386\n",
      "Log-likelihood at iteration 20: 2.201946657941913\n",
      "Log-likelihood at iteration 21: 2.2671482801469853\n",
      "Log-likelihood at iteration 22: 2.3271953730249724\n"
     ]
    },
    {
     "name": "stdout",
     "output_type": "stream",
     "text": [
      "Log-likelihood at iteration 23: 2.382710487506915\n",
      "Log-likelihood at iteration 24: 2.434226583236436\n",
      "Log-likelihood at iteration 25: 2.4822070580179934\n",
      "Log-likelihood at iteration 26: 2.52705928734588\n",
      "Log-likelihood at iteration 27: 2.569144510117078\n",
      "Log-likelihood at iteration 28: 2.608785477564656\n",
      "Log-likelihood at iteration 29: 2.6462726116954904\n",
      "Log-likelihood at iteration 30: 2.6818690967535206\n",
      "Log-likelihood at iteration 31: 2.715815165069909\n",
      "Log-likelihood at iteration 32: 2.7483317509858702\n",
      "Log-likelihood at iteration 33: 2.779623634064952\n",
      "Log-likelihood at iteration 34: 2.809882157565098\n",
      "Log-likelihood at iteration 35: 2.839287581765398\n",
      "Log-likelihood at iteration 36: 2.868011110229478\n",
      "Log-likelihood at iteration 37: 2.896216608482021\n",
      "Log-likelihood at iteration 38: 2.924062018034876\n",
      "Log-likelihood at iteration 39: 2.9517004540966907\n",
      "Log-likelihood at iteration 40: 2.9792809631736072\n",
      "Log-likelihood at iteration 41: 3.006948908272053\n",
      "Log-likelihood at iteration 42: 3.034845946310741\n",
      "Log-likelihood at iteration 43: 3.063109566797664\n",
      "Log-likelihood at iteration 44: 3.091872175017177\n",
      "Log-likelihood at iteration 45: 3.1212597284466193\n",
      "Log-likelihood at iteration 46: 3.151389971863631\n",
      "Log-likelihood at iteration 47: 3.1823703621505315\n",
      "Log-likelihood at iteration 48: 3.2142958225653038\n",
      "Log-likelihood at iteration 49: 3.2472465097554406\n",
      "Log-likelihood at iteration 50: 3.2812858049135603\n",
      "Log-likelihood at iteration 51: 3.3164587439093656\n",
      "Log-likelihood at iteration 52: 3.352791074476501\n",
      "Log-likelihood at iteration 53: 3.3902890723295998\n",
      "Log-likelihood at iteration 54: 3.4289401702106077\n",
      "Log-likelihood at iteration 55: 3.468714367571519\n",
      "Log-likelihood at iteration 56: 3.509566309115039\n",
      "Log-likelihood at iteration 57: 3.5514378608373933\n",
      "Log-likelihood at iteration 58: 3.5942609802593877\n",
      "Log-likelihood at iteration 59: 3.6379606743665462\n"
     ]
    },
    {
     "name": "stdout",
     "output_type": "stream",
     "text": [
      "Log-likelihood at iteration 60: 3.6824578599007887\n",
      "Log-likelihood at iteration 61: 3.7276719781290772\n",
      "Log-likelihood at iteration 62: 3.773523261311382\n",
      "Log-likelihood at iteration 63: 3.8199345931998057\n",
      "Log-likelihood at iteration 64: 3.8668329456771375\n",
      "Log-likelihood at iteration 65: 3.914150405176045\n",
      "Log-likelihood at iteration 66: 3.96182482494466\n",
      "Log-likelihood at iteration 67: 4.009800153086844\n",
      "Log-likelihood at iteration 68: 4.058026492945886\n",
      "Log-likelihood at iteration 69: 4.1064599534295745\n",
      "Log-likelihood at iteration 70: 4.155062343908339\n",
      "Log-likelihood at iteration 71: 4.203800762749817\n",
      "Log-likelihood at iteration 72: 4.25264712153426\n",
      "Log-likelihood at iteration 73: 4.301577639415365"
     ]
    },
    {
     "name": "stdout",
     "output_type": "stream",
     "text": [
      "\n",
      "Log-likelihood at iteration 74: 4.350572334597928\n",
      "Log-likelihood at iteration 75: 4.399614532934363\n",
      "Log-likelihood at iteration 76: 4.448690407496795\n",
      "Log-likelihood at iteration 77: 4.497788557786712\n",
      "Log-likelihood at iteration 78: 4.546899633051408\n",
      "Log-likelihood at iteration 79: 4.596016000950456\n",
      "Log-likelihood at iteration 80: 4.645131460463995\n",
      "Log-likelihood at iteration 81: 4.694240996336821\n",
      "Log-likelihood at iteration 82: 4.743340571380962\n",
      "Log-likelihood at iteration 83: 4.792426952468861\n",
      "Log-likelihood at iteration 84: 4.841497565923984\n",
      "Log-likelihood at iteration 85: 4.890550378142736\n",
      "Log-likelihood at iteration 86: 4.939583797573093\n",
      "Log-likelihood at iteration 87: 4.988596594556411\n",
      "Log-likelihood at iteration 88: 5.03758783596391\n",
      "Log-likelihood at iteration 89: 5.0865568319853605\n",
      "Log-likelihood at iteration 90: 5.135503092831577\n",
      "Log-likelihood at iteration 91: 5.184426293480691\n",
      "Log-likelihood at iteration 92: 5.233326244927835\n",
      "Log-likelihood at iteration 93: 5.282202870674976\n",
      "Log-likelihood at iteration 94: 5.331056187439762\n",
      "Log-likelihood at iteration 95: 5.379886289260569\n",
      "Log-likelihood at iteration 96: 5.428693334335705\n",
      "Log-likelihood at iteration 97: 5.47747753407221\n",
      "Log-likelihood at iteration 98: 5.526239143922871\n",
      "Log-likelihood at iteration 99: "
     ]
    },
    {
     "name": "stdout",
     "output_type": "stream",
     "text": [
      "5.574978455679801\n",
      "Log-likelihood at iteration 100: 5.6236957909577825\n"
     ]
    },
    {
     "data": {
      "text/plain": [
       "(LDS([-0.30347035021863217 0.11714450210987123; 0.10259424393111494 0.9730242962817144], [0.2903580638604299 -0.191059849057932; 0.1995781043798704 0.5041376165573054], nothing, [1.7428426335202243 -0.09614114619032993; -0.09614114619032993 0.006313597398528437], [0.01914088403511903 -0.03034701363592889; -0.03034701363592889 0.049408734739383044], [0.9817541531574818, 1.7644164393906965], [0.0003390913022373043 -0.0001590485758111715; -0.0001590485758111715 0.0004655070686760965], nothing, 2, 2, Bool[1, 1, 1, 1, 1, 1]), 5.6236957909577825)"
      ]
     },
     "metadata": {},
     "output_type": "display_data"
    }
   ],
   "source": [
    "# need to use previously aquired pendulum data for comparison\n",
    "pendulum_data = CSV.read(\"/Users/ryansenne/Documents/GitHub/SSM/notebooks/pendulum_data_1.csv\", DataFrame)\n",
    "\n",
    "# convert x_noisy columns to matrix for use \n",
    "x_noisy =  Matrix(pendulum_data[1:10, 3:4])\n",
    "\n",
    "# now create a Kalman Filter where we want to learn the parameters\n",
    "A = [0.1 0.2; 0.3 0.4]\n",
    "H = [1 0.0; 0.0 1]\n",
    "Q = 1 * I(2)\n",
    "R = 1 * I(2)\n",
    "p0 = 1 * I(2)\n",
    "x0 = [0.0, 1.0]\n",
    "\n",
    "# kf = LDS(A, Matrix{Float64}(H), nothing, Matrix{Float64}(Q), Matrix{Float64}(R), x0, Matrix{Float64}(P0), nothing, 2, 2, \"Gaussian\", Vector([true, true, false, true, true, true, true, false]))\n",
    "kf_unknown = LDS(A, H, nothing, Q, R, x0, p0, nothing, 2, 2, [true, true, true, true, true, true])\n",
    "# SSM.pca_init!(kf_unknown, x_noisy)\n",
    "\n",
    "SSM.KalmanFilterEM!(kf_unknown, Matrix{Float64}(x_noisy), 100)"
   ]
  },
  {
   "cell_type": "code",
   "execution_count": 15,
   "metadata": {},
   "outputs": [
    {
     "data": {
      "text/plain": [
       "([0.0 1.0; 0.22566239984008948 0.45610640028696026; … ; -0.08326931777853783 -0.04415219514174039; -0.015233336622534323 0.0071783586296058285], [0.5 0.0; -0.02159198891631108 -0.006507611970760366; … ; -0.06016781257525112 -0.0807295298198789; -0.060184103980500656 -0.08076049549473423;;; 0.0 0.5; -0.006507611970760364 0.1163386778832134; … ; -0.0807295298198789 -0.02941233463191853; -0.08076049549473423 -0.029471192232264215], [0.0 1.0; 0.2 0.4; … ; -0.01461213073443553 -0.034279829983049084; -0.01715737080620186 -0.042641673390257505], [1.0 0.0; -0.02108970643722805 -0.007209060966286943; … ; -0.05108643781697929 -0.07441658035128658; -0.05109705914105246 -0.07444003509608585;;; 0.0 1.0; -0.007209060966286943 0.1317083691926869; … ; -0.07441658035128658 -0.0227360002420455; -0.07444003509608585 -0.0227877946369636], [0.0 0.0; -1.3117510767744314 0.4088926756141953; … ; -0.25747359019323585 1.0423547610109465; -0.8353662184963082 0.5987052565231548], [2.0 0.0; 0.9789102935627719 -0.007209060966286943; … ; 0.9489135621830207 -0.07441658035128658; 0.9489029408589476 -0.07444003509608585;;; 0.0 2.0; -0.007209060966286943 1.1317083691926868; … ; -0.07441658035128658 0.9772639997579545; -0.07444003509608585 0.9772122053630364], [0.5 0.0; -0.02159198891631108 -0.006507611970760366; … ; -0.060167812575251126 -0.0807295298198789; -0.06018410398050069 -0.08076049549473426;;; 0.0 0.5; -0.006507611970760367 0.11633867788321342; … ; -0.08072952981987888 -0.02941233463191852; -0.08076049549473423 -0.029471192232264222], -14.661677054541968)"
      ]
     },
     "metadata": {},
     "output_type": "display_data"
    }
   ],
   "source": [
    "x_filt, p_filt, x_pred, p_pred, v, S, K, ll =SSM.KalmanFilter(kf_unknown, Matrix{Float64}(x_noisy))"
   ]
  },
  {
   "cell_type": "code",
   "execution_count": 28,
   "metadata": {},
   "outputs": [
    {
     "name": "stdout",
     "output_type": "stream",
     "text": [
      "4.0\n",
      "1.1077890013538432\n",
      "0.9760529538224801\n",
      "0.9398591439616736\n",
      "0.9280005251778541\n",
      "0.9239155790544029\n",
      "0.9224841152765938\n",
      "0.9219794969436195\n",
      "0.9218012357723678\n",
      "0.9217382166871365\n"
     ]
    }
   ],
   "source": [
    "for i in 1:10\n",
    "    z = ((kf_unknown.H * p_pred[i, :, :] * kf_unknown.H') + kf_unknown.R)\n",
    "    println(det(z))\n",
    "end"
   ]
  },
  {
   "cell_type": "code",
   "execution_count": 21,
   "metadata": {},
   "outputs": [
    {
     "data": {
      "text/plain": [
       "2×2 Matrix{Float64}:\n",
       " -0.0555903  -0.072028\n",
       " -0.072028   -0.0128714"
      ]
     },
     "metadata": {},
     "output_type": "display_data"
    }
   ],
   "source": [
    "p_filt[4, :, :]"
   ]
  },
  {
   "cell_type": "code",
   "execution_count": 3,
   "metadata": {},
   "outputs": [
    {
     "data": {
      "text/plain": [
       "2×2 Matrix{Float64}:\n",
       "  0.300558  -0.170841\n",
       " -0.170841   0.387198"
      ]
     },
     "metadata": {},
     "output_type": "display_data"
    }
   ],
   "source": [
    "kf_unknown.R"
   ]
  }
 ],
 "metadata": {
  "kernelspec": {
   "display_name": "Julia 1.9.3",
   "language": "julia",
   "name": "julia-1.9"
  },
  "language_info": {
   "file_extension": ".jl",
   "mimetype": "application/julia",
   "name": "julia",
   "version": "1.9.3"
  }
 },
 "nbformat": 4,
 "nbformat_minor": 2
}
