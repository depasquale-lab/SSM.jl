{
 "cells": [
  {
   "cell_type": "code",
   "execution_count": 37,
   "metadata": {},
   "outputs": [
    {
     "name": "stderr",
     "output_type": "stream",
     "text": [
      "\u001b[32m\u001b[1m  Activating\u001b[22m\u001b[39m project at `c:\\Users\\brook\\Desktop\\Carson\\ssm_julia\\notebooks\\gaussian_regression`\n"
     ]
    }
   ],
   "source": [
    "# Make sure you have added the dev version of SSM julia to the local project env using \"dev /path/to/ssm_julia\" in the package manager REPL\n",
    "# Also add the Revise package to the local project env using \"add Revise\" in the package manager REPL\n",
    "\n",
    "using Pkg\n",
    "Pkg.activate(\".\")\n",
    "\n",
    "using Random\n",
    "using Distributions\n",
    "\n",
    "using Revise\n",
    "using SSM"
   ]
  },
  {
   "cell_type": "code",
   "execution_count": 38,
   "metadata": {},
   "outputs": [
    {
     "data": {
      "text/plain": [
       "matrix (generic function with 1 method)"
      ]
     },
     "metadata": {},
     "output_type": "display_data"
    }
   ],
   "source": [
    "function matrix(array)\n",
    "    return reshape(array,1,:)\n",
    "end"
   ]
  },
  {
   "cell_type": "code",
   "execution_count": 39,
   "metadata": {},
   "outputs": [
    {
     "name": "stdout",
     "output_type": "stream",
     "text": [
      "Data generated\n"
     ]
    }
   ],
   "source": [
    "covariance = [0.1 0;\n",
    "            0 0.1]\n",
    "coefficients = [3 3;\n",
    "                1 0.5;\n",
    "                0.5 1]\n",
    "\n",
    "model = GaussianRegression(coefficients, covariance, num_features=2, num_targets=2, include_intercept=true)\n",
    "\n",
    "n = 1000\n",
    "X = randn(n, 2)\n",
    "\n",
    "\n",
    "y = SSM.predict(model, X)\n",
    "\n",
    "\n",
    "# add some multidimensional gaussian noise with the covariance defined above \n",
    "y += rand(MvNormal(zeros(2), covariance), n)'\n",
    "\n",
    "println(\"Data generated\")"
   ]
  },
  {
   "cell_type": "code",
   "execution_count": 40,
   "metadata": {},
   "outputs": [
    {
     "name": "stdout",
     "output_type": "stream",
     "text": [
      "Log likelihood of the true model: -100.91084082247853\n",
      "Log likelihood of the poor model: -349.27859240898596\n"
     ]
    }
   ],
   "source": [
    "covariance = [0.1 0;\n",
    "            0 0.1]\n",
    "coefficients = [3 3;\n",
    "                .5 0.5;\n",
    "                0.5 .5]\n",
    "\n",
    "poor_model = GaussianRegression(coefficients, covariance, num_features=2, num_targets=2, include_intercept=true)\n",
    "\n",
    "println(\"Log likelihood of the true model: \", SSM.surrogate_loglikelihood(model, X, y))\n",
    "println(\"Log likelihood of the poor model: \", SSM.surrogate_loglikelihood(poor_model, X, y))"
   ]
  },
  {
   "cell_type": "code",
   "execution_count": 41,
   "metadata": {},
   "outputs": [
    {
     "name": "stdout",
     "output_type": "stream",
     "text": [
      "Gradient of the log likelihood: [19.40270167739677 0.9068681195086405; 523.7226401893729 -2.5668111444706274; 10.090092897707985 482.49598316786756]\n"
     ]
    }
   ],
   "source": [
    "#  Test the gradient function\n",
    "\n",
    "G = zeros(3, 2)\n",
    "\n",
    "surrogate_loglikelihood_gradient!(\n",
    "        G, \n",
    "        GaussianRegression(\n",
    "            poor_model.β, \n",
    "            poor_model.Σ, \n",
    "            num_features=model.num_features, \n",
    "            num_targets=model.num_targets, \n",
    "            include_intercept=model.include_intercept), \n",
    "        X, y)\n",
    "println(\"Gradient of the log likelihood: \", G)"
   ]
  },
  {
   "cell_type": "code",
   "execution_count": 42,
   "metadata": {},
   "outputs": [
    {
     "name": "stdout",
     "output_type": "stream",
     "text": [
      "made grad negative\n",
      "[3.0140712096333258 3.0057037335642827; 0.9966770160867894 0.5015664410098529; 0.5148059784431198 0.9906457596588751]\n",
      "New log likelihood of the poor model: -100.63900674064317\n"
     ]
    }
   ],
   "source": [
    "# fit the poor model, then print the new log likelihood\n",
    "SSM.fit!(poor_model, X, y)\n",
    "println(\"New log likelihood of the poor model: \", SSM.surrogate_loglikelihood(poor_model, X, y))"
   ]
  },
  {
   "cell_type": "code",
   "execution_count": 43,
   "metadata": {},
   "outputs": [
    {
     "name": "stdout",
     "output_type": "stream",
     "text": [
      "Poor model coefficients: [3.0140712096333258 3.0057037335642827; 0.9966770160867894 0.5015664410098529; 0.5148059784431198 0.9906457596588751]\n",
      "Poor model covariance: [0.09857594368009825 0.00030928956158332045; 0.00030928956158332045 0.10270206980118812]\n"
     ]
    }
   ],
   "source": [
    "# pring the poor model parameters\n",
    "println(\"Poor model coefficients: \", poor_model.β)\n",
    "println(\"Poor model covariance: \", poor_model.Σ)"
   ]
  }
 ],
 "metadata": {
  "kernelspec": {
   "display_name": "Julia 1.10.4",
   "language": "julia",
   "name": "julia-1.10"
  },
  "language_info": {
   "file_extension": ".jl",
   "mimetype": "application/julia",
   "name": "julia",
   "version": "1.10.4"
  }
 },
 "nbformat": 4,
 "nbformat_minor": 2
}
