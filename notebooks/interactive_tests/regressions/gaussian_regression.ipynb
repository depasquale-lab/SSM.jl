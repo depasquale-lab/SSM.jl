{
 "cells": [
  {
   "cell_type": "code",
   "execution_count": 2,
   "metadata": {},
   "outputs": [
    {
     "name": "stderr",
     "output_type": "stream",
     "text": [
      "\u001b[32m\u001b[1m  Activating\u001b[22m\u001b[39m project at `c:\\Users\\carso\\OneDrive\\Desktop\\DePasquale\\Ryan\\ssm_julia\\notebooks\\interactive_tests`\n"
     ]
    }
   ],
   "source": [
    "# Make sure you have added the dev version of SSM julia to the local project env using \"dev /path/to/ssm_julia\" in the package manager REPL\n",
    "\n",
    "using Pkg\n",
    "Pkg.activate(\"..\")\n",
    "Pkg.instantiate()\n",
    "\n",
    "using Random\n",
    "using Distributions\n",
    "\n",
    "using Revise\n",
    "using SSM"
   ]
  },
  {
   "cell_type": "markdown",
   "metadata": {},
   "source": [
    "## 2D features, 2D targets example"
   ]
  },
  {
   "cell_type": "code",
   "execution_count": 3,
   "metadata": {},
   "outputs": [
    {
     "name": "stdout",
     "output_type": "stream",
     "text": [
      "Data generated\n"
     ]
    }
   ],
   "source": [
    "covariance = [0.1 0;\n",
    "            0 0.1]\n",
    "coefficients = [3 3;\n",
    "                1 0.5;\n",
    "                0.5 1]\n",
    "\n",
    "model = GaussianRegression(coefficients, covariance, num_features=2, num_targets=2)\n",
    "\n",
    "n = 1000\n",
    "X = randn(n, 2)\n",
    "\n",
    "\n",
    "y = SSM.sample(model, X)\n",
    "\n",
    "\n",
    "println(\"Data generated\")"
   ]
  },
  {
   "cell_type": "code",
   "execution_count": 4,
   "metadata": {},
   "outputs": [
    {
     "name": "stdout",
     "output_type": "stream",
     "text": [
      "Log likelihood of the true model: -100.02526400882105\n",
      "Log likelihood of the estimate model: -340.5462240699704\n"
     ]
    }
   ],
   "source": [
    "covariance = [0.1 0;\n",
    "            0 0.1]\n",
    "coefficients = [3 3;\n",
    "                .5 0.5;\n",
    "                0.5 .5]\n",
    "\n",
    "est_model = GaussianRegression(coefficients, covariance, num_features=2, num_targets=2, include_intercept=true)\n",
    "\n",
    "println(\"Log likelihood of the true model: \", SSM.surrogate_loglikelihood(model, X, y))\n",
    "println(\"Log likelihood of the estimate model: \", SSM.surrogate_loglikelihood(est_model, X, y))"
   ]
  },
  {
   "cell_type": "code",
   "execution_count": 5,
   "metadata": {},
   "outputs": [
    {
     "name": "stdout",
     "output_type": "stream",
     "text": [
      "New log likelihood of the estimate model: -99.82691432173698\n"
     ]
    }
   ],
   "source": [
    "# fit the estimate model, then print the new log likelihood\n",
    "SSM.fit!(est_model, X, y)\n",
    "println(\"New log likelihood of the estimate model: \", SSM.surrogate_loglikelihood(est_model, X, y))"
   ]
  },
  {
   "cell_type": "code",
   "execution_count": 6,
   "metadata": {},
   "outputs": [
    {
     "name": "stdout",
     "output_type": "stream",
     "text": [
      "estimate model coefficients: [3.003565623740328 2.994996817549196; 0.9825623255024044 0.5017157945782659; 0.5070172653066574 1.0026537851809854]\n",
      "estimate model covariance: [0.09997984886792674 0.0002805540962094246; 0.0002805540962094246 0.09967397977554722]\n"
     ]
    }
   ],
   "source": [
    "# pring the estimate model parameters\n",
    "println(\"estimate model coefficients: \", est_model.β)\n",
    "println(\"estimate model covariance: \", est_model.Σ)"
   ]
  },
  {
   "cell_type": "code",
   "execution_count": 29,
   "metadata": {},
   "outputs": [
    {
     "name": "stdout",
     "output_type": "stream",
     "text": [
      "loglikelihood of estimate model - loglikelihood of estimate model: \n",
      "Simulation 1: -1.5536188017440082\n",
      "Simulation 2: -0.1827940770839689\n",
      "Simulation 3: -0.3631660583594254\n",
      "Simulation 4: -0.5901566912488576\n",
      "Simulation 5: -0.8381533694284968\n",
      "Simulation 6: -1.5487484936550366\n",
      "Simulation 7: -1.020177769230905\n",
      "Simulation 8: -0.8234174562334466\n",
      "Simulation 9: -0.21767312543774509\n",
      "Simulation 10: -0.7105504931943152\n",
      "Simulation 11: -0.8120875240012815\n",
      "Simulation 12: -2.044550543369013\n",
      "Simulation 13: -0.2991524079072079\n",
      "Simulation 14: -0.49195228937282565\n",
      "Simulation 15: -0.4200973375865331\n",
      "Simulation 16: -0.8865013292739761\n",
      "Simulation 17: -0.5573117144763025\n",
      "Simulation 18: -0.9554308264684721\n",
      "Simulation 19: -0.5895470026657605\n",
      "Simulation 20: -0.7578208511910205\n",
      "Simulation 21: -0.5217983210155523\n",
      "Simulation 22: -0.32428129422088503\n",
      "Simulation 23: -0.9226140588387253\n",
      "Simulation 24: -0.474362335450774\n",
      "Simulation 25: -0.8878889938996437\n",
      "Simulation 26: -1.6833282745519327\n",
      "Simulation 27: -0.48106440075657275\n",
      "Simulation 28: -0.3362930190343363\n",
      "Simulation 29: -1.1908217760731077\n",
      "Simulation 30: -0.3582671061896967\n",
      "Simulation 31: -0.9174719684915758\n",
      "Simulation 32: -0.748818750615488\n",
      "Simulation 33: -2.55080931367241\n",
      "Simulation 34: -1.0021266927948282\n",
      "Simulation 35: -0.6048414045386146\n",
      "Simulation 36: -1.5434562579752509\n",
      "Simulation 37: -1.1312177659000575\n",
      "Simulation 38: -1.100680543459724\n",
      "Simulation 39: -2.730303825226205\n",
      "Simulation 40: -2.269690142438474\n",
      "Simulation 41: -0.8826018389012908\n",
      "Simulation 42: -0.34449608644418106\n",
      "Simulation 43: -1.5390668525646234\n",
      "Simulation 44: -0.29916006739100354\n",
      "Simulation 45: -0.5396701601336567\n",
      "Simulation 46: -2.10746584909759\n",
      "Simulation 47: -0.1139801728694998\n",
      "Simulation 48: -0.551998883308805\n",
      "Simulation 49: -0.2963682058718078\n",
      "Simulation 50: -1.1432747536356587\n",
      "Simulation 51: -0.22488961492226167\n",
      "Simulation 52: -1.341404449340093\n",
      "Simulation 53: -0.8714221489384286\n",
      "Simulation 54: -0.5173962875965401\n",
      "Simulation 55: -1.029519868151585\n",
      "Simulation 56: -1.7858503571443336\n",
      "Simulation 57: -1.1879668602102598\n",
      "Simulation 58: -0.7179930936362844\n",
      "Simulation 59: -0.3103619806670501\n",
      "Simulation 60: -1.1521236055335464\n",
      "Simulation 61: -0.3441222500322745\n",
      "Simulation 62: -1.344813941306839\n",
      "Simulation 63: -0.23517931139740966\n",
      "Simulation 64: -0.6388374749638857\n",
      "Simulation 65: -0.6818523304010711\n",
      "Simulation 66: -0.26293220939074047\n",
      "Simulation 67: -0.5080149623035091\n",
      "Simulation 68: -0.9312576719896839\n",
      "Simulation 69: -1.8451952870339703\n",
      "Simulation 70: -0.562000192584712\n",
      "Simulation 71: -1.5266939713805705\n",
      "Simulation 72: -2.166043308169847\n",
      "Simulation 73: -0.11181494388523561\n",
      "Simulation 74: -0.7728432577993871\n",
      "Simulation 75: -0.5404800378110863\n",
      "Simulation 76: -2.637291520064018\n",
      "Simulation 77: -0.6782340042050592\n",
      "Simulation 78: -1.7788301980343562\n",
      "Simulation 79: -0.960468257281363\n",
      "Simulation 80: -0.540883648824817\n",
      "Simulation 81: -1.3715515687455522\n",
      "Simulation 82: -1.0057741257368242\n",
      "Simulation 83: -0.6389675604617544\n",
      "Simulation 84: -1.523317142495138\n",
      "Simulation 85: -0.3333876295374587\n",
      "Simulation 86: -0.6077693236638737\n",
      "Simulation 87: -0.47728865056176417\n",
      "Simulation 88: -0.25035028099861734\n",
      "Simulation 89: -1.2467246941133787\n",
      "Simulation 90: -1.389807287564654\n",
      "Simulation 91: -0.9943477726837671\n",
      "Simulation 92: -0.44355208794298306\n",
      "Simulation 93: -0.3185056053087294\n",
      "Simulation 94: -1.0896313673381357\n",
      "Simulation 95: -0.22375854086239144\n",
      "Simulation 96: -1.3979417639992846\n",
      "Simulation 97: -0.5022507443871334\n",
      "Simulation 98: -0.9133840133448956\n",
      "Simulation 99: -0.7041897899823901\n",
      "Simulation 100: -0.9804195004361347\n"
     ]
    }
   ],
   "source": [
    "covariance = [0.2 0;\n",
    "                0 0.4]\n",
    "coefficients = [1 1;\n",
    "                3 0.5\n",
    "                -1 2]\n",
    "\n",
    "model = GaussianRegression(coefficients, covariance, num_features=2, num_targets=2, include_intercept=true)\n",
    "\n",
    "n = 100\n",
    "\n",
    "println(\"loglikelihood of estimate model - loglikelihood of estimate model: \")\n",
    "for i in 1:100\n",
    "    X = randn(n, 2)\n",
    "    y = SSM.sample(model, X)\n",
    "    est_model = GaussianRegression(coefficients, covariance, num_features=2, num_targets=2, include_intercept=true)\n",
    "    SSM.fit!(est_model, X, y)\n",
    "    println(\"Simulation $(i): \", SSM.surrogate_loglikelihood(model, X, y) - SSM.surrogate_loglikelihood(est_model, X, y))\n",
    "end\n"
   ]
  }
 ],
 "metadata": {
  "kernelspec": {
   "display_name": "Julia 1.10.2",
   "language": "julia",
   "name": "julia-1.10"
  },
  "language_info": {
   "file_extension": ".jl",
   "mimetype": "application/julia",
   "name": "julia",
   "version": "1.10.2"
  }
 },
 "nbformat": 4,
 "nbformat_minor": 2
}
