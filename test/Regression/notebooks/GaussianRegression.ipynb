{
 "cells": [
  {
   "cell_type": "code",
   "execution_count": null,
   "metadata": {},
   "outputs": [],
   "source": [
    "using Random\n",
    "using Distributions\n",
    "using SSM"
   ]
  },
  {
   "cell_type": "markdown",
   "metadata": {},
   "source": [
    "## 2D features, 2D targets example"
   ]
  },
  {
   "cell_type": "code",
   "execution_count": null,
   "metadata": {},
   "outputs": [],
   "source": [
    "covariance = [0.1 0;\n",
    "            0 0.1]\n",
    "coefficients = [3 3;\n",
    "                1 0.5;\n",
    "                0.5 1]\n",
    "\n",
    "model = GaussianRegression(coefficients, covariance, num_features=2, num_targets=2)\n",
    "\n",
    "n = 1000\n",
    "X = randn(n, 2)\n",
    "\n",
    "\n",
    "y = SSM.sample(model, X)\n",
    "\n",
    "\n",
    "println(\"Data generated\")"
   ]
  },
  {
   "cell_type": "code",
   "execution_count": null,
   "metadata": {},
   "outputs": [],
   "source": [
    "covariance = [0.1 0;\n",
    "            0 0.1]\n",
    "coefficients = [3 3;\n",
    "                .5 0.5;\n",
    "                0.5 .5]\n",
    "\n",
    "est_model = GaussianRegression(coefficients, covariance, num_features=2, num_targets=2, include_intercept=true)\n",
    "\n",
    "println(\"Log likelihood of the true model: \", SSM.surrogate_loglikelihood(model, X, y))\n",
    "println(\"Log likelihood of the estimate model: \", SSM.surrogate_loglikelihood(est_model, X, y))"
   ]
  },
  {
   "cell_type": "code",
   "execution_count": null,
   "metadata": {},
   "outputs": [],
   "source": [
    "# fit the estimate model, then print the new log likelihood\n",
    "SSM.fit!(est_model, X, y)\n",
    "println(\"New log likelihood of the estimate model: \", SSM.surrogate_loglikelihood(est_model, X, y))"
   ]
  },
  {
   "cell_type": "code",
   "execution_count": null,
   "metadata": {},
   "outputs": [],
   "source": [
    "# pring the estimate model parameters\n",
    "println(\"estimate model coefficients: \", est_model.β)\n",
    "println(\"estimate model covariance: \", est_model.Σ)"
   ]
  },
  {
   "cell_type": "code",
   "execution_count": null,
   "metadata": {},
   "outputs": [],
   "source": [
    "covariance = [0.2 0;\n",
    "                0 0.4]\n",
    "coefficients = [1 1;\n",
    "                3 0.5\n",
    "                -1 2]\n",
    "\n",
    "model = GaussianRegression(coefficients, covariance, num_features=2, num_targets=2, include_intercept=true)\n",
    "\n",
    "n = 100\n",
    "\n",
    "println(\"loglikelihood of estimate model - loglikelihood of estimate model: \")\n",
    "for i in 1:100\n",
    "    X = randn(n, 2)\n",
    "    y = SSM.sample(model, X)\n",
    "    est_model = GaussianRegression(coefficients, covariance, num_features=2, num_targets=2, include_intercept=true)\n",
    "    SSM.fit!(est_model, X, y)\n",
    "    println(\"Simulation $(i): \", SSM.surrogate_loglikelihood(model, X, y) - SSM.surrogate_loglikelihood(est_model, X, y))\n",
    "end\n"
   ]
  }
 ],
 "metadata": {
  "kernelspec": {
   "display_name": "Julia 1.10.2",
   "language": "julia",
   "name": "julia-1.10"
  },
  "language_info": {
   "file_extension": ".jl",
   "mimetype": "application/julia",
   "name": "julia",
   "version": "1.10.2"
  }
 },
 "nbformat": 4,
 "nbformat_minor": 2
}
