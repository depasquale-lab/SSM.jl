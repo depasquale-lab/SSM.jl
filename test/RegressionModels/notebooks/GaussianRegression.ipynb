{
 "cells": [
  {
   "cell_type": "code",
   "execution_count": 4,
   "metadata": {},
   "outputs": [
    {
     "data": {
      "text/plain": [
       "test_GaussianRegression_valid_emission_model (generic function with 1 method)"
      ]
     },
     "metadata": {},
     "output_type": "display_data"
    }
   ],
   "source": [
    "using Revise\n",
    "using SSM\n",
    "using Distributions\n",
    "using ForwardDiff\n",
    "using LinearAlgebra\n",
    "using Random\n",
    "using StatsFuns\n",
    "using SpecialFunctions\n",
    "using Test\n",
    "\n",
    "include(\"../../helper_functions.jl\")\n",
    "include(\"../GaussianRegression.jl\")"
   ]
  },
  {
   "cell_type": "code",
   "execution_count": 5,
   "metadata": {},
   "outputs": [
    {
     "ename": "ErrorException",
     "evalue": "type EmissionModel has no field β",
     "output_type": "error",
     "traceback": [
      "type EmissionModel has no field β\n",
      "\n",
      "Stacktrace:\n",
      " [1] getproperty(x::EmissionModel{GaussianRegression}, f::Symbol)\n",
      "   @ Base .\\Base.jl:37\n",
      " [2] top-level scope\n",
      "   @ c:\\Users\\carso\\OneDrive\\Desktop\\DePasquale\\Ryan\\ssm_julia\\test\\RegressionModels\\notebooks\\jl_notebook_cell_df34fa98e69747e1a8f8a730347b8e2f_W1sZmlsZQ==.jl:2"
     ]
    }
   ],
   "source": [
    "em = EmissionModel{GaussianRegression}(GaussianRegression(input_dim=1, output_dim=1))\n",
    "em.β"
   ]
  },
  {
   "cell_type": "code",
   "execution_count": 2,
   "metadata": {},
   "outputs": [
    {
     "data": {
      "text/plain": [
       "\u001b[32m\u001b[1mTest Passed\u001b[22m\u001b[39m"
      ]
     },
     "metadata": {},
     "output_type": "display_data"
    }
   ],
   "source": [
    "test_GaussianRegression_loglikelihood()\n",
    "# not neccessary with validate_model (second opinion please confirm)\n",
    "# test_GaussianRegression_Σ()\n",
    "# test_GaussianRegression_constructor()\n",
    "test_GaussianRegression_objective_gradient()\n",
    "test_GaussianRegression_standard_fit()\n",
    "test_GaussianRegression_regularized_fit()"
   ]
  }
 ],
 "metadata": {
  "kernelspec": {
   "display_name": "Julia 1.10.2",
   "language": "julia",
   "name": "julia-1.10"
  },
  "language_info": {
   "file_extension": ".jl",
   "mimetype": "application/julia",
   "name": "julia",
   "version": "1.10.2"
  }
 },
 "nbformat": 4,
 "nbformat_minor": 2
}
