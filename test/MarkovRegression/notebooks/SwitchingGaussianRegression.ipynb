{
 "cells": [
  {
   "cell_type": "code",
   "execution_count": null,
   "metadata": {},
   "outputs": [],
   "source": [
    "using Random\n",
    "using Distributions\n",
    "using SSM"
   ]
  },
  {
   "cell_type": "markdown",
   "metadata": {},
   "source": [
    "## 1D features, 1D targets "
   ]
  },
  {
   "cell_type": "markdown",
   "metadata": {},
   "source": [
    "### generate data"
   ]
  },
  {
   "cell_type": "code",
   "execution_count": null,
   "metadata": {},
   "outputs": [],
   "source": [
    "model = SwitchingGaussianRegression(num_features=1, num_targets=1, K=2)\n",
    "\n",
    "model.A = [0.9 0.1;\n",
    "        0.1 0.9]\n",
    "\n",
    "model.πₖ = [1, 0]\n",
    "\n",
    "\n",
    "covariance = reshape([0.2], 1, 1)\n",
    "coefficients = reshape([3 0.5], 2, 1)\n",
    "\n",
    "emission_1 = RegressionEmissions(GaussianRegression(coefficients, covariance, num_features=1, num_targets=1))\n",
    "\n",
    "\n",
    "covariance = reshape([.1], 1, 1)\n",
    "coefficients = reshape([-1.0 2], 2, 1)\n",
    "\n",
    "emission_2 = RegressionEmissions(GaussianRegression(coefficients, covariance, num_features=1, num_targets=1))\n",
    "\n",
    "model.B[1] = emission_1\n",
    "model.B[2] = emission_2"
   ]
  },
  {
   "cell_type": "code",
   "execution_count": null,
   "metadata": {},
   "outputs": [],
   "source": [
    "n = 1000\n",
    "X = randn(n, 1)\n",
    "\n",
    "\n",
    "y, z = SSM.sample(model, X)"
   ]
  },
  {
   "cell_type": "markdown",
   "metadata": {},
   "source": [
    "### plot data"
   ]
  },
  {
   "cell_type": "code",
   "execution_count": null,
   "metadata": {},
   "outputs": [],
   "source": [
    "# plot a scatter of y as a function of X, and color the data points according to the state sequence z\n",
    "using Plots\n",
    "\n",
    "scatter(X, y, legend=false)\n",
    "xlabel!(\"X\")\n",
    "ylabel!(\"y\")\n",
    "title!(\"Scatter plot of y as a function of X\")\n",
    "\n"
   ]
  },
  {
   "cell_type": "code",
   "execution_count": null,
   "metadata": {},
   "outputs": [],
   "source": [
    "using Plots\n",
    "\n",
    "time = 1:length(y)\n",
    "\n",
    "scatter(time, y, zcolor=z[:,1], legend=false)\n",
    "xlabel!(\"Time\")\n",
    "ylabel!(\"y\")\n",
    "title!(\"Plot of y as a function of Time\")"
   ]
  },
  {
   "cell_type": "markdown",
   "metadata": {},
   "source": [
    "### fit estimator model"
   ]
  },
  {
   "cell_type": "code",
   "execution_count": null,
   "metadata": {},
   "outputs": [],
   "source": [
    "est_model = SwitchingGaussianRegression(num_features=1, num_targets=1, K=2)\n",
    "SSM.fit!(est_model, X, y)"
   ]
  },
  {
   "cell_type": "code",
   "execution_count": null,
   "metadata": {},
   "outputs": [],
   "source": [
    "print(est_model.B[1].regression.β)"
   ]
  },
  {
   "cell_type": "markdown",
   "metadata": {},
   "source": [
    "## 2D features, 2D targets"
   ]
  },
  {
   "cell_type": "markdown",
   "metadata": {},
   "source": [
    "### generate data"
   ]
  },
  {
   "cell_type": "code",
   "execution_count": null,
   "metadata": {},
   "outputs": [],
   "source": [
    "model = SwitchingGaussianRegression(num_features=2, num_targets=2, K=2)\n",
    "\n",
    "model.A = [0.9 0.1;\n",
    "        0.1 0.9]\n",
    "\n",
    "model.πₖ = [1, 0]\n",
    "\n",
    "\n",
    "covariance = [0.2 0;\n",
    "                0 0.4]\n",
    "coefficients = [1 1;\n",
    "                3 0.5\n",
    "                -1 2]\n",
    "\n",
    "emission_1 = RegressionEmissions(GaussianRegression(coefficients, covariance, num_features=2, num_targets=2))\n",
    "\n",
    "\n",
    "covariance = [0.5 0.3;\n",
    "                0.3 0.4]\n",
    "coefficients = [0 -1;\n",
    "                0.1 2\n",
    "                -2 4]\n",
    "\n",
    "emission_2 = RegressionEmissions(GaussianRegression(coefficients, covariance, num_features=2, num_targets=2))\n",
    "\n",
    "model.B[1] = emission_1\n",
    "model.B[2] = emission_2"
   ]
  },
  {
   "cell_type": "code",
   "execution_count": null,
   "metadata": {},
   "outputs": [],
   "source": [
    "n = 1000\n",
    "X = randn(n, 2)\n",
    "\n",
    "\n",
    "y, z = SSM.sample(model, X)"
   ]
  },
  {
   "cell_type": "markdown",
   "metadata": {},
   "source": [
    "### fit the estimator model"
   ]
  },
  {
   "cell_type": "code",
   "execution_count": null,
   "metadata": {},
   "outputs": [],
   "source": [
    "est_model = SwitchingGaussianRegression(num_features=2, num_targets=2, K=2)\n",
    "SSM.fit!(est_model, X, y)\n"
   ]
  },
  {
   "cell_type": "code",
   "execution_count": null,
   "metadata": {},
   "outputs": [],
   "source": [
    "est_model.B[1].regression.β"
   ]
  }
 ],
 "metadata": {
  "kernelspec": {
   "display_name": "Julia 1.10.2",
   "language": "julia",
   "name": "julia-1.10"
  },
  "language_info": {
   "file_extension": ".jl",
   "mimetype": "application/julia",
   "name": "julia",
   "version": "1.10.2"
  }
 },
 "nbformat": 4,
 "nbformat_minor": 2
}
