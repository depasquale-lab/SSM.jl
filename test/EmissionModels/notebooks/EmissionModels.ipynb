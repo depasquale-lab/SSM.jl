{
 "cells": [
  {
   "cell_type": "code",
   "execution_count": 5,
   "metadata": {},
   "outputs": [
    {
     "data": {
      "text/plain": [
       "test_regression_emissions (generic function with 1 method)"
      ]
     },
     "metadata": {},
     "output_type": "display_data"
    }
   ],
   "source": [
    "using Revise\n",
    "using SSM\n",
    "using Distributions\n",
    "using ForwardDiff\n",
    "using LinearAlgebra\n",
    "using Random\n",
    "using StatsFuns\n",
    "using SpecialFunctions\n",
    "using Test\n",
    "\n",
    "include(\"../../helper_functions.jl\")\n",
    "include(\"../EmissionModels.jl\")"
   ]
  },
  {
   "cell_type": "code",
   "execution_count": 6,
   "metadata": {},
   "outputs": [
    {
     "name": "stdout",
     "output_type": "stream",
     "text": [
      "-354459.6000606093\n",
      "-23308.74870674646\n",
      "-23308.746600853032\n",
      "-23308.742612557235\n",
      "-23308.73378674297\n",
      "-23308.712717990737\n",
      "-23308.66083443914\n",
      "-23308.5315720544\n",
      "-23308.208250792322\n",
      "-23307.398534407854\n",
      "-23305.368442905023\n",
      "-23300.258240572806\n",
      "-23287.22321772749\n",
      "-23252.733603404235\n",
      "-23153.42745396422\n",
      "-22824.776768639083\n",
      "-21679.384580246893\n",
      "-19852.106341176088\n",
      "-19439.940323989504\n",
      "-18709.069062195646\n",
      "-18019.18158586194\n",
      "-18013.118069273292\n",
      "-18013.118069273463\n"
     ]
    },
    {
     "data": {
      "text/plain": [
       "\u001b[32m\u001b[1mTest Passed\u001b[22m\u001b[39m"
      ]
     },
     "metadata": {},
     "output_type": "display_data"
    }
   ],
   "source": [
    "\n",
    "\n",
    "test_GaussianEmission()"
   ]
  }
 ],
 "metadata": {
  "kernelspec": {
   "display_name": "Julia 1.10.2",
   "language": "julia",
   "name": "julia-1.10"
  },
  "language_info": {
   "file_extension": ".jl",
   "mimetype": "application/julia",
   "name": "julia",
   "version": "1.10.2"
  }
 },
 "nbformat": 4,
 "nbformat_minor": 2
}
