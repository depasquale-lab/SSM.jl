{
 "cells": [
  {
   "cell_type": "code",
   "execution_count": 19,
   "metadata": {},
   "outputs": [
    {
     "data": {
      "text/plain": [
       "test_Gaussian_valid_emission_model (generic function with 1 method)"
      ]
     },
     "metadata": {},
     "output_type": "display_data"
    }
   ],
   "source": [
    "using Revise\n",
    "using SSM\n",
    "using Distributions\n",
    "using ForwardDiff\n",
    "using LinearAlgebra\n",
    "using Random\n",
    "using StatsFuns\n",
    "using SpecialFunctions\n",
    "using Test\n",
    "using Base.Iterators: flatten\n",
    "\n",
    "\n",
    "include(\"../../helper_functions.jl\")\n",
    "include(\"../Gaussian.jl\")"
   ]
  },
  {
   "cell_type": "code",
   "execution_count": 20,
   "metadata": {},
   "outputs": [
    {
     "data": {
      "text/plain": [
       "\u001b[32m\u001b[1mTest Passed\u001b[22m\u001b[39m"
      ]
     },
     "metadata": {},
     "output_type": "display_data"
    }
   ],
   "source": []
  },
  {
   "cell_type": "code",
   "execution_count": 21,
   "metadata": {},
   "outputs": [
    {
     "ename": "MethodError",
     "evalue": "MethodError: no method matching sample(::Gaussian, ::Int64)\n\nClosest candidates are:\n  sample(!Matched::GaussianMixtureModel, ::Int64)\n   @ SSM c:\\Users\\carso\\OneDrive\\Desktop\\DePasquale\\Ryan\\ssm_julia\\src\\MixtureModels.jl:91\n  sample(!Matched::HiddenMarkovModel, ::Any...; time_steps)\n   @ SSM c:\\Users\\carso\\OneDrive\\Desktop\\DePasquale\\Ryan\\ssm_julia\\src\\HiddenMarkovModels.jl:93\n  sample(!Matched::PoissonMixtureModel, ::Int64)\n   @ SSM c:\\Users\\carso\\OneDrive\\Desktop\\DePasquale\\Ryan\\ssm_julia\\src\\MixtureModels.jl:382\n  ...\n",
     "output_type": "error",
     "traceback": [
      "MethodError: no method matching sample(::Gaussian, ::Int64)\n",
      "\n",
      "Closest candidates are:\n",
      "  sample(!Matched::GaussianMixtureModel, ::Int64)\n",
      "   @ SSM c:\\Users\\carso\\OneDrive\\Desktop\\DePasquale\\Ryan\\ssm_julia\\src\\MixtureModels.jl:91\n",
      "  sample(!Matched::HiddenMarkovModel, ::Any...; time_steps)\n",
      "   @ SSM c:\\Users\\carso\\OneDrive\\Desktop\\DePasquale\\Ryan\\ssm_julia\\src\\HiddenMarkovModels.jl:93\n",
      "  sample(!Matched::PoissonMixtureModel, ::Int64)\n",
      "   @ SSM c:\\Users\\carso\\OneDrive\\Desktop\\DePasquale\\Ryan\\ssm_julia\\src\\MixtureModels.jl:382\n",
      "  ...\n",
      "\n",
      "\n",
      "Stacktrace:\n",
      " [1] top-level scope\n",
      "   @ c:\\Users\\carso\\OneDrive\\Desktop\\DePasquale\\Ryan\\ssm_julia\\test\\BasicModels\\notebooks\\jl_notebook_cell_df34fa98e69747e1a8f8a730347b8e2f_W2sZmlsZQ==.jl:9"
     ]
    }
   ],
   "source": [
    "\n",
    "true_model = Gaussian(data_dim=2)\n",
    "true_model.μ = [3.0, -2.0]\n",
    "true_model.Σ = [0.8 0.1; 0.1 2.0]\n",
    "\n",
    "# sample data\n",
    "n = 100\n",
    "Random.seed!(1)\n",
    "Y = SSM.sample(true_model, 100)\n",
    "\n",
    "# plot the data\n",
    "using Plots\n",
    "scatter(Y[:, 1], Y[:, 2], label=\"data\", legend=:topleft)"
   ]
  },
  {
   "cell_type": "code",
   "execution_count": 22,
   "metadata": {},
   "outputs": [
    {
     "name": "stdout",
     "output_type": "stream",
     "text": [
      "X: 1\n"
     ]
    }
   ],
   "source": [
    "function func(X, z...; n=1)\n",
    "    println(\"X: \", X)\n",
    "end\n",
    "\n",
    "func(1; n=2)"
   ]
  },
  {
   "cell_type": "code",
   "execution_count": 23,
   "metadata": {},
   "outputs": [
    {
     "ename": "UndefVarError",
     "evalue": "UndefVarError: `Y` not defined",
     "output_type": "error",
     "traceback": [
      "UndefVarError: `Y` not defined\n",
      "\n",
      "Stacktrace:\n",
      " [1] top-level scope\n",
      "   @ c:\\Users\\carso\\OneDrive\\Desktop\\DePasquale\\Ryan\\ssm_julia\\test\\BasicModels\\notebooks\\jl_notebook_cell_df34fa98e69747e1a8f8a730347b8e2f_W4sZmlsZQ==.jl:3"
     ]
    }
   ],
   "source": [
    "# fit an est_model to the data\n",
    "est_model = Gaussian(data_dim=2)\n",
    "SSM.fit!(est_model, Y)\n",
    "\n",
    "# compare the loglikelihoods and parameters\n",
    "println(\"True model: $(true_model)\")\n",
    "println(\"Estimated model: $(est_model)\")\n",
    "println(\"True loglikelihood: $(SSM.loglikelihood(true_model, Y))\")\n",
    "println(\"Estimated loglikelihood: $(SSM.loglikelihood(est_model, Y))\")\n",
    "println(\"True loglikelihood: $(sum(SSM.loglikelihood(true_model, Y, observation_wise=true)))\")\n"
   ]
  },
  {
   "cell_type": "code",
   "execution_count": 24,
   "metadata": {},
   "outputs": [],
   "source": []
  }
 ],
 "metadata": {
  "kernelspec": {
   "display_name": "Julia 1.10.2",
   "language": "julia",
   "name": "julia-1.10"
  },
  "language_info": {
   "file_extension": ".jl",
   "mimetype": "application/julia",
   "name": "julia",
   "version": "1.10.2"
  }
 },
 "nbformat": 4,
 "nbformat_minor": 2
}
