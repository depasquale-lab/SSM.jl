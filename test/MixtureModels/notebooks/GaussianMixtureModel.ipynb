{
 "cells": [
  {
   "cell_type": "code",
   "execution_count": 6,
   "metadata": {},
   "outputs": [
    {
     "data": {
      "text/plain": [
       "test_log_likelihood (generic function with 1 method)"
      ]
     },
     "metadata": {},
     "output_type": "display_data"
    }
   ],
   "source": [
    "using Revise\n",
    "using SSM\n",
    "using Distributions\n",
    "using ForwardDiff\n",
    "using LinearAlgebra\n",
    "using Random\n",
    "using StatsFuns\n",
    "using SpecialFunctions\n",
    "using Test\n",
    "\n",
    "include(\"../GaussianMixtureModel.jl\")"
   ]
  },
  {
   "cell_type": "code",
   "execution_count": 12,
   "metadata": {},
   "outputs": [
    {
     "name": "stdout",
     "output_type": "stream",
     "text": [
      "got to here\n",
      "but not here\n"
     ]
    }
   ],
   "source": [
    "k = 2\n",
    "data_dim = 2\n",
    "standard_data = randn(10, data_dim)\n",
    "\n",
    "\n",
    "\n",
    "gmm = GaussianMixtureModel(k, data_dim)\n",
    "\n",
    "println(\"but not here\")\n",
    "# Run E_Step\n",
    "# class_probabilities = SSM.E_Step(gmm, standard_data)"
   ]
  },
  {
   "cell_type": "code",
   "execution_count": 3,
   "metadata": {},
   "outputs": [
    {
     "data": {
      "text/plain": [
       "4.161737259140832"
      ]
     },
     "metadata": {},
     "output_type": "display_data"
    }
   ],
   "source": [
    "function matrix_func(A::Matrix{<:Real})\n",
    "    return sum(A)\n",
    "end\n",
    "\n",
    "A = randn(3, 3)\n",
    "matrix_func(A)"
   ]
  }
 ],
 "metadata": {
  "kernelspec": {
   "display_name": "Julia 1.10.2",
   "language": "julia",
   "name": "julia-1.10"
  },
  "language_info": {
   "file_extension": ".jl",
   "mimetype": "application/julia",
   "name": "julia",
   "version": "1.10.2"
  }
 },
 "nbformat": 4,
 "nbformat_minor": 2
}
